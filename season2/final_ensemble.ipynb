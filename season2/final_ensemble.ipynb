{
 "cells": [
  {
   "cell_type": "code",
   "execution_count": 10,
   "metadata": {},
   "outputs": [],
   "source": [
    "import numpy as np \n",
    "import pandas as pd \n",
    "from tensorflow.keras.models import *\n",
    "from tensorflow.keras.layers import *  \n",
    "from tensorflow.keras.callbacks import *\n",
    "import tensorflow_addons as tfa\n",
    "from tqdm import tqdm\n",
    "import time\n",
    "import random\n",
    "import math\n",
    "import matplotlib.pyplot as plt\n",
    "from sklearn.preprocessing import StandardScaler\n",
    "import tensorflow as tf\n",
    "from sklearn.model_selection import train_test_split\n",
    "from sklearn.preprocessing import MinMaxScaler\n",
    "from tensorflow_probability import distributions as tfd\n",
    "import seaborn as sns\n",
    "from keras.utils.np_utils import to_categorical\n",
    "import pywt"
   ]
  },
  {
   "cell_type": "code",
   "execution_count": 18,
   "metadata": {},
   "outputs": [],
   "source": [
    "# for additional feature engineering \n",
    "class Time2Vector(Layer):\n",
    "    def __init__(self, seq_len, **kwargs):\n",
    "        super(Time2Vector, self).__init__()\n",
    "        self.seq_len = seq_len\n",
    "\n",
    "    def build(self, input_shape):\n",
    "        '''Initialize weights and biases with shape (batch, seq_len)'''\n",
    "        self.weights_linear = self.add_weight(name='weight_linear',\n",
    "                                              shape=(int(self.seq_len),),\n",
    "                                              initializer='glorot_uniform',\n",
    "                                              trainable=True)\n",
    "    \n",
    "        self.bias_linear = self.add_weight(name='bias_linear',\n",
    "                                           shape=(int(self.seq_len),),\n",
    "                                           initializer='glorot_uniform',\n",
    "                                           trainable=True)\n",
    "    \n",
    "        self.weights_periodic = self.add_weight(name='weight_periodic',\n",
    "                                                shape=(int(self.seq_len),),\n",
    "                                                initializer='glorot_uniform',\n",
    "                                                trainable=True)\n",
    "\n",
    "        self.bias_periodic = self.add_weight(name='bias_periodic',\n",
    "                                             shape=(int(self.seq_len),),\n",
    "                                             initializer='glorot_uniform',\n",
    "                                             trainable=True)\n",
    "\n",
    "    def call(self, x):\n",
    "        '''Calculate linear and periodic time features'''\n",
    "        x = tf.math.reduce_mean(x[:,:,:], axis=-1) \n",
    "        time_linear = self.weights_linear * x + self.bias_linear # Linear time feature\n",
    "        time_linear = tf.expand_dims(time_linear, axis=-1) # Add dimension (batch, seq_len, 1)\n",
    "    \n",
    "        time_periodic = tf.math.sin(tf.multiply(x, self.weights_periodic) + self.bias_periodic)\n",
    "        time_periodic = tf.expand_dims(time_periodic, axis=-1) # Add dimension (batch, seq_len, 1)\n",
    "        return tf.concat([time_linear, time_periodic], axis=-1) # shape = (batch, seq_len, 2)\n",
    "   \n",
    "    def get_config(self): # Needed for saving and loading model with custom layer\n",
    "        config = super().get_config().copy()\n",
    "        config.update({'seq_len': self.seq_len})\n",
    "        return config\n"
   ]
  },
  {
   "cell_type": "code",
   "execution_count": 13,
   "metadata": {},
   "outputs": [
    {
     "data": {
      "text/plain": [
       "((10572180, 12), (919320, 12), (738300, 12), (535, 3))"
      ]
     },
     "execution_count": 13,
     "metadata": {},
     "output_type": "execute_result"
    }
   ],
   "source": [
    "## season 2 dataframes \n",
    "train_x_2 = pd.read_csv('train_x_df.csv')\n",
    "train_y_2 = pd.read_csv('train_y_df.csv') \n",
    "test_x_2 = pd.read_csv('test_x_df.csv') \n",
    "submission = pd.read_csv('sample_submission.csv') \n",
    "\n",
    "train_x_2.shape, train_y_2.shape, test_x_2.shape, submission.shape\n"
   ]
  },
  {
   "cell_type": "code",
   "execution_count": 14,
   "metadata": {},
   "outputs": [
    {
     "data": {
      "text/plain": [
       "((7661, 1380, 10), (7661, 120, 10), (535, 1380, 10))"
      ]
     },
     "execution_count": 14,
     "metadata": {},
     "output_type": "execute_result"
    }
   ],
   "source": [
    "def df2d_to_array3d(df_2d):\n",
    "    feature_size = df_2d.iloc[:,2:].shape[1]\n",
    "    time_size = len(df_2d.time.value_counts())\n",
    "    sample_size = len(df_2d.sample_id.value_counts())\n",
    "    array_3d = df_2d.iloc[:,2:].values.reshape([sample_size, time_size, feature_size])\n",
    "    return array_3d\n",
    "\n",
    "\n",
    "x_train = df2d_to_array3d(train_x_2) \n",
    "y_train = df2d_to_array3d(train_y_2) \n",
    "x_test = df2d_to_array3d(test_x_2) \n",
    "\n",
    "x_train.shape, y_train.shape, x_test.shape\n"
   ]
  },
  {
   "cell_type": "code",
   "execution_count": 31,
   "metadata": {},
   "outputs": [],
   "source": [
    "model1 = load_model('transformer_price_volume_noiseAug_epoch_009_val_1.125.h5', custom_objects = {'Time2Vector':Time2Vector}) \n"
   ]
  },
  {
   "cell_type": "code",
   "execution_count": 33,
   "metadata": {},
   "outputs": [],
   "source": [
    "\n",
    "model2 = load_model('transformer_price_volume_epoch_017_val_0.988.h5', custom_objects = {'Time2Vector':Time2Vector}) \n"
   ]
  },
  {
   "cell_type": "code",
   "execution_count": 25,
   "metadata": {},
   "outputs": [],
   "source": [
    "model3 = load_model('attention_price_volume_epoch_002_val_0.980.h5', custom_objects = {'Time2Vector':Time2Vector})\n"
   ]
  },
  {
   "cell_type": "code",
   "execution_count": 22,
   "metadata": {},
   "outputs": [
    {
     "name": "stderr",
     "output_type": "stream",
     "text": [
      "100%|██████████| 535/535 [00:00<00:00, 793.00it/s]\n"
     ]
    },
    {
     "data": {
      "text/plain": [
       "((64200, 30, 4), (64200, 30, 5))"
      ]
     },
     "execution_count": 22,
     "metadata": {},
     "output_type": "execute_result"
    }
   ],
   "source": [
    "seq_len=1500\n",
    "N = 30\n",
    "K = 120 \n",
    "features_price = 4 \n",
    "features_volume = 5\n",
    "\n",
    "X_test_price = [] \n",
    "X_test_volume = []\n",
    "\n",
    "for j in tqdm(range(x_test.shape[0]), position = 0, leave = True): \n",
    "    for i in range(seq_len-K-N-120, seq_len-K-N):\n",
    "        X_test_price.append(x_test[j, i:i+N, [1,2,3,4]])  \n",
    "        X_test_volume.append(x_test[j, i:i+N, [5,6,7,8,9]])\n",
    "\n",
    "X_test_price = np.asarray(X_test_price) \n",
    "X_test_volume = np.asarray(X_test_volume) \n",
    "\n",
    "X_test_price = X_test_price.reshape((-1,N,features_price)) \n",
    "X_test_volume = X_test_volume.reshape((-1,N,features_volume))\n",
    "\n",
    "X_test_price.shape, X_test_volume.shape\n"
   ]
  },
  {
   "cell_type": "code",
   "execution_count": 35,
   "metadata": {},
   "outputs": [],
   "source": [
    "pred1 = model1.predict([X_test_price, X_test_volume]).reshape((-1,120)) \n"
   ]
  },
  {
   "cell_type": "code",
   "execution_count": 36,
   "metadata": {},
   "outputs": [],
   "source": [
    "pred2 = model2.predict([X_test_price, X_test_volume]).reshape((-1,120)) "
   ]
  },
  {
   "cell_type": "code",
   "execution_count": 37,
   "metadata": {},
   "outputs": [],
   "source": [
    "pred3 = model3.predict([X_test_price, X_test_volume]).reshape((-1,120)) "
   ]
  },
  {
   "cell_type": "code",
   "execution_count": 38,
   "metadata": {},
   "outputs": [
    {
     "data": {
      "text/plain": [
       "((535, 120), (535, 120), (535, 120))"
      ]
     },
     "execution_count": 38,
     "metadata": {},
     "output_type": "execute_result"
    }
   ],
   "source": [
    "pred1.shape, pred2.shape, pred3.shape "
   ]
  },
  {
   "cell_type": "code",
   "execution_count": 39,
   "metadata": {},
   "outputs": [
    {
     "name": "stderr",
     "output_type": "stream",
     "text": [
      "100%|██████████| 535/535 [00:00<00:00, 6766.33it/s]\n"
     ]
    }
   ],
   "source": [
    "# take the maximum predictions for each predictions \n",
    "\n",
    "preds = np.zeros((535,120)) \n",
    "\n",
    "for i in tqdm(range(535)): \n",
    "    for j in range(120): \n",
    "        preds[i,j] = max(pred1[i,j],pred2[i,j],pred3[i,j]) "
   ]
  },
  {
   "cell_type": "code",
   "execution_count": 52,
   "metadata": {},
   "outputs": [
    {
     "data": {
      "text/plain": [
       "[<matplotlib.lines.Line2D at 0x7f7e293afa20>]"
      ]
     },
     "execution_count": 52,
     "metadata": {},
     "output_type": "execute_result"
    },
    {
     "data": {
      "image/png": "[encoded data removed]",
      "text/plain": [
       "<Figure size 432x288 with 1 Axes>"
      ]
     },
     "metadata": {
      "needs_background": "light"
     },
     "output_type": "display_data"
    }
   ],
   "source": [
    "plt.plot(preds[3])"
   ]
  },
  {
   "cell_type": "code",
   "execution_count": 43,
   "metadata": {},
   "outputs": [
    {
     "name": "stderr",
     "output_type": "stream",
     "text": [
      "100%|██████████| 535/535 [00:00<00:00, 187386.44it/s]\n"
     ]
    }
   ],
   "source": [
    "# adjust prices \n",
    "\n",
    "x_test_open = x_test[:,:,1] \n",
    "\n",
    "## Adjust predicted prices to be connected with the buy price \n",
    "for i in tqdm(range(preds.shape[0]), position = 0, leave = True):\n",
    "    buy_price = x_test_open[i,-1] \n",
    "    if preds[i,0] > buy_price:\n",
    "        diff = preds[i,0] - buy_price \n",
    "        preds[i,:] -= diff \n",
    "    elif preds[i,0] < buy_price:  \n",
    "        diff = buy_price - preds[i,0] \n",
    "        preds[i,:] += diff\n"
   ]
  },
  {
   "cell_type": "code",
   "execution_count": 49,
   "metadata": {},
   "outputs": [
    {
     "name": "stderr",
     "output_type": "stream",
     "text": [
      "100%|██████████| 535/535 [00:00<00:00, 13059.07it/s]\n"
     ]
    }
   ],
   "source": [
    "# create dataframe using bullish then all in \n",
    "\n",
    "buy_quantities = [] \n",
    "sell_times = [] \n",
    "\n",
    "for i in tqdm(range(preds.shape[0]), position = 0, leave = True): \n",
    "    sell_time = np.argmax(preds[i,:]) \n",
    "    sell_times.append(sell_time) \n",
    "    buy_price = x_test_open[i,-1]  \n",
    "    ma = np.mean(x_test_open[i,-10:]) \n",
    "    cnt = 0 \n",
    "    for j in range(120): \n",
    "        if preds[i,j] >= buy_price:    \n",
    "            cnt += 1 \n",
    "    buy_quantity = max((ma>buy_price)*1,cnt/120) \n",
    "    buy_quantities.append(buy_quantity)\n",
    "    \n",
    "submission.iloc[:,1] = buy_quantities \n",
    "submission.iloc[:,2] = sell_times  \n",
    "submission.to_csv('max_bullish_ensemble.csv',index=False)\n"
   ]
  },
  {
   "cell_type": "code",
   "execution_count": 50,
   "metadata": {},
   "outputs": [
    {
     "data": {
      "text/html": [
       "<div>\n",
       "<style scoped>\n",
       "    .dataframe tbody tr th:only-of-type {\n",
       "        vertical-align: middle;\n",
       "    }\n",
       "\n",
       "    .dataframe tbody tr th {\n",
       "        vertical-align: top;\n",
       "    }\n",
       "\n",
       "    .dataframe thead th {\n",
       "        text-align: right;\n",
       "    }\n",
       "</style>\n",
       "<table border=\"1\" class=\"dataframe\">\n",
       "  <thead>\n",
       "    <tr style=\"text-align: right;\">\n",
       "      <th></th>\n",
       "      <th>sample_id</th>\n",
       "      <th>buy_quantity</th>\n",
       "      <th>sell_time</th>\n",
       "    </tr>\n",
       "  </thead>\n",
       "  <tbody>\n",
       "    <tr>\n",
       "      <th>0</th>\n",
       "      <td>7661</td>\n",
       "      <td>1.000000</td>\n",
       "      <td>104</td>\n",
       "    </tr>\n",
       "    <tr>\n",
       "      <th>1</th>\n",
       "      <td>7662</td>\n",
       "      <td>0.941667</td>\n",
       "      <td>54</td>\n",
       "    </tr>\n",
       "    <tr>\n",
       "      <th>2</th>\n",
       "      <td>7663</td>\n",
       "      <td>1.000000</td>\n",
       "      <td>94</td>\n",
       "    </tr>\n",
       "    <tr>\n",
       "      <th>3</th>\n",
       "      <td>7664</td>\n",
       "      <td>0.191667</td>\n",
       "      <td>15</td>\n",
       "    </tr>\n",
       "    <tr>\n",
       "      <th>4</th>\n",
       "      <td>7665</td>\n",
       "      <td>0.850000</td>\n",
       "      <td>118</td>\n",
       "    </tr>\n",
       "    <tr>\n",
       "      <th>...</th>\n",
       "      <td>...</td>\n",
       "      <td>...</td>\n",
       "      <td>...</td>\n",
       "    </tr>\n",
       "    <tr>\n",
       "      <th>530</th>\n",
       "      <td>8191</td>\n",
       "      <td>0.083333</td>\n",
       "      <td>10</td>\n",
       "    </tr>\n",
       "    <tr>\n",
       "      <th>531</th>\n",
       "      <td>8192</td>\n",
       "      <td>1.000000</td>\n",
       "      <td>4</td>\n",
       "    </tr>\n",
       "    <tr>\n",
       "      <th>532</th>\n",
       "      <td>8193</td>\n",
       "      <td>0.850000</td>\n",
       "      <td>93</td>\n",
       "    </tr>\n",
       "    <tr>\n",
       "      <th>533</th>\n",
       "      <td>8194</td>\n",
       "      <td>0.050000</td>\n",
       "      <td>14</td>\n",
       "    </tr>\n",
       "    <tr>\n",
       "      <th>534</th>\n",
       "      <td>8195</td>\n",
       "      <td>0.116667</td>\n",
       "      <td>13</td>\n",
       "    </tr>\n",
       "  </tbody>\n",
       "</table>\n",
       "<p>535 rows × 3 columns</p>\n",
       "</div>"
      ],
      "text/plain": [
       "     sample_id  buy_quantity  sell_time\n",
       "0         7661      1.000000        104\n",
       "1         7662      0.941667         54\n",
       "2         7663      1.000000         94\n",
       "3         7664      0.191667         15\n",
       "4         7665      0.850000        118\n",
       "..         ...           ...        ...\n",
       "530       8191      0.083333         10\n",
       "531       8192      1.000000          4\n",
       "532       8193      0.850000         93\n",
       "533       8194      0.050000         14\n",
       "534       8195      0.116667         13\n",
       "\n",
       "[535 rows x 3 columns]"
      ]
     },
     "execution_count": 50,
     "metadata": {},
     "output_type": "execute_result"
    }
   ],
   "source": [
    "submission"
   ]
  },
  {
   "cell_type": "code",
   "execution_count": null,
   "metadata": {},
   "outputs": [],
   "source": []
  }
 ],
 "metadata": {
  "kernelspec": {
   "display_name": "Python 3",
   "language": "python",
   "name": "python3"
  },
  "language_info": {
   "codemirror_mode": {
    "name": "ipython",
    "version": 3
   },
   "file_extension": ".py",
   "mimetype": "text/x-python",
   "name": "python",
   "nbconvert_exporter": "python",
   "pygments_lexer": "ipython3",
   "version": "3.6.9"
  }
 },
 "nbformat": 4,
 "nbformat_minor": 4
}
