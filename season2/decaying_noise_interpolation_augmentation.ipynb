{
 "cells": [
  {
   "cell_type": "code",
   "execution_count": 1,
   "metadata": {},
   "outputs": [],
   "source": [
    "import numpy as np \n",
    "import pandas as pd \n",
    "from tensorflow.keras.models import *\n",
    "from tensorflow.keras.layers import *  \n",
    "from tensorflow.keras.callbacks import *\n",
    "import tensorflow_addons as tfa\n",
    "from tqdm import tqdm\n",
    "import time\n",
    "import random\n",
    "import math\n",
    "import matplotlib.pyplot as plt\n",
    "from sklearn.preprocessing import StandardScaler\n",
    "import tensorflow as tf\n",
    "from sklearn.model_selection import train_test_split\n",
    "from sklearn.preprocessing import MinMaxScaler\n",
    "from tensorflow_probability import distributions as tfd\n",
    "import seaborn as sns\n",
    "from keras.utils.np_utils import to_categorical\n",
    "import os\n",
    "from glob import glob\n",
    "import pywt"
   ]
  },
  {
   "cell_type": "markdown",
   "metadata": {},
   "source": [
    "# Load Data"
   ]
  },
  {
   "cell_type": "code",
   "execution_count": 2,
   "metadata": {},
   "outputs": [],
   "source": [
    "def plot_series(x_series, y_series, y_predicted):\n",
    "    #입력 series와 출력 series를 연속적으로 연결하여 시각적으로 보여주는 코드 입니다.\n",
    "    plt.plot(x_series, label = 'input_series')\n",
    "    plt.plot(np.arange(len(x_series), len(x_series)+len(y_series)),\n",
    "             y_series, label = 'actual_series') \n",
    "    plt.plot(np.arange(len(x_series), len(x_series)+len(y_predicted)),\n",
    "             y_predicted, label = 'predicted_series') \n",
    "    #plt.axhline(1, c = 'red')\n",
    "    plt.legend()\n"
   ]
  },
  {
   "cell_type": "code",
   "execution_count": 3,
   "metadata": {},
   "outputs": [],
   "source": [
    "def plot_predicted_series(x_series, y_predicted):\n",
    "    #입력 series와 출력 series를 연속적으로 연결하여 시각적으로 보여주는 코드 입니다.\n",
    "    plt.plot(x_series, label = 'input_series')\n",
    "    plt.plot(np.arange(len(x_series), len(x_series)+len(y_predicted)),\n",
    "             y_predicted, label = 'predicted_series') \n",
    "    #plt.axhline(1, c = 'red')\n",
    "    plt.legend()"
   ]
  },
  {
   "cell_type": "code",
   "execution_count": 4,
   "metadata": {},
   "outputs": [
    {
     "data": {
      "text/plain": [
       "((10572180, 12), (919320, 12), (738300, 12), (535, 3))"
      ]
     },
     "execution_count": 4,
     "metadata": {},
     "output_type": "execute_result"
    }
   ],
   "source": [
    "## season 2 dataframes \n",
    "train_x_2 = pd.read_csv('train_x_df.csv')\n",
    "train_y_2 = pd.read_csv('train_y_df.csv') \n",
    "test_x_2 = pd.read_csv('test_x_df.csv') \n",
    "submission = pd.read_csv('sample_submission.csv') \n",
    "\n",
    "train_x_2.shape, train_y_2.shape, test_x_2.shape, submission.shape"
   ]
  },
  {
   "cell_type": "code",
   "execution_count": 16,
   "metadata": {},
   "outputs": [
    {
     "data": {
      "text/plain": [
       "((7661, 1380, 10), (7661, 120, 10), (535, 1380, 10))"
      ]
     },
     "execution_count": 16,
     "metadata": {},
     "output_type": "execute_result"
    }
   ],
   "source": [
    "def df2d_to_array3d(df_2d):\n",
    "    feature_size = df_2d.iloc[:,2:].shape[1]\n",
    "    time_size = len(df_2d.time.value_counts())\n",
    "    sample_size = len(df_2d.sample_id.value_counts())\n",
    "    array_3d = df_2d.iloc[:,2:].values.reshape([sample_size, time_size, feature_size])\n",
    "    return array_3d\n",
    "\n",
    "\n",
    "x_train = df2d_to_array3d(train_x_2) \n",
    "y_train = df2d_to_array3d(train_y_2) \n",
    "x_test = df2d_to_array3d(test_x_2) \n",
    "\n",
    "x_train.shape, y_train.shape, x_test.shape"
   ]
  },
  {
   "cell_type": "code",
   "execution_count": 17,
   "metadata": {},
   "outputs": [
    {
     "data": {
      "text/plain": [
       "(7661, 1500, 10)"
      ]
     },
     "execution_count": 17,
     "metadata": {},
     "output_type": "execute_result"
    }
   ],
   "source": [
    "full_df = np.concatenate([x_train, y_train], axis = 1) \n",
    "full_df.shape"
   ]
  },
  {
   "cell_type": "code",
   "execution_count": 18,
   "metadata": {},
   "outputs": [
    {
     "data": {
      "text/plain": [
       "(7661, 1500, 4)"
      ]
     },
     "execution_count": 18,
     "metadata": {},
     "output_type": "execute_result"
    }
   ],
   "source": [
    "OHLC = full_df[:,:,[1,2,3,4]] \n",
    "OHLC.shape"
   ]
  },
  {
   "cell_type": "code",
   "execution_count": 19,
   "metadata": {},
   "outputs": [
    {
     "data": {
      "text/plain": [
       "(7661, 1500, 5)"
      ]
     },
     "execution_count": 19,
     "metadata": {},
     "output_type": "execute_result"
    }
   ],
   "source": [
    "volume_features = full_df[:,:,[5,6,7,8,9]]\n",
    "volume_features.shape"
   ]
  },
  {
   "cell_type": "markdown",
   "metadata": {},
   "source": [
    "# Train/Validation Split"
   ]
  },
  {
   "cell_type": "code",
   "execution_count": 20,
   "metadata": {},
   "outputs": [],
   "source": [
    "indexes = [i for i in range(7661)]\n",
    "train_idx, val_idx, _, _ = train_test_split(indexes, indexes, test_size = 0.1, random_state = 42)"
   ]
  },
  {
   "cell_type": "code",
   "execution_count": 21,
   "metadata": {},
   "outputs": [
    {
     "data": {
      "text/plain": [
       "((6894, 1500, 4), (767, 1500, 4))"
      ]
     },
     "execution_count": 21,
     "metadata": {},
     "output_type": "execute_result"
    }
   ],
   "source": [
    "train_price = OHLC[train_idx, :, :] \n",
    "val_price = OHLC[val_idx, :, :] \n",
    "\n",
    "train_volume = volume_features[train_idx, :, :] \n",
    "val_volume = volume_features[val_idx, :, :] \n",
    "\n",
    "train_price.shape, val_price.shape"
   ]
  },
  {
   "cell_type": "code",
   "execution_count": 22,
   "metadata": {},
   "outputs": [
    {
     "data": {
      "text/plain": [
       "((6894, 1500, 5), (767, 1500, 5))"
      ]
     },
     "execution_count": 22,
     "metadata": {},
     "output_type": "execute_result"
    }
   ],
   "source": [
    "train_volume.shape, val_volume.shape"
   ]
  },
  {
   "cell_type": "markdown",
   "metadata": {},
   "source": [
    "# Create Training Generator"
   ]
  },
  {
   "cell_type": "code",
   "execution_count": 179,
   "metadata": {},
   "outputs": [],
   "source": [
    "def noise_augmentation(arr): \n",
    "    ret = np.zeros(shape=arr.shape, dtype=np.float32)\n",
    "    for j in range(arr.shape[1]): \n",
    "        sample_price = arr[:,j] \n",
    "        rand_idx = np.random.randint(1,20)\n",
    "        transform_type = 'db'+str(rand_idx)\n",
    "        cA,cD = pywt.dwt(sample_price, transform_type) \n",
    "        K = sample_price.shape[0] / cA.shape[0] \n",
    "        #lamb = 0.1\n",
    "        #A = 0.25\n",
    "        #factor = 0.1 \n",
    "        #for idx in range(cD.shape[0]): \n",
    "        #    cD[idx] = cD[idx] + np.power((1-lamb), idx*K) * A * np.random.normal(0,factor*np.std(sample_price))\n",
    "        cD = cD + np.random.normal(0,np.random.uniform(0.0001,0.001))\n",
    "        reconstructed = pywt.idwt(cA,cD,transform_type) \n",
    "        assert (reconstructed >= 0).all()  \n",
    "        ret[:,j] = reconstructed \n",
    "    return ret "
   ]
  },
  {
   "cell_type": "code",
   "execution_count": 180,
   "metadata": {},
   "outputs": [
    {
     "data": {
      "text/plain": [
       "[<matplotlib.lines.Line2D at 0x7fd4650db860>]"
      ]
     },
     "execution_count": 180,
     "metadata": {},
     "output_type": "execute_result"
    },
    {
     "data": {
      "image/png": "[encoded data removed]",
      "text/plain": [
       "<Figure size 432x288 with 1 Axes>"
      ]
     },
     "metadata": {
      "needs_background": "light"
     },
     "output_type": "display_data"
    }
   ],
   "source": [
    "sample = OHLC[10,:,:] \n",
    "noised = noise_augmentation(sample)\n",
    "plt.plot(noised[:,0])"
   ]
  },
  {
   "cell_type": "code",
   "execution_count": 184,
   "metadata": {},
   "outputs": [
    {
     "data": {
      "text/plain": [
       "[<matplotlib.lines.Line2D at 0x7fd465024518>]"
      ]
     },
     "execution_count": 184,
     "metadata": {},
     "output_type": "execute_result"
    },
    {
     "data": {
      "image/png": "[encoded data removed]",
      "text/plain": [
       "<Figure size 432x288 with 1 Axes>"
      ]
     },
     "metadata": {
      "needs_background": "light"
     },
     "output_type": "display_data"
    }
   ],
   "source": [
    "buy_price = noised[1379,0] \n",
    "if buy_price > 1.0: \n",
    "    diff = buy_price -1.0 \n",
    "    noised -= diff \n",
    "elif buy_price < 1.0:  \n",
    "    diff = 1.0-buy_price\n",
    "    noised += diff \n",
    "plt.plot(noised[:,0])"
   ]
  },
  {
   "cell_type": "code",
   "execution_count": 185,
   "metadata": {},
   "outputs": [
    {
     "data": {
      "text/plain": [
       "array([0.9895771, 0.9939929, 0.9943828, ..., 1.0033121, 1.0021433,\n",
       "       1.0039614], dtype=float32)"
      ]
     },
     "execution_count": 185,
     "metadata": {},
     "output_type": "execute_result"
    }
   ],
   "source": [
    "noised[:,0]"
   ]
  },
  {
   "cell_type": "code",
   "execution_count": 182,
   "metadata": {},
   "outputs": [
    {
     "data": {
      "text/plain": [
       "[<matplotlib.lines.Line2D at 0x7fd4650b99e8>]"
      ]
     },
     "execution_count": 182,
     "metadata": {},
     "output_type": "execute_result"
    },
    {
     "data": {
      "image/png": "[encoded data removed]",
      "text/plain": [
       "<Figure size 432x288 with 1 Axes>"
      ]
     },
     "metadata": {
      "needs_background": "light"
     },
     "output_type": "display_data"
    }
   ],
   "source": [
    "plt.plot(sample[:,0])"
   ]
  },
  {
   "cell_type": "code",
   "execution_count": 186,
   "metadata": {},
   "outputs": [
    {
     "data": {
      "text/plain": [
       "array([0.99032378, 0.99399298, 0.99512947, ..., 1.00331211, 1.00288999,\n",
       "       1.00396144])"
      ]
     },
     "execution_count": 186,
     "metadata": {},
     "output_type": "execute_result"
    }
   ],
   "source": [
    "sample[:,0]"
   ]
  },
  {
   "cell_type": "code",
   "execution_count": 197,
   "metadata": {},
   "outputs": [],
   "source": [
    "def interpolation_augmentation(arr): \n",
    "    ret = np.zeros(shape=arr.shape, dtype=np.float32)\n",
    "    for j in range(arr.shape[1]): \n",
    "        sample_price = arr[:,j] \n",
    "        rand_idx = np.random.randint(1,20)\n",
    "        transform_type = 'db'+str(rand_idx)\n",
    "        cA,cD = pywt.dwt(sample_price, transform_type) \n",
    "        augmented = np.zeros(shape=cA.shape)\n",
    "        beta = 0.4  \n",
    "        for idx in range(cD.shape[0]): \n",
    "            neighbor = random.sample([1,2,3,4,5], 1)[0]\n",
    "            if idx+neighbor < cD.shape[0]:  \n",
    "                s_tilde = cD[idx+neighbor]\n",
    "            elif idx-neighbor >= 0: \n",
    "                s_tilde = cD[idx-neighbor]\n",
    "            s = cD[idx] \n",
    "            s_prime = (s_tilde - s) * beta + s \n",
    "            augmented[idx] = s_prime  \n",
    "        \n",
    "        reconstructed = pywt.idwt(cA,augmented,transform_type) \n",
    "        assert (reconstructed >= 0).all()  \n",
    "        ret[:,j] = reconstructed \n",
    "    return ret "
   ]
  },
  {
   "cell_type": "code",
   "execution_count": 198,
   "metadata": {},
   "outputs": [],
   "source": [
    "sample = OHLC[10,:,:]"
   ]
  },
  {
   "cell_type": "code",
   "execution_count": 199,
   "metadata": {},
   "outputs": [],
   "source": [
    "interpolated = interpolation_augmentation(sample)"
   ]
  },
  {
   "cell_type": "code",
   "execution_count": 200,
   "metadata": {},
   "outputs": [
    {
     "data": {
      "text/plain": [
       "[<matplotlib.lines.Line2D at 0x7fd464e46c18>]"
      ]
     },
     "execution_count": 200,
     "metadata": {},
     "output_type": "execute_result"
    },
    {
     "data": {
      "image/png": "[encoded data removed]",
      "text/plain": [
       "<Figure size 432x288 with 1 Axes>"
      ]
     },
     "metadata": {
      "needs_background": "light"
     },
     "output_type": "display_data"
    }
   ],
   "source": [
    "plt.plot(interpolated[:,0])"
   ]
  },
  {
   "cell_type": "code",
   "execution_count": 201,
   "metadata": {},
   "outputs": [
    {
     "data": {
      "text/plain": [
       "array([0.99079204, 0.99291706, 0.9962382 , ..., 1.0032129 , 1.0030688 ,\n",
       "       1.0038166 ], dtype=float32)"
      ]
     },
     "execution_count": 201,
     "metadata": {},
     "output_type": "execute_result"
    }
   ],
   "source": [
    "interpolated[:,0]"
   ]
  },
  {
   "cell_type": "code",
   "execution_count": 203,
   "metadata": {},
   "outputs": [
    {
     "data": {
      "text/plain": [
       "[<matplotlib.lines.Line2D at 0x7fd464d976a0>]"
      ]
     },
     "execution_count": 203,
     "metadata": {},
     "output_type": "execute_result"
    },
    {
     "data": {
      "image/png": "[encoded data removed]",
      "text/plain": [
       "<Figure size 432x288 with 1 Axes>"
      ]
     },
     "metadata": {
      "needs_background": "light"
     },
     "output_type": "display_data"
    }
   ],
   "source": [
    "buy_price = interpolated[1379,0] \n",
    "if buy_price > 1.0: \n",
    "    diff = buy_price-1.0 \n",
    "    interpolated -= diff \n",
    "elif buy_price < 1.0:  \n",
    "    diff = 1.0-buy_price \n",
    "    interpolated += diff  \n",
    "    \n",
    "plt.plot(interpolated[:,0])"
   ]
  },
  {
   "cell_type": "code",
   "execution_count": 204,
   "metadata": {},
   "outputs": [
    {
     "data": {
      "text/plain": [
       "array([0.9907143 , 0.99283934, 0.99616045, ..., 1.0031352 , 1.0029911 ,\n",
       "       1.0037389 ], dtype=float32)"
      ]
     },
     "execution_count": 204,
     "metadata": {},
     "output_type": "execute_result"
    }
   ],
   "source": [
    "interpolated[:,0]"
   ]
  },
  {
   "cell_type": "code",
   "execution_count": 93,
   "metadata": {},
   "outputs": [],
   "source": [
    "def valGenerator():\n",
    "    \n",
    "    for i in range(val_price.shape[0]): \n",
    "        volume = val_volume[i,:,:]\n",
    "        original = val_price[i,:,:] \n",
    "        \n",
    "        N = 30 \n",
    "        cnt = 0 \n",
    "        j = 0 \n",
    "        features_price = 4\n",
    "        features_volume = 5\n",
    "        \n",
    "        while j+N+K < 1500: \n",
    "            cur_price = original[j:j+N,:] \n",
    "            cur_volume = volume[j:j+N,:] \n",
    "            cur_target = original[j+N+K,0] \n",
    "            j += 1 \n",
    "            yield ((cur_price, cur_volume), cur_target)\n",
    "            \n",
    "val_dataset = tf.data.Dataset.from_generator(valGenerator, ((tf.float32,tf.float32),tf.float32), ((tf.TensorShape([30,4]), tf.TensorShape([30,5])),tf.TensorShape([1])))\n",
    "\n",
    "val_dataset = val_dataset.batch(256).prefetch(1)\n"
   ]
  },
  {
   "cell_type": "markdown",
   "metadata": {},
   "source": [
    "# Augment Train dataset "
   ]
  },
  {
   "cell_type": "code",
   "execution_count": 12,
   "metadata": {},
   "outputs": [
    {
     "name": "stderr",
     "output_type": "stream",
     "text": [
      "100%|██████████| 6894/6894 [15:33<00:00,  7.39it/s]\n"
     ]
    },
    {
     "data": {
      "text/plain": [
       "(6894, 1500, 4)"
      ]
     },
     "execution_count": 12,
     "metadata": {},
     "output_type": "execute_result"
    }
   ],
   "source": [
    "noised_price = np.zeros((train_price.shape[0], train_price.shape[1], train_price.shape[2]), dtype=np.float32) \n",
    "for i in tqdm(range(train_price.shape[0])):  \n",
    "    for j in range(train_price.shape[2]): \n",
    "        sample_price = train_price[i,:,j] \n",
    "        cA,cD = pywt.dwt(sample_price, 'db2') \n",
    "        \n",
    "        K = sample_price.shape[0] / cA.shape[0] \n",
    "        lamb = 0.1\n",
    "        A = 0.25\n",
    "        factor = 0.1 \n",
    "\n",
    "        for idx in range(cD.shape[0]): \n",
    "            cD[idx] = cD[idx] + np.power((1-lamb), idx*K) * A * np.random.normal(0,factor*np.std(sample_price))\n",
    "        reconstructed = pywt.idwt(cA,cD,'db2') \n",
    "        assert (reconstructed >= 0).all()  \n",
    "        noised_price[i,:,j] = reconstructed \n",
    "        \n",
    "noised_price.shape"
   ]
  },
  {
   "cell_type": "code",
   "execution_count": 13,
   "metadata": {},
   "outputs": [
    {
     "name": "stderr",
     "output_type": "stream",
     "text": [
      "100%|██████████| 6894/6894 [01:46<00:00, 64.96it/s]\n"
     ]
    },
    {
     "data": {
      "text/plain": [
       "(6894, 1500, 4)"
      ]
     },
     "execution_count": 13,
     "metadata": {},
     "output_type": "execute_result"
    }
   ],
   "source": [
    "interpolated_price = np.zeros((train_price.shape[0], train_price.shape[1], train_price.shape[2]))\n",
    "cnt = 0 \n",
    "beta = 0.25\n",
    "for i in tqdm(range(train_price.shape[0])): \n",
    "    for j in range(train_price.shape[2]): \n",
    "        sample_price = train_price[i,:,j] \n",
    "        cA,cD = pywt.dwt(sample_price, 'db2') \n",
    "        augmented = np.zeros(shape=cA.shape)\n",
    "        beta = 0.25  \n",
    "        for idx in range(cD.shape[0]): \n",
    "            neighbor = random.sample([1,2,3,4,5], 1)[0]\n",
    "            if idx+neighbor < cD.shape[0]:  \n",
    "                s_tilde = cD[idx+neighbor]\n",
    "            elif idx-neighbor >= 0: \n",
    "                s_tilde = cD[idx-neighbor]\n",
    "            s = cD[idx] \n",
    "            s_prime = (s_tilde - s) * beta + s \n",
    "            augmented[idx] = s_prime  \n",
    "        \n",
    "        reconstructed = pywt.idwt(cA,augmented,'db2') \n",
    "        assert (reconstructed >= 0).all()  \n",
    "        interpolated_price[i,:,j] = reconstructed \n",
    "\n",
    "interpolated_price.shape"
   ]
  },
  {
   "cell_type": "markdown",
   "metadata": {},
   "source": [
    "We compare the plots for the original data, the noised version and the interpolated version. "
   ]
  },
  {
   "cell_type": "code",
   "execution_count": 14,
   "metadata": {},
   "outputs": [
    {
     "data": {
      "text/plain": [
       "[<matplotlib.lines.Line2D at 0x7f7711559f28>]"
      ]
     },
     "execution_count": 14,
     "metadata": {},
     "output_type": "execute_result"
    },
    {
     "data": {
      "image/png": "[encoded data removed]",
      "text/plain": [
       "<Figure size 432x288 with 1 Axes>"
      ]
     },
     "metadata": {
      "needs_background": "light"
     },
     "output_type": "display_data"
    }
   ],
   "source": [
    "plt.plot(train_price[120,:,0]) "
   ]
  },
  {
   "cell_type": "code",
   "execution_count": 15,
   "metadata": {},
   "outputs": [
    {
     "data": {
      "text/plain": [
       "[<matplotlib.lines.Line2D at 0x7f77114bfc50>]"
      ]
     },
     "execution_count": 15,
     "metadata": {},
     "output_type": "execute_result"
    },
    {
     "data": {
      "image/png": "[encoded data removed]",
      "text/plain": [
       "<Figure size 432x288 with 1 Axes>"
      ]
     },
     "metadata": {
      "needs_background": "light"
     },
     "output_type": "display_data"
    }
   ],
   "source": [
    "plt.plot(noised_price[120,:,0]) "
   ]
  },
  {
   "cell_type": "code",
   "execution_count": 16,
   "metadata": {},
   "outputs": [
    {
     "data": {
      "text/plain": [
       "[<matplotlib.lines.Line2D at 0x7f77114350f0>]"
      ]
     },
     "execution_count": 16,
     "metadata": {},
     "output_type": "execute_result"
    },
    {
     "data": {
      "image/png": "[encoded data removed]",
      "text/plain": [
       "<Figure size 432x288 with 1 Axes>"
      ]
     },
     "metadata": {
      "needs_background": "light"
     },
     "output_type": "display_data"
    }
   ],
   "source": [
    "plt.plot(interpolated_price[120,:,0])"
   ]
  },
  {
   "cell_type": "code",
   "execution_count": 17,
   "metadata": {},
   "outputs": [
    {
     "data": {
      "text/plain": [
       "array([0.91101468, 0.91106486, 0.90996164, ..., 0.96228963, 0.96319234,\n",
       "       0.95975727])"
      ]
     },
     "execution_count": 17,
     "metadata": {},
     "output_type": "execute_result"
    }
   ],
   "source": [
    "train_price[120,:,0]"
   ]
  },
  {
   "cell_type": "code",
   "execution_count": 18,
   "metadata": {},
   "outputs": [
    {
     "data": {
      "text/plain": [
       "array([0.9116327 , 0.91098254, 0.90916988, ..., 0.96228963, 0.96319234,\n",
       "       0.95975727])"
      ]
     },
     "execution_count": 18,
     "metadata": {},
     "output_type": "execute_result"
    }
   ],
   "source": [
    "noised_price[120,:,0]"
   ]
  },
  {
   "cell_type": "code",
   "execution_count": 19,
   "metadata": {},
   "outputs": [
    {
     "data": {
      "text/plain": [
       "array([0.91106403, 0.9111215 , 0.90974567, ..., 0.96280382, 0.96243317,\n",
       "       0.95994787])"
      ]
     },
     "execution_count": 19,
     "metadata": {},
     "output_type": "execute_result"
    }
   ],
   "source": [
    "interpolated_price[120,:,0]"
   ]
  },
  {
   "cell_type": "markdown",
   "metadata": {},
   "source": [
    "We combine the augmented dataset and the train dataset"
   ]
  },
  {
   "cell_type": "code",
   "execution_count": 13,
   "metadata": {},
   "outputs": [
    {
     "data": {
      "text/plain": [
       "((13788, 1500, 4), (13788, 1500, 5))"
      ]
     },
     "execution_count": 13,
     "metadata": {},
     "output_type": "execute_result"
    }
   ],
   "source": [
    "#train_price = np.concatenate([train_price, noised_price, interpolated_price]) \n",
    "#train_volume = np.concatenate([train_volume, train_volume, train_volume]) \n",
    "\n",
    "train_price = np.concatenate([train_price, noised_price]) \n",
    "train_volume = np.concatenate([train_volume,train_volume]) \n",
    "train_price.shape, train_volume.shape\n"
   ]
  },
  {
   "cell_type": "markdown",
   "metadata": {},
   "source": [
    "# Define and Train model"
   ]
  },
  {
   "cell_type": "code",
   "execution_count": 215,
   "metadata": {},
   "outputs": [],
   "source": [
    "class Time2Vector(Layer):\n",
    "    def __init__(self, seq_len, **kwargs):\n",
    "        super(Time2Vector, self).__init__()\n",
    "        self.seq_len = seq_len\n",
    "\n",
    "    def build(self, input_shape):\n",
    "        '''Initialize weights and biases with shape (batch, seq_len)'''\n",
    "        self.weights_linear = self.add_weight(name='weight_linear',\n",
    "                                              shape=(int(self.seq_len),),\n",
    "                                              initializer='glorot_uniform',\n",
    "                                              trainable=True)\n",
    "    \n",
    "        self.bias_linear = self.add_weight(name='bias_linear',\n",
    "                                           shape=(int(self.seq_len),),\n",
    "                                           initializer='glorot_uniform',\n",
    "                                           trainable=True)\n",
    "    \n",
    "        self.weights_periodic = self.add_weight(name='weight_periodic',\n",
    "                                                shape=(int(self.seq_len),),\n",
    "                                                initializer='glorot_uniform',\n",
    "                                                trainable=True)\n",
    "\n",
    "        self.bias_periodic = self.add_weight(name='bias_periodic',\n",
    "                                             shape=(int(self.seq_len),),\n",
    "                                             initializer='glorot_uniform',\n",
    "                                             trainable=True)\n",
    "\n",
    "    def call(self, x):\n",
    "        '''Calculate linear and periodic time features'''\n",
    "        x = tf.math.reduce_mean(x[:,:,:], axis=-1) \n",
    "        time_linear = self.weights_linear * x + self.bias_linear # Linear time feature\n",
    "        time_linear = tf.expand_dims(time_linear, axis=-1) # Add dimension (batch, seq_len, 1)\n",
    "    \n",
    "        time_periodic = tf.math.sin(tf.multiply(x, self.weights_periodic) + self.bias_periodic)\n",
    "        time_periodic = tf.expand_dims(time_periodic, axis=-1) # Add dimension (batch, seq_len, 1)\n",
    "        return tf.concat([time_linear, time_periodic], axis=-1) # shape = (batch, seq_len, 2)\n",
    "   \n",
    "    def get_config(self): # Needed for saving and loading model with custom layer\n",
    "        config = super().get_config().copy()\n",
    "        config.update({'seq_len': self.seq_len})\n",
    "        return config\n"
   ]
  },
  {
   "cell_type": "code",
   "execution_count": 216,
   "metadata": {},
   "outputs": [],
   "source": [
    "def transformer_block(inputs, node, drop_rate, activation): \n",
    "    attn_output = MultiHeadAttention(num_heads = 4, key_dim = node)(inputs, inputs) \n",
    "    attn_output = Dropout(drop_rate)(attn_output) \n",
    "    out1 = LayerNormalization(epsilon=1e-6)(inputs + attn_output) \n",
    "    ffn_output = Dense(node, activation = activation)(out1) \n",
    "    ffn_output = Dense(node)(ffn_output) \n",
    "    ffn_output = Dropout(drop_rate)(ffn_output)\n",
    "    out2 = LayerNormalization(epsilon=1e-6)(out1 + ffn_output) \n",
    "    return out2\n",
    "    \n",
    "    \n",
    "\n",
    "def build_transformer(node = 64, activation = 'relu', drop_rate = 0.2, num_layers = 3): \n",
    "    time_embedding_price = Time2Vector(N)\n",
    "    time_embedding_volume = Time2Vector(N)\n",
    "    ## price transformer \n",
    "    price_inputs = Input((N, features_price))  \n",
    "    bn = BatchNormalization()(price_inputs) \n",
    "    x = time_embedding_price(bn) \n",
    "    x = Concatenate()([bn, x]) \n",
    "    x = Conv1D(node*2, 5, activation = activation)(x) \n",
    "    x = MaxPooling1D(3)(x) \n",
    "    x = Dropout(drop_rate)(x) \n",
    "    x = Conv1D(node, 5, activation = activation)(x) \n",
    "    x = MaxPooling1D(3)(x) \n",
    "    x = Dropout(drop_rate)(x) \n",
    "    positions = tf.range(start=0, limit=x.shape[1], delta=1)\n",
    "    positions = Embedding(input_dim = x.shape[1], output_dim = node)(positions) \n",
    "    x = x + positions \n",
    "    for i in range(num_layers): \n",
    "        x = transformer_block(x, node, drop_rate, activation)\n",
    "    x = GlobalMaxPooling1D()(x) \n",
    "    \n",
    "    ## volume transformer \n",
    "    volume_inputs = Input((N, features_volume)) \n",
    "    bn_v = BatchNormalization()(volume_inputs) \n",
    "    x_v = time_embedding_volume(bn_v) \n",
    "    x_v = Concatenate()([bn_v, x_v]) \n",
    "    x_v = Conv1D(node*2, 5, activation = activation)(x_v) \n",
    "    x_v = MaxPooling1D(3)(x_v) \n",
    "    x_v = Dropout(drop_rate)(x_v)\n",
    "    x_v = Conv1D(node, 5, activation = activation)(x_v) \n",
    "    x_v = MaxPooling1D(3)(x_v) \n",
    "    x_v = Dropout(drop_rate)(x_v)\n",
    "    positions_v = tf.range(start=0, limit=x_v.shape[1], delta=1) \n",
    "    positions_v = Embedding(input_dim=x_v.shape[1], output_dim = node)(positions_v) \n",
    "    x_v = x_v + positions_v \n",
    "    for i in range(num_layers):  \n",
    "        x_v = transformer_block(x_v, node, drop_rate, activation)  \n",
    "    x_v = GlobalMaxPooling1D()(x_v) \n",
    "    \n",
    "    merge = Concatenate()([x, x_v]) \n",
    "    blend = Dense(64, activation = 'relu')(merge) \n",
    "    blend = BatchNormalization()(blend) \n",
    "    outputs = Dense(1, activation = 'relu')(blend) \n",
    "    model = Model(inputs=[price_inputs, volume_inputs],outputs=outputs) \n",
    "    model.compile(loss = 'mape', optimizer = 'adam', metrics=['mae','mse','mape']) \n",
    "    return model\n"
   ]
  },
  {
   "cell_type": "code",
   "execution_count": 217,
   "metadata": {},
   "outputs": [
    {
     "name": "stdout",
     "output_type": "stream",
     "text": [
      "Model: \"model_3\"\n",
      "__________________________________________________________________________________________________\n",
      "Layer (type)                    Output Shape         Param #     Connected to                     \n",
      "==================================================================================================\n",
      "input_7 (InputLayer)            [(None, 30, 4)]      0                                            \n",
      "__________________________________________________________________________________________________\n",
      "input_8 (InputLayer)            [(None, 30, 5)]      0                                            \n",
      "__________________________________________________________________________________________________\n",
      "masking_6 (Masking)             (None, 30, 4)        0           input_7[0][0]                    \n",
      "__________________________________________________________________________________________________\n",
      "masking_7 (Masking)             (None, 30, 5)        0           input_8[0][0]                    \n",
      "__________________________________________________________________________________________________\n",
      "batch_normalization_9 (BatchNor (None, 30, 4)        16          masking_6[0][0]                  \n",
      "__________________________________________________________________________________________________\n",
      "batch_normalization_10 (BatchNo (None, 30, 5)        20          masking_7[0][0]                  \n",
      "__________________________________________________________________________________________________\n",
      "time2_vector_6 (Time2Vector)    (None, 30, 2)        120         batch_normalization_9[0][0]      \n",
      "__________________________________________________________________________________________________\n",
      "time2_vector_7 (Time2Vector)    (None, 30, 2)        120         batch_normalization_10[0][0]     \n",
      "__________________________________________________________________________________________________\n",
      "concatenate_9 (Concatenate)     (None, 30, 6)        0           batch_normalization_9[0][0]      \n",
      "                                                                 time2_vector_6[0][0]             \n",
      "__________________________________________________________________________________________________\n",
      "concatenate_10 (Concatenate)    (None, 30, 7)        0           batch_normalization_10[0][0]     \n",
      "                                                                 time2_vector_7[0][0]             \n",
      "__________________________________________________________________________________________________\n",
      "conv1d_12 (Conv1D)              (None, 30, 128)      2432        concatenate_9[0][0]              \n",
      "__________________________________________________________________________________________________\n",
      "conv1d_14 (Conv1D)              (None, 30, 128)      2816        concatenate_10[0][0]             \n",
      "__________________________________________________________________________________________________\n",
      "max_pooling1d_12 (MaxPooling1D) (None, 15, 128)      0           conv1d_12[0][0]                  \n",
      "__________________________________________________________________________________________________\n",
      "max_pooling1d_14 (MaxPooling1D) (None, 15, 128)      0           conv1d_14[0][0]                  \n",
      "__________________________________________________________________________________________________\n",
      "dropout_48 (Dropout)            (None, 15, 128)      0           max_pooling1d_12[0][0]           \n",
      "__________________________________________________________________________________________________\n",
      "dropout_56 (Dropout)            (None, 15, 128)      0           max_pooling1d_14[0][0]           \n",
      "__________________________________________________________________________________________________\n",
      "conv1d_13 (Conv1D)              (None, 15, 64)       24640       dropout_48[0][0]                 \n",
      "__________________________________________________________________________________________________\n",
      "conv1d_15 (Conv1D)              (None, 15, 64)       24640       dropout_56[0][0]                 \n",
      "__________________________________________________________________________________________________\n",
      "max_pooling1d_13 (MaxPooling1D) (None, 7, 64)        0           conv1d_13[0][0]                  \n",
      "__________________________________________________________________________________________________\n",
      "max_pooling1d_15 (MaxPooling1D) (None, 7, 64)        0           conv1d_15[0][0]                  \n",
      "__________________________________________________________________________________________________\n",
      "dropout_49 (Dropout)            (None, 7, 64)        0           max_pooling1d_13[0][0]           \n",
      "__________________________________________________________________________________________________\n",
      "dropout_57 (Dropout)            (None, 7, 64)        0           max_pooling1d_15[0][0]           \n",
      "__________________________________________________________________________________________________\n",
      "tf.__operators__.add_42 (TFOpLa (None, 7, 64)        0           dropout_49[0][0]                 \n",
      "__________________________________________________________________________________________________\n",
      "tf.__operators__.add_49 (TFOpLa (None, 7, 64)        0           dropout_57[0][0]                 \n",
      "__________________________________________________________________________________________________\n",
      "multi_head_attention_18 (MultiH (None, 7, 64)        66368       tf.__operators__.add_42[0][0]    \n",
      "                                                                 tf.__operators__.add_42[0][0]    \n",
      "__________________________________________________________________________________________________\n",
      "multi_head_attention_21 (MultiH (None, 7, 64)        66368       tf.__operators__.add_49[0][0]    \n",
      "                                                                 tf.__operators__.add_49[0][0]    \n",
      "__________________________________________________________________________________________________\n",
      "dropout_50 (Dropout)            (None, 7, 64)        0           multi_head_attention_18[0][0]    \n",
      "__________________________________________________________________________________________________\n",
      "dropout_58 (Dropout)            (None, 7, 64)        0           multi_head_attention_21[0][0]    \n",
      "__________________________________________________________________________________________________\n",
      "tf.__operators__.add_43 (TFOpLa (None, 7, 64)        0           tf.__operators__.add_42[0][0]    \n",
      "                                                                 dropout_50[0][0]                 \n",
      "__________________________________________________________________________________________________\n",
      "tf.__operators__.add_50 (TFOpLa (None, 7, 64)        0           tf.__operators__.add_49[0][0]    \n",
      "                                                                 dropout_58[0][0]                 \n",
      "__________________________________________________________________________________________________\n",
      "layer_normalization_36 (LayerNo (None, 7, 64)        128         tf.__operators__.add_43[0][0]    \n",
      "__________________________________________________________________________________________________\n",
      "layer_normalization_42 (LayerNo (None, 7, 64)        128         tf.__operators__.add_50[0][0]    \n",
      "__________________________________________________________________________________________________\n",
      "dense_42 (Dense)                (None, 7, 64)        4160        layer_normalization_36[0][0]     \n",
      "__________________________________________________________________________________________________\n",
      "dense_48 (Dense)                (None, 7, 64)        4160        layer_normalization_42[0][0]     \n",
      "__________________________________________________________________________________________________\n",
      "dense_43 (Dense)                (None, 7, 64)        4160        dense_42[0][0]                   \n",
      "__________________________________________________________________________________________________\n",
      "dense_49 (Dense)                (None, 7, 64)        4160        dense_48[0][0]                   \n",
      "__________________________________________________________________________________________________\n",
      "dropout_51 (Dropout)            (None, 7, 64)        0           dense_43[0][0]                   \n",
      "__________________________________________________________________________________________________\n",
      "dropout_59 (Dropout)            (None, 7, 64)        0           dense_49[0][0]                   \n",
      "__________________________________________________________________________________________________\n",
      "tf.__operators__.add_44 (TFOpLa (None, 7, 64)        0           layer_normalization_36[0][0]     \n",
      "                                                                 dropout_51[0][0]                 \n",
      "__________________________________________________________________________________________________\n",
      "tf.__operators__.add_51 (TFOpLa (None, 7, 64)        0           layer_normalization_42[0][0]     \n",
      "                                                                 dropout_59[0][0]                 \n",
      "__________________________________________________________________________________________________\n",
      "layer_normalization_37 (LayerNo (None, 7, 64)        128         tf.__operators__.add_44[0][0]    \n",
      "__________________________________________________________________________________________________\n",
      "layer_normalization_43 (LayerNo (None, 7, 64)        128         tf.__operators__.add_51[0][0]    \n",
      "__________________________________________________________________________________________________\n",
      "multi_head_attention_19 (MultiH (None, 7, 64)        66368       layer_normalization_37[0][0]     \n",
      "                                                                 layer_normalization_37[0][0]     \n",
      "__________________________________________________________________________________________________\n",
      "multi_head_attention_22 (MultiH (None, 7, 64)        66368       layer_normalization_43[0][0]     \n",
      "                                                                 layer_normalization_43[0][0]     \n",
      "__________________________________________________________________________________________________\n",
      "dropout_52 (Dropout)            (None, 7, 64)        0           multi_head_attention_19[0][0]    \n",
      "__________________________________________________________________________________________________\n",
      "dropout_60 (Dropout)            (None, 7, 64)        0           multi_head_attention_22[0][0]    \n",
      "__________________________________________________________________________________________________\n",
      "tf.__operators__.add_45 (TFOpLa (None, 7, 64)        0           layer_normalization_37[0][0]     \n",
      "                                                                 dropout_52[0][0]                 \n",
      "__________________________________________________________________________________________________\n",
      "tf.__operators__.add_52 (TFOpLa (None, 7, 64)        0           layer_normalization_43[0][0]     \n",
      "                                                                 dropout_60[0][0]                 \n",
      "__________________________________________________________________________________________________\n",
      "layer_normalization_38 (LayerNo (None, 7, 64)        128         tf.__operators__.add_45[0][0]    \n",
      "__________________________________________________________________________________________________\n",
      "layer_normalization_44 (LayerNo (None, 7, 64)        128         tf.__operators__.add_52[0][0]    \n",
      "__________________________________________________________________________________________________\n",
      "dense_44 (Dense)                (None, 7, 64)        4160        layer_normalization_38[0][0]     \n",
      "__________________________________________________________________________________________________\n",
      "dense_50 (Dense)                (None, 7, 64)        4160        layer_normalization_44[0][0]     \n",
      "__________________________________________________________________________________________________\n",
      "dense_45 (Dense)                (None, 7, 64)        4160        dense_44[0][0]                   \n",
      "__________________________________________________________________________________________________\n",
      "dense_51 (Dense)                (None, 7, 64)        4160        dense_50[0][0]                   \n",
      "__________________________________________________________________________________________________\n",
      "dropout_53 (Dropout)            (None, 7, 64)        0           dense_45[0][0]                   \n",
      "__________________________________________________________________________________________________\n",
      "dropout_61 (Dropout)            (None, 7, 64)        0           dense_51[0][0]                   \n",
      "__________________________________________________________________________________________________\n",
      "tf.__operators__.add_46 (TFOpLa (None, 7, 64)        0           layer_normalization_38[0][0]     \n",
      "                                                                 dropout_53[0][0]                 \n",
      "__________________________________________________________________________________________________\n",
      "tf.__operators__.add_53 (TFOpLa (None, 7, 64)        0           layer_normalization_44[0][0]     \n",
      "                                                                 dropout_61[0][0]                 \n",
      "__________________________________________________________________________________________________\n",
      "layer_normalization_39 (LayerNo (None, 7, 64)        128         tf.__operators__.add_46[0][0]    \n",
      "__________________________________________________________________________________________________\n",
      "layer_normalization_45 (LayerNo (None, 7, 64)        128         tf.__operators__.add_53[0][0]    \n",
      "__________________________________________________________________________________________________\n",
      "multi_head_attention_20 (MultiH (None, 7, 64)        66368       layer_normalization_39[0][0]     \n",
      "                                                                 layer_normalization_39[0][0]     \n",
      "__________________________________________________________________________________________________\n",
      "multi_head_attention_23 (MultiH (None, 7, 64)        66368       layer_normalization_45[0][0]     \n",
      "                                                                 layer_normalization_45[0][0]     \n",
      "__________________________________________________________________________________________________\n",
      "dropout_54 (Dropout)            (None, 7, 64)        0           multi_head_attention_20[0][0]    \n",
      "__________________________________________________________________________________________________\n",
      "dropout_62 (Dropout)            (None, 7, 64)        0           multi_head_attention_23[0][0]    \n",
      "__________________________________________________________________________________________________\n",
      "tf.__operators__.add_47 (TFOpLa (None, 7, 64)        0           layer_normalization_39[0][0]     \n",
      "                                                                 dropout_54[0][0]                 \n",
      "__________________________________________________________________________________________________\n",
      "tf.__operators__.add_54 (TFOpLa (None, 7, 64)        0           layer_normalization_45[0][0]     \n",
      "                                                                 dropout_62[0][0]                 \n",
      "__________________________________________________________________________________________________\n",
      "layer_normalization_40 (LayerNo (None, 7, 64)        128         tf.__operators__.add_47[0][0]    \n",
      "__________________________________________________________________________________________________\n",
      "layer_normalization_46 (LayerNo (None, 7, 64)        128         tf.__operators__.add_54[0][0]    \n",
      "__________________________________________________________________________________________________\n",
      "dense_46 (Dense)                (None, 7, 64)        4160        layer_normalization_40[0][0]     \n",
      "__________________________________________________________________________________________________\n",
      "dense_52 (Dense)                (None, 7, 64)        4160        layer_normalization_46[0][0]     \n",
      "__________________________________________________________________________________________________\n",
      "dense_47 (Dense)                (None, 7, 64)        4160        dense_46[0][0]                   \n",
      "__________________________________________________________________________________________________\n",
      "dense_53 (Dense)                (None, 7, 64)        4160        dense_52[0][0]                   \n",
      "__________________________________________________________________________________________________\n",
      "dropout_55 (Dropout)            (None, 7, 64)        0           dense_47[0][0]                   \n",
      "__________________________________________________________________________________________________\n",
      "dropout_63 (Dropout)            (None, 7, 64)        0           dense_53[0][0]                   \n",
      "__________________________________________________________________________________________________\n",
      "tf.__operators__.add_48 (TFOpLa (None, 7, 64)        0           layer_normalization_40[0][0]     \n",
      "                                                                 dropout_55[0][0]                 \n",
      "__________________________________________________________________________________________________\n",
      "tf.__operators__.add_55 (TFOpLa (None, 7, 64)        0           layer_normalization_46[0][0]     \n",
      "                                                                 dropout_63[0][0]                 \n",
      "__________________________________________________________________________________________________\n",
      "layer_normalization_41 (LayerNo (None, 7, 64)        128         tf.__operators__.add_48[0][0]    \n",
      "__________________________________________________________________________________________________\n",
      "layer_normalization_47 (LayerNo (None, 7, 64)        128         tf.__operators__.add_55[0][0]    \n",
      "__________________________________________________________________________________________________\n",
      "global_max_pooling1d_6 (GlobalM (None, 64)           0           layer_normalization_41[0][0]     \n",
      "__________________________________________________________________________________________________\n",
      "global_max_pooling1d_7 (GlobalM (None, 64)           0           layer_normalization_47[0][0]     \n",
      "__________________________________________________________________________________________________\n",
      "concatenate_11 (Concatenate)    (None, 128)          0           global_max_pooling1d_6[0][0]     \n",
      "                                                                 global_max_pooling1d_7[0][0]     \n",
      "__________________________________________________________________________________________________\n",
      "dense_54 (Dense)                (None, 64)           8256        concatenate_11[0][0]             \n",
      "__________________________________________________________________________________________________\n",
      "batch_normalization_11 (BatchNo (None, 64)           256         dense_54[0][0]                   \n",
      "__________________________________________________________________________________________________\n",
      "dense_55 (Dense)                (None, 1)            65          batch_normalization_11[0][0]     \n",
      "==================================================================================================\n",
      "Total params: 513,045\n",
      "Trainable params: 512,899\n",
      "Non-trainable params: 146\n",
      "__________________________________________________________________________________________________\n"
     ]
    }
   ],
   "source": [
    "model = build_model()\n",
    "model.summary() "
   ]
  },
  {
   "cell_type": "code",
   "execution_count": 218,
   "metadata": {},
   "outputs": [],
   "source": [
    "def trainGenerator():\n",
    "    \n",
    "    for i in range(train_price.shape[0]): \n",
    "        volume = train_volume[i,:,:]\n",
    "        original = train_price[i,:,:] \n",
    "        noised = noise_augmentation(original) \n",
    "        interpolated = interpolation_augmentation(original) \n",
    "        \n",
    "        open_noised = noised[1379,0]\n",
    "        if open_noised > 1.0: \n",
    "            diff = open_noised - 1.0 \n",
    "            noised -= diff \n",
    "        elif open_noised < 1.0: \n",
    "            diff = 1.0 - open_noised \n",
    "            noised += diff \n",
    "        \n",
    "        open_interpolated = interpolated[1379,0] \n",
    "        if open_interpolated > 1.0: \n",
    "            diff = open_interpolated - 1.0 \n",
    "            interpolated -= diff \n",
    "        elif open_interpolated < 1.0: \n",
    "            diff = 1.0 - open_interpolated \n",
    "            interpolated += diff \n",
    "        \n",
    "        \n",
    "        N = 30 \n",
    "        cnt = 0 \n",
    "        K = 120 \n",
    "        features_price = 4\n",
    "        features_volume = 5\n",
    "        \n",
    "        original = original.reshape((-1,original.shape[0],original.shape[1]))\n",
    "        noised = noised.reshape((-1,noised.shape[0],noised.shape[1])) \n",
    "        interpolated = interpolated.reshape((-1,interpolated.shape[0],interpolated.shape[1])) \n",
    "        volume = volume.reshape((-1,volume.shape[0],volume.shape[1]))\n",
    "        \n",
    "        X_price = np.concatenate([original,noised,interpolated]) \n",
    "        X_volume = np.concatenate([volume,volume,volume])\n",
    "        \n",
    "        for l in range(X_price.shape[0]): \n",
    "            j = 0 \n",
    "            while j+N+K < 1500: \n",
    "                cur_price = X_price[l,j:j+N,:]\n",
    "                cur_volume = X_volume[l,j:j+N,:] \n",
    "                cur_target = X_price[l,j+N+K,0].reshape((-1)) \n",
    "                j += 1 \n",
    "                yield ((cur_price, cur_volume), cur_target)\n",
    "                \n",
    "            \n",
    "train_ds = tf.data.Dataset.from_generator(trainGenerator, ((tf.float32,tf.float32),tf.float32), ((tf.TensorShape([30,4]), tf.TensorShape([30,5])),tf.TensorShape([1])))\n",
    "\n",
    "train_ds = train_ds.batch(512)\n"
   ]
  },
  {
   "cell_type": "code",
   "execution_count": 219,
   "metadata": {},
   "outputs": [],
   "source": [
    "def valGenerator():\n",
    "    for i in range(val_price.shape[0]): \n",
    "        volume = val_volume[i,:,:]\n",
    "        original = val_price[i,:,:] \n",
    "        \n",
    "        N = 30 \n",
    "        cnt = 0 \n",
    "        K = 120 \n",
    "        features_price = 4\n",
    "        features_volume = 5\n",
    "        j = 0 \n",
    "        while j+N+K < 1500: \n",
    "            cur_price = original[j:j+N,:] \n",
    "            cur_volume = volume[j:j+N,:] \n",
    "            cur_target = original[j+N+K,0].reshape((-1)) \n",
    "            j += 1 \n",
    "            yield ((cur_price, cur_volume), cur_target)\n",
    "            \n",
    "val_ds = tf.data.Dataset.from_generator(valGenerator, ((tf.float32,tf.float32),tf.float32), ((tf.TensorShape([30,4]), tf.TensorShape([30,5])),tf.TensorShape([1])))\n",
    "\n",
    "val_ds = val_ds.batch(512)\n"
   ]
  },
  {
   "cell_type": "code",
   "execution_count": null,
   "metadata": {},
   "outputs": [
    {
     "name": "stdout",
     "output_type": "stream",
     "text": [
      "Epoch 1/50\n",
      "54533/54533 [==============================] - 5209s 95ms/step - loss: 3.4786 - mae: 0.0348 - mse: 0.0066 - mape: 3.4786 - val_loss: 4.7590 - val_mae: 0.0479 - val_mse: 0.0028 - val_mape: 4.7590\n",
      "\n",
      "Epoch 00001: val_loss improved from inf to 4.75904, saving model to transformer_augmentation_generator_epoch_001_val_4.759.h5\n",
      "Epoch 2/50\n",
      " 2997/54533 [>.............................] - ETA: 1:20:40 - loss: 2.4181 - mae: 0.0242 - mse: 0.0016 - mape: 2.4181"
     ]
    },
    {
     "name": "stderr",
     "output_type": "stream",
     "text": [
      "IOPub message rate exceeded.\n",
      "The notebook server will temporarily stop sending output\n",
      "to the client in order to avoid crashing it.\n",
      "To change this limit, set the config variable\n",
      "`--NotebookApp.iopub_msg_rate_limit`.\n",
      "\n",
      "Current values:\n",
      "NotebookApp.iopub_msg_rate_limit=1000.0 (msgs/sec)\n",
      "NotebookApp.rate_limit_window=3.0 (secs)\n",
      "\n"
     ]
    },
    {
     "name": "stdout",
     "output_type": "stream",
     "text": [
      "54533/54533 [==============================] - 5243s 96ms/step - loss: 2.4096 - mae: 0.0241 - mse: 0.0014 - mape: 2.4096 - val_loss: 2.7273 - val_mae: 0.0270 - val_mse: 0.0011 - val_mape: 2.7273\n",
      "\n",
      "Epoch 00002: val_loss improved from 4.75904 to 2.72727, saving model to transformer_augmentation_generator_epoch_002_val_2.727.h5\n",
      "Epoch 3/50\n",
      "54533/54533 [==============================] - 5185s 95ms/step - loss: 2.2616 - mae: 0.0226 - mse: 0.0013 - mape: 2.2616 - val_loss: 1.6559 - val_mae: 0.0164 - val_mse: 8.1565e-04 - val_mape: 1.6559\n",
      "\n",
      "Epoch 00003: val_loss improved from 2.72727 to 1.65594, saving model to transformer_augmentation_generator_epoch_003_val_1.656.h5\n",
      "Epoch 4/50\n",
      "40783/54533 [=====================>........] - ETA: 21:02 - loss: 2.1651 - mae: 0.0217 - mse: 0.0013 - mape: 2.1651"
     ]
    }
   ],
   "source": [
    "model_path = 'transformer_augmentation_generator_epoch_{epoch:03d}_val_{val_loss:.3f}.h5'\n",
    "learning_rate_reduction = ReduceLROnPlateau(monitor = 'val_loss', patience = 3, verbose = 1, factor = 0.5)\n",
    "checkpoint = ModelCheckpoint(filepath = model_path, monitor = 'val_loss', verbose = 1, save_best_only = True)\n",
    "early_stopping = EarlyStopping(monitor = 'val_loss', patience = 10) \n",
    "\n",
    "\n",
    "history = model.fit(train_ds, \n",
    "                    epochs = 50, \n",
    "                    callbacks = [learning_rate_reduction, checkpoint], \n",
    "                    validation_data = val_ds)\n"
   ]
  },
  {
   "cell_type": "markdown",
   "metadata": {},
   "source": [
    "# Make Prediction"
   ]
  },
  {
   "cell_type": "code",
   "execution_count": null,
   "metadata": {},
   "outputs": [],
   "source": [
    "best_model = load_model('', custom_objects = {'Time2Vector':Time2Vector})\n",
    "best_model.summary()\n"
   ]
  },
  {
   "cell_type": "code",
   "execution_count": null,
   "metadata": {},
   "outputs": [],
   "source": [
    "X_test_price = [] \n",
    "X_test_volume = []\n",
    "\n",
    "for j in tqdm(range(x_test.shape[0]), position = 0, leave = True): \n",
    "    for i in range(seq_len-K-N-120, seq_len-K-N):\n",
    "        X_test_price.append(x_test[j, i:i+N, [1,2,3,4]])  \n",
    "        X_test_volume.append(x_test[j, i:i+N, [5,6,7,8,9]])\n",
    "\n",
    "X_test_price = np.asarray(X_test_price) \n",
    "X_test_volume = np.asarray(X_test_volume) \n",
    "\n",
    "X_test_price = X_test_price.reshape((-1,N,features_price)) \n",
    "X_test_volume = X_test_volume.reshape((-1,N,features_volume))\n",
    "\n",
    "X_test_price.shape, X_test_volume.shape\n"
   ]
  },
  {
   "cell_type": "code",
   "execution_count": null,
   "metadata": {},
   "outputs": [],
   "source": [
    "predicted = best_model.predict([X_test_price, X_test_volume]) \n",
    "predicted = predicted.reshape((-1,120)) \n",
    "predicted.shape\n"
   ]
  },
  {
   "cell_type": "code",
   "execution_count": null,
   "metadata": {},
   "outputs": [],
   "source": [
    "x_test_open = x_test[:,:,1] \n",
    "\n",
    "## Adjust predicted prices to be connected with the buy price \n",
    "for i in tqdm(range(predicted.shape[0]), position = 0, leave = True):\n",
    "    buy_price = x_test_open[i,-1] \n",
    "    if predicted[i,0] > buy_price:\n",
    "        diff = predicted[i,0] - buy_price \n",
    "        predicted[i,:] -= diff \n",
    "    elif predicted[i,0] < buy_price:  \n",
    "        diff = buy_price - predicted[i,0] \n",
    "        predicted[i,:] += diff"
   ]
  },
  {
   "cell_type": "code",
   "execution_count": null,
   "metadata": {},
   "outputs": [],
   "source": [
    "## create submission dataframe version 1 \n",
    "buy_quantities = [] \n",
    "sell_times = [] \n",
    "\n",
    "for i in tqdm(range(predicted.shape[0]), position = 0, leave = True): \n",
    "    sell_time = np.argmax(predicted[i,:]) \n",
    "    sell_times.append(sell_time) \n",
    "    buy_price = x_test_open[i,-1] \n",
    "    cnt = 0 \n",
    "    for j in range(120): \n",
    "        if predicted[i,j] >= buy_price:    \n",
    "            cnt += 1 \n",
    "    buy_quantity = cnt/120 \n",
    "    buy_quantities.append(buy_quantity)\n",
    "    \n",
    "submission.iloc[:,1] = buy_quantities \n",
    "submission.iloc[:,2] = sell_times  \n",
    "submission.to_csv('transformers_augmentation.csv',index=False)\n"
   ]
  }
 ],
 "metadata": {
  "kernelspec": {
   "display_name": "Python 3",
   "language": "python",
   "name": "python3"
  },
  "language_info": {
   "codemirror_mode": {
    "name": "ipython",
    "version": 3
   },
   "file_extension": ".py",
   "mimetype": "text/x-python",
   "name": "python",
   "nbconvert_exporter": "python",
   "pygments_lexer": "ipython3",
   "version": "3.6.9"
  }
 },
 "nbformat": 4,
 "nbformat_minor": 2
}
