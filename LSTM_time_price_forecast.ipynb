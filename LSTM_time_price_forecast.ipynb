{
  "nbformat": 4,
  "nbformat_minor": 0,
  "metadata": {
    "colab": {
      "name": "trader_test.ipynb",
      "provenance": [],
      "toc_visible": true,
      "machine_shape": "hm"
    },
    "kernelspec": {
      "display_name": "Python 3",
      "name": "python3"
    },
    "accelerator": "GPU"
  },
  "cells": [
    {
      "cell_type": "code",
      "metadata": {
        "id": "eF8iCsUIOHDg"
      },
      "source": [
        "import numpy as np \n",
        "import pandas as pd \n",
        "import os, datetime \n",
        "import tensorflow as tf\n",
        "from tensorflow.keras.models import *\n",
        "from tensorflow.keras.layers import *  \n",
        "from tensorflow.keras.callbacks import *\n",
        "import matplotlib.pyplot as plt \n",
        "from sklearn.model_selection import train_test_split, KFold, StratifiedKFold \n",
        "from tqdm import tqdm\n",
        "import random \n",
        "import time\n",
        "import pywt\n",
        "from keras import backend as K\n",
        "from keras.layers import Concatenate\n",
        "from keras.layers import Input, Dense, Lambda, Subtract, Add, Reshape\n",
        "from keras.models import Model\n",
        "from keras.optimizers import Adam"
      ],
      "execution_count": 1,
      "outputs": []
    },
    {
      "cell_type": "code",
      "metadata": {
        "id": "zJXIFAxbQGNq"
      },
      "source": [
        "train_x = pd.read_csv('drive/MyDrive/bitTrader/train_x_df.csv') \n",
        "train_y = pd.read_csv('drive/MyDrive/bitTrader/train_y_df.csv')\n",
        "test_x = pd.read_csv('drive/MyDrive/bitTrader/test_x_df.csv')\n",
        "submission = pd.read_csv('drive/MyDrive/bitTrader/sample_submission.csv')"
      ],
      "execution_count": 2,
      "outputs": []
    },
    {
      "cell_type": "code",
      "metadata": {
        "id": "rVXeTlywPh3w",
        "colab": {
          "base_uri": "https://localhost:8080/",
          "height": 439
        },
        "outputId": "6de490e3-e424-4df8-a1ab-c0c61f904cb1"
      },
      "source": [
        "train_x"
      ],
      "execution_count": 3,
      "outputs": [
        {
          "output_type": "execute_result",
          "data": {
            "text/html": [
              "<div>\n",
              "<style scoped>\n",
              "    .dataframe tbody tr th:only-of-type {\n",
              "        vertical-align: middle;\n",
              "    }\n",
              "\n",
              "    .dataframe tbody tr th {\n",
              "        vertical-align: top;\n",
              "    }\n",
              "\n",
              "    .dataframe thead th {\n",
              "        text-align: right;\n",
              "    }\n",
              "</style>\n",
              "<table border=\"1\" class=\"dataframe\">\n",
              "  <thead>\n",
              "    <tr style=\"text-align: right;\">\n",
              "      <th></th>\n",
              "      <th>sample_id</th>\n",
              "      <th>time</th>\n",
              "      <th>coin_index</th>\n",
              "      <th>open</th>\n",
              "      <th>high</th>\n",
              "      <th>low</th>\n",
              "      <th>close</th>\n",
              "      <th>volume</th>\n",
              "      <th>quote_av</th>\n",
              "      <th>trades</th>\n",
              "      <th>tb_base_av</th>\n",
              "      <th>tb_quote_av</th>\n",
              "    </tr>\n",
              "  </thead>\n",
              "  <tbody>\n",
              "    <tr>\n",
              "      <th>0</th>\n",
              "      <td>0</td>\n",
              "      <td>0</td>\n",
              "      <td>7</td>\n",
              "      <td>1.010004</td>\n",
              "      <td>1.010004</td>\n",
              "      <td>1.009612</td>\n",
              "      <td>1.010004</td>\n",
              "      <td>8.382875e+05</td>\n",
              "      <td>43160.632812</td>\n",
              "      <td>451.157288</td>\n",
              "      <td>7.326834e+05</td>\n",
              "      <td>37725.183594</td>\n",
              "    </tr>\n",
              "    <tr>\n",
              "      <th>1</th>\n",
              "      <td>0</td>\n",
              "      <td>1</td>\n",
              "      <td>7</td>\n",
              "      <td>1.009808</td>\n",
              "      <td>1.009808</td>\n",
              "      <td>1.009808</td>\n",
              "      <td>1.009808</td>\n",
              "      <td>1.622420e+05</td>\n",
              "      <td>8352.220703</td>\n",
              "      <td>39.231071</td>\n",
              "      <td>0.000000e+00</td>\n",
              "      <td>0.000000</td>\n",
              "    </tr>\n",
              "    <tr>\n",
              "      <th>2</th>\n",
              "      <td>0</td>\n",
              "      <td>2</td>\n",
              "      <td>7</td>\n",
              "      <td>1.009808</td>\n",
              "      <td>1.010200</td>\n",
              "      <td>1.009808</td>\n",
              "      <td>1.010200</td>\n",
              "      <td>1.664967e+04</td>\n",
              "      <td>857.377808</td>\n",
              "      <td>58.846603</td>\n",
              "      <td>1.664967e+04</td>\n",
              "      <td>857.377808</td>\n",
              "    </tr>\n",
              "    <tr>\n",
              "      <th>3</th>\n",
              "      <td>0</td>\n",
              "      <td>3</td>\n",
              "      <td>7</td>\n",
              "      <td>1.010200</td>\n",
              "      <td>1.011181</td>\n",
              "      <td>1.010200</td>\n",
              "      <td>1.011181</td>\n",
              "      <td>2.586971e+06</td>\n",
              "      <td>133310.343750</td>\n",
              "      <td>431.541779</td>\n",
              "      <td>2.189147e+06</td>\n",
              "      <td>112811.046875</td>\n",
              "    </tr>\n",
              "    <tr>\n",
              "      <th>4</th>\n",
              "      <td>0</td>\n",
              "      <td>4</td>\n",
              "      <td>7</td>\n",
              "      <td>1.010985</td>\n",
              "      <td>1.010985</td>\n",
              "      <td>1.010200</td>\n",
              "      <td>1.010200</td>\n",
              "      <td>1.129996e+06</td>\n",
              "      <td>58216.867188</td>\n",
              "      <td>176.539810</td>\n",
              "      <td>0.000000e+00</td>\n",
              "      <td>0.000000</td>\n",
              "    </tr>\n",
              "    <tr>\n",
              "      <th>...</th>\n",
              "      <td>...</td>\n",
              "      <td>...</td>\n",
              "      <td>...</td>\n",
              "      <td>...</td>\n",
              "      <td>...</td>\n",
              "      <td>...</td>\n",
              "      <td>...</td>\n",
              "      <td>...</td>\n",
              "      <td>...</td>\n",
              "      <td>...</td>\n",
              "      <td>...</td>\n",
              "      <td>...</td>\n",
              "    </tr>\n",
              "    <tr>\n",
              "      <th>10159555</th>\n",
              "      <td>7361</td>\n",
              "      <td>1375</td>\n",
              "      <td>8</td>\n",
              "      <td>1.000668</td>\n",
              "      <td>1.001669</td>\n",
              "      <td>1.000626</td>\n",
              "      <td>1.001502</td>\n",
              "      <td>9.180907e+00</td>\n",
              "      <td>2203.059082</td>\n",
              "      <td>2.245034</td>\n",
              "      <td>6.229020e+00</td>\n",
              "      <td>1494.727417</td>\n",
              "    </tr>\n",
              "    <tr>\n",
              "      <th>10159556</th>\n",
              "      <td>7361</td>\n",
              "      <td>1376</td>\n",
              "      <td>8</td>\n",
              "      <td>1.001627</td>\n",
              "      <td>1.001920</td>\n",
              "      <td>1.000960</td>\n",
              "      <td>1.001294</td>\n",
              "      <td>7.963097e+00</td>\n",
              "      <td>1911.151611</td>\n",
              "      <td>2.211651</td>\n",
              "      <td>3.056139e+00</td>\n",
              "      <td>733.490601</td>\n",
              "    </tr>\n",
              "    <tr>\n",
              "      <th>10159557</th>\n",
              "      <td>7361</td>\n",
              "      <td>1377</td>\n",
              "      <td>8</td>\n",
              "      <td>1.001294</td>\n",
              "      <td>1.001461</td>\n",
              "      <td>1.000584</td>\n",
              "      <td>1.000668</td>\n",
              "      <td>3.849893e+00</td>\n",
              "      <td>923.610718</td>\n",
              "      <td>1.260224</td>\n",
              "      <td>2.284546e+00</td>\n",
              "      <td>548.042297</td>\n",
              "    </tr>\n",
              "    <tr>\n",
              "      <th>10159558</th>\n",
              "      <td>7361</td>\n",
              "      <td>1378</td>\n",
              "      <td>8</td>\n",
              "      <td>1.000709</td>\n",
              "      <td>1.000751</td>\n",
              "      <td>1.000042</td>\n",
              "      <td>1.000042</td>\n",
              "      <td>1.337402e+00</td>\n",
              "      <td>320.624756</td>\n",
              "      <td>0.826239</td>\n",
              "      <td>5.164965e-01</td>\n",
              "      <td>123.819839</td>\n",
              "    </tr>\n",
              "    <tr>\n",
              "      <th>10159559</th>\n",
              "      <td>7361</td>\n",
              "      <td>1379</td>\n",
              "      <td>8</td>\n",
              "      <td>1.000000</td>\n",
              "      <td>1.000918</td>\n",
              "      <td>0.999958</td>\n",
              "      <td>1.000876</td>\n",
              "      <td>1.278548e+00</td>\n",
              "      <td>306.542389</td>\n",
              "      <td>0.642631</td>\n",
              "      <td>7.320906e-01</td>\n",
              "      <td>175.527679</td>\n",
              "    </tr>\n",
              "  </tbody>\n",
              "</table>\n",
              "<p>10159560 rows × 12 columns</p>\n",
              "</div>"
            ],
            "text/plain": [
              "          sample_id  time  coin_index  ...      trades    tb_base_av    tb_quote_av\n",
              "0                 0     0           7  ...  451.157288  7.326834e+05   37725.183594\n",
              "1                 0     1           7  ...   39.231071  0.000000e+00       0.000000\n",
              "2                 0     2           7  ...   58.846603  1.664967e+04     857.377808\n",
              "3                 0     3           7  ...  431.541779  2.189147e+06  112811.046875\n",
              "4                 0     4           7  ...  176.539810  0.000000e+00       0.000000\n",
              "...             ...   ...         ...  ...         ...           ...            ...\n",
              "10159555       7361  1375           8  ...    2.245034  6.229020e+00    1494.727417\n",
              "10159556       7361  1376           8  ...    2.211651  3.056139e+00     733.490601\n",
              "10159557       7361  1377           8  ...    1.260224  2.284546e+00     548.042297\n",
              "10159558       7361  1378           8  ...    0.826239  5.164965e-01     123.819839\n",
              "10159559       7361  1379           8  ...    0.642631  7.320906e-01     175.527679\n",
              "\n",
              "[10159560 rows x 12 columns]"
            ]
          },
          "metadata": {
            "tags": []
          },
          "execution_count": 3
        }
      ]
    },
    {
      "cell_type": "code",
      "metadata": {
        "id": "FNIGUY27Rhih"
      },
      "source": [
        "def preprocess(df_2d):\n",
        "    # convert 2d dataframe to 3d shape \n",
        "    feature_size = df_2d.iloc[:,2:].shape[1]\n",
        "    time_size = len(df_2d.time.value_counts())\n",
        "    sample_size = len(df_2d.sample_id.value_counts())\n",
        "    sample_index = df_2d.sample_id.value_counts().index\n",
        "    array_3d = df_2d.iloc[:,2:].values.reshape([sample_size, time_size, feature_size])\n",
        "    return array_3d\n"
      ],
      "execution_count": 4,
      "outputs": []
    },
    {
      "cell_type": "code",
      "metadata": {
        "colab": {
          "base_uri": "https://localhost:8080/"
        },
        "id": "AP4BoVKuWpai",
        "outputId": "27f255cf-8bb1-44e5-fe22-3a72430fc6ec"
      },
      "source": [
        "x_train = preprocess(train_x) \n",
        "y_train = preprocess(train_y) \n",
        "x_test  = preprocess(test_x) \n",
        "\n",
        "x_train.shape, y_train.shape, x_test.shape"
      ],
      "execution_count": 5,
      "outputs": [
        {
          "output_type": "execute_result",
          "data": {
            "text/plain": [
              "((7362, 1380, 10), (7362, 120, 10), (529, 1380, 10))"
            ]
          },
          "metadata": {
            "tags": []
          },
          "execution_count": 5
        }
      ]
    },
    {
      "cell_type": "markdown",
      "metadata": {
        "id": "v5qmd8wgswAJ"
      },
      "source": [
        "we then standardize both train and test data. The mean and standard deviation are derived from the train set. "
      ]
    },
    {
      "cell_type": "code",
      "metadata": {
        "colab": {
          "base_uri": "https://localhost:8080/"
        },
        "id": "75hMZjZcqPX9",
        "outputId": "716a269f-82b2-4799-f3f9-24cfe4c386ec"
      },
      "source": [
        "mu = np.mean(np.concatenate([x_train, y_train], axis = 1)) \n",
        "std = np.std(np.concatenate([x_train, y_train], axis = 1)) \n",
        "\n",
        "print(mu, std)"
      ],
      "execution_count": 6,
      "outputs": [
        {
          "output_type": "stream",
          "text": [
            "119131.40956127715 3377136.213566099\n"
          ],
          "name": "stdout"
        }
      ]
    },
    {
      "cell_type": "code",
      "metadata": {
        "id": "R4hbUPXZtQq2"
      },
      "source": [
        "x_train = (x_train - mu) / std \n",
        "y_train = (y_train - mu) / std \n",
        "x_test = (x_test - mu) / std"
      ],
      "execution_count": 7,
      "outputs": []
    },
    {
      "cell_type": "markdown",
      "metadata": {
        "id": "OuDqxKIYjghP"
      },
      "source": [
        "We create a simple supervised model that takes in the sequence of chart values and predicts two values as the output \n",
        "- the point at which the close price reaches its highest point \n",
        "- the value at the highest point "
      ]
    },
    {
      "cell_type": "code",
      "metadata": {
        "colab": {
          "base_uri": "https://localhost:8080/"
        },
        "id": "WlkCcnnwio_i",
        "outputId": "2fc4098a-0d2d-419a-c247-b451b53d9425"
      },
      "source": [
        "y_train_max_pts = [] \n",
        "for i in tqdm(range(y_train.shape[0]), position = 0, leave = True):\n",
        "  maxval = -1 \n",
        "  time_idx = 0 \n",
        "  for j in range(y_train.shape[1]):  \n",
        "    if y_train[i,j,5] > maxval: \n",
        "      maxval = y_train[i,j,5]  \n",
        "      time_idx = j   \n",
        "  l = [maxval, time_idx]\n",
        "  y_train_max_pts.append(np.asarray(l)) \n",
        "\n",
        "y_train_max_pts = np.asarray(y_train_max_pts) \n",
        "\n",
        "y_train_max_pts.shape"
      ],
      "execution_count": 8,
      "outputs": [
        {
          "output_type": "stream",
          "text": [
            "100%|██████████| 7362/7362 [00:00<00:00, 19310.66it/s]\n"
          ],
          "name": "stderr"
        },
        {
          "output_type": "execute_result",
          "data": {
            "text/plain": [
              "(7362, 2)"
            ]
          },
          "metadata": {
            "tags": []
          },
          "execution_count": 8
        }
      ]
    },
    {
      "cell_type": "markdown",
      "metadata": {
        "id": "jLP_ZhgDorBe"
      },
      "source": [
        "Now, we are ready to train a model that trains on 10 features and outputs two values. Let's build the model first. "
      ]
    },
    {
      "cell_type": "code",
      "metadata": {
        "id": "krGvrfIRpu5l"
      },
      "source": [
        "# define RMSE custom loss\n",
        "def rmse(y_true, y_pred):\n",
        "        return K.sqrt(K.mean(K.square(y_pred - y_true))) "
      ],
      "execution_count": 9,
      "outputs": []
    },
    {
      "cell_type": "code",
      "metadata": {
        "id": "aAcGOzLymMwH"
      },
      "source": [
        "def build_model(timesteps, features): \n",
        "  inputs = Input((timesteps,features)) \n",
        "  bn = BatchNormalization()(inputs)\n",
        "  lstm = Bidirectional(LSTM(256, return_sequences = True))(bn)\n",
        "  lstm = Dropout(0.25)(lstm) \n",
        "  lstm = Bidirectional(LSTM(128, return_sequences = False))(lstm) \n",
        "  lstm = Dropout(0.25)(lstm) \n",
        "  dense = Dense(64, activation = 'relu', kernel_initializer = 'he_normal')(lstm) \n",
        "  dense = BatchNormalization()(dense) \n",
        "  dense = Dense(32, activation = 'relu', kernel_initializer = 'he_normal')(dense) \n",
        "  dense = BatchNormalization()(dense) \n",
        "  outputs = Dense(2, activation = 'relu')(dense) \n",
        "  model = Model(inputs=inputs, outputs=outputs) \n",
        "  model.compile(loss=rmse, optimizer = 'adam') \n",
        "  return model "
      ],
      "execution_count": 10,
      "outputs": []
    },
    {
      "cell_type": "code",
      "metadata": {
        "colab": {
          "base_uri": "https://localhost:8080/"
        },
        "id": "NEhOOZmHpyeC",
        "outputId": "d9974f05-3616-44c8-e280-7170e86c7f85"
      },
      "source": [
        "model = build_model(1380, 10)\n",
        "model.summary()"
      ],
      "execution_count": 11,
      "outputs": [
        {
          "output_type": "stream",
          "text": [
            "Model: \"model\"\n",
            "_________________________________________________________________\n",
            "Layer (type)                 Output Shape              Param #   \n",
            "=================================================================\n",
            "input_1 (InputLayer)         [(None, 1380, 10)]        0         \n",
            "_________________________________________________________________\n",
            "batch_normalization (BatchNo (None, 1380, 10)          40        \n",
            "_________________________________________________________________\n",
            "bidirectional (Bidirectional (None, 1380, 512)         546816    \n",
            "_________________________________________________________________\n",
            "dropout (Dropout)            (None, 1380, 512)         0         \n",
            "_________________________________________________________________\n",
            "bidirectional_1 (Bidirection (None, 256)               656384    \n",
            "_________________________________________________________________\n",
            "dropout_1 (Dropout)          (None, 256)               0         \n",
            "_________________________________________________________________\n",
            "dense (Dense)                (None, 64)                16448     \n",
            "_________________________________________________________________\n",
            "batch_normalization_1 (Batch (None, 64)                256       \n",
            "_________________________________________________________________\n",
            "dense_1 (Dense)              (None, 32)                2080      \n",
            "_________________________________________________________________\n",
            "batch_normalization_2 (Batch (None, 32)                128       \n",
            "_________________________________________________________________\n",
            "dense_2 (Dense)              (None, 2)                 66        \n",
            "=================================================================\n",
            "Total params: 1,222,218\n",
            "Trainable params: 1,222,006\n",
            "Non-trainable params: 212\n",
            "_________________________________________________________________\n"
          ],
          "name": "stdout"
        }
      ]
    },
    {
      "cell_type": "code",
      "metadata": {
        "id": "vVGui4ylrtfi"
      },
      "source": [
        "model_path = 'drive/MyDrive/bitTrader/proto_model/epoch_{epoch:03d}_val_{val_loss:.3f}.h5'\n",
        "checkpoint = ModelCheckpoint(filepath=model_path, monitor = 'val_loss', verbose = 1, save_best_only = True)\n",
        "early_stopping = EarlyStopping(monitor = 'val_loss', patience = 15) \n"
      ],
      "execution_count": 12,
      "outputs": []
    },
    {
      "cell_type": "code",
      "metadata": {
        "colab": {
          "base_uri": "https://localhost:8080/",
          "height": 1000
        },
        "id": "I5KcMB4Hp0cT",
        "outputId": "b03e3255-81aa-4475-bea3-bacf64ff7845"
      },
      "source": [
        "history = model.fit(x_train, \n",
        "                   y_train_max_pts, \n",
        "                   batch_size = 32, \n",
        "                   epochs = 200, \n",
        "                   validation_split = 0.2,\n",
        "                   callbacks = [early_stopping, checkpoint])"
      ],
      "execution_count": 13,
      "outputs": [
        {
          "output_type": "stream",
          "text": [
            "Epoch 1/200\n",
            "185/185 [==============================] - 77s 373ms/step - loss: 47.4930 - val_loss: 45.3268\n",
            "\n",
            "Epoch 00001: val_loss improved from inf to 45.32679, saving model to drive/MyDrive/bitTrader/proto_model/epoch_001_val_45.327.h5\n",
            "Epoch 2/200\n",
            "185/185 [==============================] - 67s 365ms/step - loss: 45.7924 - val_loss: 29.0226\n",
            "\n",
            "Epoch 00002: val_loss improved from 45.32679 to 29.02263, saving model to drive/MyDrive/bitTrader/proto_model/epoch_002_val_29.023.h5\n",
            "Epoch 3/200\n",
            "185/185 [==============================] - 68s 366ms/step - loss: 42.2339 - val_loss: 27.8618\n",
            "\n",
            "Epoch 00003: val_loss improved from 29.02263 to 27.86177, saving model to drive/MyDrive/bitTrader/proto_model/epoch_003_val_27.862.h5\n",
            "Epoch 4/200\n",
            "185/185 [==============================] - 67s 363ms/step - loss: 37.1774 - val_loss: 27.7490\n",
            "\n",
            "Epoch 00004: val_loss improved from 27.86177 to 27.74898, saving model to drive/MyDrive/bitTrader/proto_model/epoch_004_val_27.749.h5\n",
            "Epoch 5/200\n",
            "185/185 [==============================] - 68s 367ms/step - loss: 31.6468 - val_loss: 28.5272\n",
            "\n",
            "Epoch 00005: val_loss did not improve from 27.74898\n",
            "Epoch 6/200\n",
            "185/185 [==============================] - 68s 366ms/step - loss: 29.6561 - val_loss: 28.1747\n",
            "\n",
            "Epoch 00006: val_loss did not improve from 27.74898\n",
            "Epoch 7/200\n",
            "185/185 [==============================] - 68s 366ms/step - loss: 28.3865 - val_loss: 28.0070\n",
            "\n",
            "Epoch 00007: val_loss did not improve from 27.74898\n",
            "Epoch 8/200\n",
            "185/185 [==============================] - 68s 366ms/step - loss: 27.2124 - val_loss: 27.3894\n",
            "\n",
            "Epoch 00008: val_loss improved from 27.74898 to 27.38943, saving model to drive/MyDrive/bitTrader/proto_model/epoch_008_val_27.389.h5\n",
            "Epoch 9/200\n",
            "185/185 [==============================] - 67s 363ms/step - loss: 27.5570 - val_loss: 27.3813\n",
            "\n",
            "Epoch 00009: val_loss improved from 27.38943 to 27.38134, saving model to drive/MyDrive/bitTrader/proto_model/epoch_009_val_27.381.h5\n",
            "Epoch 10/200\n",
            "185/185 [==============================] - 67s 363ms/step - loss: 28.5131 - val_loss: 27.4120\n",
            "\n",
            "Epoch 00010: val_loss did not improve from 27.38134\n",
            "Epoch 11/200\n",
            "185/185 [==============================] - 68s 366ms/step - loss: 27.2562 - val_loss: 27.6089\n",
            "\n",
            "Epoch 00011: val_loss did not improve from 27.38134\n",
            "Epoch 12/200\n",
            "185/185 [==============================] - 68s 366ms/step - loss: 27.1341 - val_loss: 28.1711\n",
            "\n",
            "Epoch 00012: val_loss did not improve from 27.38134\n",
            "Epoch 13/200\n",
            "185/185 [==============================] - 68s 365ms/step - loss: 27.3732 - val_loss: 27.5895\n",
            "\n",
            "Epoch 00013: val_loss did not improve from 27.38134\n",
            "Epoch 14/200\n",
            "185/185 [==============================] - 67s 365ms/step - loss: 27.1265 - val_loss: 27.4824\n",
            "\n",
            "Epoch 00014: val_loss did not improve from 27.38134\n",
            "Epoch 15/200\n",
            "185/185 [==============================] - 67s 362ms/step - loss: 27.6485 - val_loss: 27.3477\n",
            "\n",
            "Epoch 00015: val_loss improved from 27.38134 to 27.34769, saving model to drive/MyDrive/bitTrader/proto_model/epoch_015_val_27.348.h5\n",
            "Epoch 16/200\n",
            "185/185 [==============================] - 67s 365ms/step - loss: 27.4104 - val_loss: 27.2875\n",
            "\n",
            "Epoch 00016: val_loss improved from 27.34769 to 27.28747, saving model to drive/MyDrive/bitTrader/proto_model/epoch_016_val_27.287.h5\n",
            "Epoch 17/200\n",
            "185/185 [==============================] - 68s 365ms/step - loss: 27.1518 - val_loss: 27.5367\n",
            "\n",
            "Epoch 00017: val_loss did not improve from 27.28747\n",
            "Epoch 18/200\n",
            "185/185 [==============================] - 68s 366ms/step - loss: 27.2171 - val_loss: 27.2911\n",
            "\n",
            "Epoch 00018: val_loss did not improve from 27.28747\n",
            "Epoch 19/200\n",
            "185/185 [==============================] - 68s 366ms/step - loss: 26.7642 - val_loss: 27.3429\n",
            "\n",
            "Epoch 00019: val_loss did not improve from 27.28747\n",
            "Epoch 20/200\n",
            "185/185 [==============================] - 67s 363ms/step - loss: 27.4714 - val_loss: 27.3153\n",
            "\n",
            "Epoch 00020: val_loss did not improve from 27.28747\n",
            "Epoch 21/200\n",
            "185/185 [==============================] - 67s 362ms/step - loss: 27.0723 - val_loss: 27.3024\n",
            "\n",
            "Epoch 00021: val_loss did not improve from 27.28747\n",
            "Epoch 22/200\n",
            "  8/185 [>.............................] - ETA: 59s - loss: 26.0655"
          ],
          "name": "stdout"
        },
        {
          "output_type": "error",
          "ename": "KeyboardInterrupt",
          "evalue": "ignored",
          "traceback": [
            "\u001b[0;31m---------------------------------------------------------------------------\u001b[0m",
            "\u001b[0;31mKeyboardInterrupt\u001b[0m                         Traceback (most recent call last)",
            "\u001b[0;32m<ipython-input-13-1518b2a2f7d2>\u001b[0m in \u001b[0;36m<module>\u001b[0;34m()\u001b[0m\n\u001b[1;32m      4\u001b[0m                    \u001b[0mepochs\u001b[0m \u001b[0;34m=\u001b[0m \u001b[0;36m200\u001b[0m\u001b[0;34m,\u001b[0m\u001b[0;34m\u001b[0m\u001b[0;34m\u001b[0m\u001b[0m\n\u001b[1;32m      5\u001b[0m                    \u001b[0mvalidation_split\u001b[0m \u001b[0;34m=\u001b[0m \u001b[0;36m0.2\u001b[0m\u001b[0;34m,\u001b[0m\u001b[0;34m\u001b[0m\u001b[0;34m\u001b[0m\u001b[0m\n\u001b[0;32m----> 6\u001b[0;31m                    callbacks = [early_stopping, checkpoint])\n\u001b[0m",
            "\u001b[0;32m/usr/local/lib/python3.7/dist-packages/tensorflow/python/keras/engine/training.py\u001b[0m in \u001b[0;36mfit\u001b[0;34m(self, x, y, batch_size, epochs, verbose, callbacks, validation_split, validation_data, shuffle, class_weight, sample_weight, initial_epoch, steps_per_epoch, validation_steps, validation_batch_size, validation_freq, max_queue_size, workers, use_multiprocessing)\u001b[0m\n\u001b[1;32m   1103\u001b[0m               \u001b[0mlogs\u001b[0m \u001b[0;34m=\u001b[0m \u001b[0mtmp_logs\u001b[0m  \u001b[0;31m# No error, now safe to assign to logs.\u001b[0m\u001b[0;34m\u001b[0m\u001b[0;34m\u001b[0m\u001b[0m\n\u001b[1;32m   1104\u001b[0m               \u001b[0mend_step\u001b[0m \u001b[0;34m=\u001b[0m \u001b[0mstep\u001b[0m \u001b[0;34m+\u001b[0m \u001b[0mdata_handler\u001b[0m\u001b[0;34m.\u001b[0m\u001b[0mstep_increment\u001b[0m\u001b[0;34m\u001b[0m\u001b[0;34m\u001b[0m\u001b[0m\n\u001b[0;32m-> 1105\u001b[0;31m               \u001b[0mcallbacks\u001b[0m\u001b[0;34m.\u001b[0m\u001b[0mon_train_batch_end\u001b[0m\u001b[0;34m(\u001b[0m\u001b[0mend_step\u001b[0m\u001b[0;34m,\u001b[0m \u001b[0mlogs\u001b[0m\u001b[0;34m)\u001b[0m\u001b[0;34m\u001b[0m\u001b[0;34m\u001b[0m\u001b[0m\n\u001b[0m\u001b[1;32m   1106\u001b[0m               \u001b[0;32mif\u001b[0m \u001b[0mself\u001b[0m\u001b[0;34m.\u001b[0m\u001b[0mstop_training\u001b[0m\u001b[0;34m:\u001b[0m\u001b[0;34m\u001b[0m\u001b[0;34m\u001b[0m\u001b[0m\n\u001b[1;32m   1107\u001b[0m                 \u001b[0;32mbreak\u001b[0m\u001b[0;34m\u001b[0m\u001b[0;34m\u001b[0m\u001b[0m\n",
            "\u001b[0;32m/usr/local/lib/python3.7/dist-packages/tensorflow/python/keras/callbacks.py\u001b[0m in \u001b[0;36mon_train_batch_end\u001b[0;34m(self, batch, logs)\u001b[0m\n\u001b[1;32m    452\u001b[0m     \"\"\"\n\u001b[1;32m    453\u001b[0m     \u001b[0;32mif\u001b[0m \u001b[0mself\u001b[0m\u001b[0;34m.\u001b[0m\u001b[0m_should_call_train_batch_hooks\u001b[0m\u001b[0;34m:\u001b[0m\u001b[0;34m\u001b[0m\u001b[0;34m\u001b[0m\u001b[0m\n\u001b[0;32m--> 454\u001b[0;31m       \u001b[0mself\u001b[0m\u001b[0;34m.\u001b[0m\u001b[0m_call_batch_hook\u001b[0m\u001b[0;34m(\u001b[0m\u001b[0mModeKeys\u001b[0m\u001b[0;34m.\u001b[0m\u001b[0mTRAIN\u001b[0m\u001b[0;34m,\u001b[0m \u001b[0;34m'end'\u001b[0m\u001b[0;34m,\u001b[0m \u001b[0mbatch\u001b[0m\u001b[0;34m,\u001b[0m \u001b[0mlogs\u001b[0m\u001b[0;34m=\u001b[0m\u001b[0mlogs\u001b[0m\u001b[0;34m)\u001b[0m\u001b[0;34m\u001b[0m\u001b[0;34m\u001b[0m\u001b[0m\n\u001b[0m\u001b[1;32m    455\u001b[0m \u001b[0;34m\u001b[0m\u001b[0m\n\u001b[1;32m    456\u001b[0m   \u001b[0;32mdef\u001b[0m \u001b[0mon_test_batch_begin\u001b[0m\u001b[0;34m(\u001b[0m\u001b[0mself\u001b[0m\u001b[0;34m,\u001b[0m \u001b[0mbatch\u001b[0m\u001b[0;34m,\u001b[0m \u001b[0mlogs\u001b[0m\u001b[0;34m=\u001b[0m\u001b[0;32mNone\u001b[0m\u001b[0;34m)\u001b[0m\u001b[0;34m:\u001b[0m\u001b[0;34m\u001b[0m\u001b[0;34m\u001b[0m\u001b[0m\n",
            "\u001b[0;32m/usr/local/lib/python3.7/dist-packages/tensorflow/python/keras/callbacks.py\u001b[0m in \u001b[0;36m_call_batch_hook\u001b[0;34m(self, mode, hook, batch, logs)\u001b[0m\n\u001b[1;32m    294\u001b[0m       \u001b[0mself\u001b[0m\u001b[0;34m.\u001b[0m\u001b[0m_call_batch_begin_hook\u001b[0m\u001b[0;34m(\u001b[0m\u001b[0mmode\u001b[0m\u001b[0;34m,\u001b[0m \u001b[0mbatch\u001b[0m\u001b[0;34m,\u001b[0m \u001b[0mlogs\u001b[0m\u001b[0;34m)\u001b[0m\u001b[0;34m\u001b[0m\u001b[0;34m\u001b[0m\u001b[0m\n\u001b[1;32m    295\u001b[0m     \u001b[0;32melif\u001b[0m \u001b[0mhook\u001b[0m \u001b[0;34m==\u001b[0m \u001b[0;34m'end'\u001b[0m\u001b[0;34m:\u001b[0m\u001b[0;34m\u001b[0m\u001b[0;34m\u001b[0m\u001b[0m\n\u001b[0;32m--> 296\u001b[0;31m       \u001b[0mself\u001b[0m\u001b[0;34m.\u001b[0m\u001b[0m_call_batch_end_hook\u001b[0m\u001b[0;34m(\u001b[0m\u001b[0mmode\u001b[0m\u001b[0;34m,\u001b[0m \u001b[0mbatch\u001b[0m\u001b[0;34m,\u001b[0m \u001b[0mlogs\u001b[0m\u001b[0;34m)\u001b[0m\u001b[0;34m\u001b[0m\u001b[0;34m\u001b[0m\u001b[0m\n\u001b[0m\u001b[1;32m    297\u001b[0m     \u001b[0;32melse\u001b[0m\u001b[0;34m:\u001b[0m\u001b[0;34m\u001b[0m\u001b[0;34m\u001b[0m\u001b[0m\n\u001b[1;32m    298\u001b[0m       \u001b[0;32mraise\u001b[0m \u001b[0mValueError\u001b[0m\u001b[0;34m(\u001b[0m\u001b[0;34m'Unrecognized hook: {}'\u001b[0m\u001b[0;34m.\u001b[0m\u001b[0mformat\u001b[0m\u001b[0;34m(\u001b[0m\u001b[0mhook\u001b[0m\u001b[0;34m)\u001b[0m\u001b[0;34m)\u001b[0m\u001b[0;34m\u001b[0m\u001b[0;34m\u001b[0m\u001b[0m\n",
            "\u001b[0;32m/usr/local/lib/python3.7/dist-packages/tensorflow/python/keras/callbacks.py\u001b[0m in \u001b[0;36m_call_batch_end_hook\u001b[0;34m(self, mode, batch, logs)\u001b[0m\n\u001b[1;32m    314\u001b[0m       \u001b[0mself\u001b[0m\u001b[0;34m.\u001b[0m\u001b[0m_batch_times\u001b[0m\u001b[0;34m.\u001b[0m\u001b[0mappend\u001b[0m\u001b[0;34m(\u001b[0m\u001b[0mbatch_time\u001b[0m\u001b[0;34m)\u001b[0m\u001b[0;34m\u001b[0m\u001b[0;34m\u001b[0m\u001b[0m\n\u001b[1;32m    315\u001b[0m \u001b[0;34m\u001b[0m\u001b[0m\n\u001b[0;32m--> 316\u001b[0;31m     \u001b[0mself\u001b[0m\u001b[0;34m.\u001b[0m\u001b[0m_call_batch_hook_helper\u001b[0m\u001b[0;34m(\u001b[0m\u001b[0mhook_name\u001b[0m\u001b[0;34m,\u001b[0m \u001b[0mbatch\u001b[0m\u001b[0;34m,\u001b[0m \u001b[0mlogs\u001b[0m\u001b[0;34m)\u001b[0m\u001b[0;34m\u001b[0m\u001b[0;34m\u001b[0m\u001b[0m\n\u001b[0m\u001b[1;32m    317\u001b[0m \u001b[0;34m\u001b[0m\u001b[0m\n\u001b[1;32m    318\u001b[0m     \u001b[0;32mif\u001b[0m \u001b[0mlen\u001b[0m\u001b[0;34m(\u001b[0m\u001b[0mself\u001b[0m\u001b[0;34m.\u001b[0m\u001b[0m_batch_times\u001b[0m\u001b[0;34m)\u001b[0m \u001b[0;34m>=\u001b[0m \u001b[0mself\u001b[0m\u001b[0;34m.\u001b[0m\u001b[0m_num_batches_for_timing_check\u001b[0m\u001b[0;34m:\u001b[0m\u001b[0;34m\u001b[0m\u001b[0;34m\u001b[0m\u001b[0m\n",
            "\u001b[0;32m/usr/local/lib/python3.7/dist-packages/tensorflow/python/keras/callbacks.py\u001b[0m in \u001b[0;36m_call_batch_hook_helper\u001b[0;34m(self, hook_name, batch, logs)\u001b[0m\n\u001b[1;32m    354\u001b[0m       \u001b[0mhook\u001b[0m \u001b[0;34m=\u001b[0m \u001b[0mgetattr\u001b[0m\u001b[0;34m(\u001b[0m\u001b[0mcallback\u001b[0m\u001b[0;34m,\u001b[0m \u001b[0mhook_name\u001b[0m\u001b[0;34m)\u001b[0m\u001b[0;34m\u001b[0m\u001b[0;34m\u001b[0m\u001b[0m\n\u001b[1;32m    355\u001b[0m       \u001b[0;32mif\u001b[0m \u001b[0mgetattr\u001b[0m\u001b[0;34m(\u001b[0m\u001b[0mcallback\u001b[0m\u001b[0;34m,\u001b[0m \u001b[0;34m'_supports_tf_logs'\u001b[0m\u001b[0;34m,\u001b[0m \u001b[0;32mFalse\u001b[0m\u001b[0;34m)\u001b[0m\u001b[0;34m:\u001b[0m\u001b[0;34m\u001b[0m\u001b[0;34m\u001b[0m\u001b[0m\n\u001b[0;32m--> 356\u001b[0;31m         \u001b[0mhook\u001b[0m\u001b[0;34m(\u001b[0m\u001b[0mbatch\u001b[0m\u001b[0;34m,\u001b[0m \u001b[0mlogs\u001b[0m\u001b[0;34m)\u001b[0m\u001b[0;34m\u001b[0m\u001b[0;34m\u001b[0m\u001b[0m\n\u001b[0m\u001b[1;32m    357\u001b[0m       \u001b[0;32melse\u001b[0m\u001b[0;34m:\u001b[0m\u001b[0;34m\u001b[0m\u001b[0;34m\u001b[0m\u001b[0m\n\u001b[1;32m    358\u001b[0m         \u001b[0;32mif\u001b[0m \u001b[0mnumpy_logs\u001b[0m \u001b[0;32mis\u001b[0m \u001b[0;32mNone\u001b[0m\u001b[0;34m:\u001b[0m  \u001b[0;31m# Only convert once.\u001b[0m\u001b[0;34m\u001b[0m\u001b[0;34m\u001b[0m\u001b[0m\n",
            "\u001b[0;32m/usr/local/lib/python3.7/dist-packages/tensorflow/python/keras/callbacks.py\u001b[0m in \u001b[0;36mon_train_batch_end\u001b[0;34m(self, batch, logs)\u001b[0m\n\u001b[1;32m   1018\u001b[0m \u001b[0;34m\u001b[0m\u001b[0m\n\u001b[1;32m   1019\u001b[0m   \u001b[0;32mdef\u001b[0m \u001b[0mon_train_batch_end\u001b[0m\u001b[0;34m(\u001b[0m\u001b[0mself\u001b[0m\u001b[0;34m,\u001b[0m \u001b[0mbatch\u001b[0m\u001b[0;34m,\u001b[0m \u001b[0mlogs\u001b[0m\u001b[0;34m=\u001b[0m\u001b[0;32mNone\u001b[0m\u001b[0;34m)\u001b[0m\u001b[0;34m:\u001b[0m\u001b[0;34m\u001b[0m\u001b[0;34m\u001b[0m\u001b[0m\n\u001b[0;32m-> 1020\u001b[0;31m     \u001b[0mself\u001b[0m\u001b[0;34m.\u001b[0m\u001b[0m_batch_update_progbar\u001b[0m\u001b[0;34m(\u001b[0m\u001b[0mbatch\u001b[0m\u001b[0;34m,\u001b[0m \u001b[0mlogs\u001b[0m\u001b[0;34m)\u001b[0m\u001b[0;34m\u001b[0m\u001b[0;34m\u001b[0m\u001b[0m\n\u001b[0m\u001b[1;32m   1021\u001b[0m \u001b[0;34m\u001b[0m\u001b[0m\n\u001b[1;32m   1022\u001b[0m   \u001b[0;32mdef\u001b[0m \u001b[0mon_test_batch_end\u001b[0m\u001b[0;34m(\u001b[0m\u001b[0mself\u001b[0m\u001b[0;34m,\u001b[0m \u001b[0mbatch\u001b[0m\u001b[0;34m,\u001b[0m \u001b[0mlogs\u001b[0m\u001b[0;34m=\u001b[0m\u001b[0;32mNone\u001b[0m\u001b[0;34m)\u001b[0m\u001b[0;34m:\u001b[0m\u001b[0;34m\u001b[0m\u001b[0;34m\u001b[0m\u001b[0m\n",
            "\u001b[0;32m/usr/local/lib/python3.7/dist-packages/tensorflow/python/keras/callbacks.py\u001b[0m in \u001b[0;36m_batch_update_progbar\u001b[0;34m(self, batch, logs)\u001b[0m\n\u001b[1;32m   1083\u001b[0m       \u001b[0;31m# Only block async when verbose = 1.\u001b[0m\u001b[0;34m\u001b[0m\u001b[0;34m\u001b[0m\u001b[0;34m\u001b[0m\u001b[0m\n\u001b[1;32m   1084\u001b[0m       \u001b[0mlogs\u001b[0m \u001b[0;34m=\u001b[0m \u001b[0mtf_utils\u001b[0m\u001b[0;34m.\u001b[0m\u001b[0mto_numpy_or_python_type\u001b[0m\u001b[0;34m(\u001b[0m\u001b[0mlogs\u001b[0m\u001b[0;34m)\u001b[0m\u001b[0;34m\u001b[0m\u001b[0;34m\u001b[0m\u001b[0m\n\u001b[0;32m-> 1085\u001b[0;31m       \u001b[0mself\u001b[0m\u001b[0;34m.\u001b[0m\u001b[0mprogbar\u001b[0m\u001b[0;34m.\u001b[0m\u001b[0mupdate\u001b[0m\u001b[0;34m(\u001b[0m\u001b[0mself\u001b[0m\u001b[0;34m.\u001b[0m\u001b[0mseen\u001b[0m\u001b[0;34m,\u001b[0m \u001b[0mlist\u001b[0m\u001b[0;34m(\u001b[0m\u001b[0mlogs\u001b[0m\u001b[0;34m.\u001b[0m\u001b[0mitems\u001b[0m\u001b[0;34m(\u001b[0m\u001b[0;34m)\u001b[0m\u001b[0;34m)\u001b[0m\u001b[0;34m,\u001b[0m \u001b[0mfinalize\u001b[0m\u001b[0;34m=\u001b[0m\u001b[0;32mFalse\u001b[0m\u001b[0;34m)\u001b[0m\u001b[0;34m\u001b[0m\u001b[0;34m\u001b[0m\u001b[0m\n\u001b[0m\u001b[1;32m   1086\u001b[0m \u001b[0;34m\u001b[0m\u001b[0m\n\u001b[1;32m   1087\u001b[0m   \u001b[0;32mdef\u001b[0m \u001b[0m_finalize_progbar\u001b[0m\u001b[0;34m(\u001b[0m\u001b[0mself\u001b[0m\u001b[0;34m,\u001b[0m \u001b[0mlogs\u001b[0m\u001b[0;34m,\u001b[0m \u001b[0mcounter\u001b[0m\u001b[0;34m)\u001b[0m\u001b[0;34m:\u001b[0m\u001b[0;34m\u001b[0m\u001b[0;34m\u001b[0m\u001b[0m\n",
            "\u001b[0;32m/usr/local/lib/python3.7/dist-packages/tensorflow/python/keras/utils/generic_utils.py\u001b[0m in \u001b[0;36mupdate\u001b[0;34m(self, current, values, finalize)\u001b[0m\n\u001b[1;32m    639\u001b[0m \u001b[0;34m\u001b[0m\u001b[0m\n\u001b[1;32m    640\u001b[0m       \u001b[0msys\u001b[0m\u001b[0;34m.\u001b[0m\u001b[0mstdout\u001b[0m\u001b[0;34m.\u001b[0m\u001b[0mwrite\u001b[0m\u001b[0;34m(\u001b[0m\u001b[0minfo\u001b[0m\u001b[0;34m)\u001b[0m\u001b[0;34m\u001b[0m\u001b[0;34m\u001b[0m\u001b[0m\n\u001b[0;32m--> 641\u001b[0;31m       \u001b[0msys\u001b[0m\u001b[0;34m.\u001b[0m\u001b[0mstdout\u001b[0m\u001b[0;34m.\u001b[0m\u001b[0mflush\u001b[0m\u001b[0;34m(\u001b[0m\u001b[0;34m)\u001b[0m\u001b[0;34m\u001b[0m\u001b[0;34m\u001b[0m\u001b[0m\n\u001b[0m\u001b[1;32m    642\u001b[0m \u001b[0;34m\u001b[0m\u001b[0m\n\u001b[1;32m    643\u001b[0m     \u001b[0;32melif\u001b[0m \u001b[0mself\u001b[0m\u001b[0;34m.\u001b[0m\u001b[0mverbose\u001b[0m \u001b[0;34m==\u001b[0m \u001b[0;36m2\u001b[0m\u001b[0;34m:\u001b[0m\u001b[0;34m\u001b[0m\u001b[0;34m\u001b[0m\u001b[0m\n",
            "\u001b[0;32m/usr/local/lib/python3.7/dist-packages/ipykernel/iostream.py\u001b[0m in \u001b[0;36mflush\u001b[0;34m(self)\u001b[0m\n\u001b[1;32m    347\u001b[0m                 \u001b[0mself\u001b[0m\u001b[0;34m.\u001b[0m\u001b[0mpub_thread\u001b[0m\u001b[0;34m.\u001b[0m\u001b[0mschedule\u001b[0m\u001b[0;34m(\u001b[0m\u001b[0mevt\u001b[0m\u001b[0;34m.\u001b[0m\u001b[0mset\u001b[0m\u001b[0;34m)\u001b[0m\u001b[0;34m\u001b[0m\u001b[0;34m\u001b[0m\u001b[0m\n\u001b[1;32m    348\u001b[0m                 \u001b[0;31m# and give a timeout to avoid\u001b[0m\u001b[0;34m\u001b[0m\u001b[0;34m\u001b[0m\u001b[0;34m\u001b[0m\u001b[0m\n\u001b[0;32m--> 349\u001b[0;31m                 \u001b[0;32mif\u001b[0m \u001b[0;32mnot\u001b[0m \u001b[0mevt\u001b[0m\u001b[0;34m.\u001b[0m\u001b[0mwait\u001b[0m\u001b[0;34m(\u001b[0m\u001b[0mself\u001b[0m\u001b[0;34m.\u001b[0m\u001b[0mflush_timeout\u001b[0m\u001b[0;34m)\u001b[0m\u001b[0;34m:\u001b[0m\u001b[0;34m\u001b[0m\u001b[0;34m\u001b[0m\u001b[0m\n\u001b[0m\u001b[1;32m    350\u001b[0m                     \u001b[0;31m# write directly to __stderr__ instead of warning because\u001b[0m\u001b[0;34m\u001b[0m\u001b[0;34m\u001b[0m\u001b[0;34m\u001b[0m\u001b[0m\n\u001b[1;32m    351\u001b[0m                     \u001b[0;31m# if this is happening sys.stderr may be the problem.\u001b[0m\u001b[0;34m\u001b[0m\u001b[0;34m\u001b[0m\u001b[0;34m\u001b[0m\u001b[0m\n",
            "\u001b[0;32m/usr/lib/python3.7/threading.py\u001b[0m in \u001b[0;36mwait\u001b[0;34m(self, timeout)\u001b[0m\n\u001b[1;32m    550\u001b[0m             \u001b[0msignaled\u001b[0m \u001b[0;34m=\u001b[0m \u001b[0mself\u001b[0m\u001b[0;34m.\u001b[0m\u001b[0m_flag\u001b[0m\u001b[0;34m\u001b[0m\u001b[0;34m\u001b[0m\u001b[0m\n\u001b[1;32m    551\u001b[0m             \u001b[0;32mif\u001b[0m \u001b[0;32mnot\u001b[0m \u001b[0msignaled\u001b[0m\u001b[0;34m:\u001b[0m\u001b[0;34m\u001b[0m\u001b[0;34m\u001b[0m\u001b[0m\n\u001b[0;32m--> 552\u001b[0;31m                 \u001b[0msignaled\u001b[0m \u001b[0;34m=\u001b[0m \u001b[0mself\u001b[0m\u001b[0;34m.\u001b[0m\u001b[0m_cond\u001b[0m\u001b[0;34m.\u001b[0m\u001b[0mwait\u001b[0m\u001b[0;34m(\u001b[0m\u001b[0mtimeout\u001b[0m\u001b[0;34m)\u001b[0m\u001b[0;34m\u001b[0m\u001b[0;34m\u001b[0m\u001b[0m\n\u001b[0m\u001b[1;32m    553\u001b[0m             \u001b[0;32mreturn\u001b[0m \u001b[0msignaled\u001b[0m\u001b[0;34m\u001b[0m\u001b[0;34m\u001b[0m\u001b[0m\n\u001b[1;32m    554\u001b[0m \u001b[0;34m\u001b[0m\u001b[0m\n",
            "\u001b[0;32m/usr/lib/python3.7/threading.py\u001b[0m in \u001b[0;36mwait\u001b[0;34m(self, timeout)\u001b[0m\n\u001b[1;32m    298\u001b[0m             \u001b[0;32melse\u001b[0m\u001b[0;34m:\u001b[0m\u001b[0;34m\u001b[0m\u001b[0;34m\u001b[0m\u001b[0m\n\u001b[1;32m    299\u001b[0m                 \u001b[0;32mif\u001b[0m \u001b[0mtimeout\u001b[0m \u001b[0;34m>\u001b[0m \u001b[0;36m0\u001b[0m\u001b[0;34m:\u001b[0m\u001b[0;34m\u001b[0m\u001b[0;34m\u001b[0m\u001b[0m\n\u001b[0;32m--> 300\u001b[0;31m                     \u001b[0mgotit\u001b[0m \u001b[0;34m=\u001b[0m \u001b[0mwaiter\u001b[0m\u001b[0;34m.\u001b[0m\u001b[0macquire\u001b[0m\u001b[0;34m(\u001b[0m\u001b[0;32mTrue\u001b[0m\u001b[0;34m,\u001b[0m \u001b[0mtimeout\u001b[0m\u001b[0;34m)\u001b[0m\u001b[0;34m\u001b[0m\u001b[0;34m\u001b[0m\u001b[0m\n\u001b[0m\u001b[1;32m    301\u001b[0m                 \u001b[0;32melse\u001b[0m\u001b[0;34m:\u001b[0m\u001b[0;34m\u001b[0m\u001b[0;34m\u001b[0m\u001b[0m\n\u001b[1;32m    302\u001b[0m                     \u001b[0mgotit\u001b[0m \u001b[0;34m=\u001b[0m \u001b[0mwaiter\u001b[0m\u001b[0;34m.\u001b[0m\u001b[0macquire\u001b[0m\u001b[0;34m(\u001b[0m\u001b[0;32mFalse\u001b[0m\u001b[0;34m)\u001b[0m\u001b[0;34m\u001b[0m\u001b[0;34m\u001b[0m\u001b[0m\n",
            "\u001b[0;31mKeyboardInterrupt\u001b[0m: "
          ]
        }
      ]
    },
    {
      "cell_type": "markdown",
      "metadata": {
        "id": "LqV0tJPbuE9I"
      },
      "source": [
        "We created a model that predicts the sell time as well as the sell price. \n",
        "i.e. the model returns (sell price, sell time) \n",
        "\n",
        "our trading algorithm is very simple. If the predicted sell price is higher than the buy price (we are buying at the 23rd hour or at 1380th minute), our buy quantity ratio will be 1, and the sell time would be the predicted sell time.  "
      ]
    },
    {
      "cell_type": "code",
      "metadata": {
        "colab": {
          "base_uri": "https://localhost:8080/",
          "height": 204
        },
        "id": "S8cT5DmnulLr",
        "outputId": "61520ee5-dffc-4be4-caaa-11e43ceac601"
      },
      "source": [
        "# let's check the format of the sample submission file. \n",
        "submission.head() "
      ],
      "execution_count": 14,
      "outputs": [
        {
          "output_type": "execute_result",
          "data": {
            "text/html": [
              "<div>\n",
              "<style scoped>\n",
              "    .dataframe tbody tr th:only-of-type {\n",
              "        vertical-align: middle;\n",
              "    }\n",
              "\n",
              "    .dataframe tbody tr th {\n",
              "        vertical-align: top;\n",
              "    }\n",
              "\n",
              "    .dataframe thead th {\n",
              "        text-align: right;\n",
              "    }\n",
              "</style>\n",
              "<table border=\"1\" class=\"dataframe\">\n",
              "  <thead>\n",
              "    <tr style=\"text-align: right;\">\n",
              "      <th></th>\n",
              "      <th>sample_id</th>\n",
              "      <th>buy_quantity</th>\n",
              "      <th>sell_time</th>\n",
              "    </tr>\n",
              "  </thead>\n",
              "  <tbody>\n",
              "    <tr>\n",
              "      <th>0</th>\n",
              "      <td>0</td>\n",
              "      <td>0.480752</td>\n",
              "      <td>39</td>\n",
              "    </tr>\n",
              "    <tr>\n",
              "      <th>1</th>\n",
              "      <td>1</td>\n",
              "      <td>0.649667</td>\n",
              "      <td>0</td>\n",
              "    </tr>\n",
              "    <tr>\n",
              "      <th>2</th>\n",
              "      <td>2</td>\n",
              "      <td>0.057547</td>\n",
              "      <td>58</td>\n",
              "    </tr>\n",
              "    <tr>\n",
              "      <th>3</th>\n",
              "      <td>3</td>\n",
              "      <td>0.607298</td>\n",
              "      <td>10</td>\n",
              "    </tr>\n",
              "    <tr>\n",
              "      <th>4</th>\n",
              "      <td>4</td>\n",
              "      <td>0.461313</td>\n",
              "      <td>47</td>\n",
              "    </tr>\n",
              "  </tbody>\n",
              "</table>\n",
              "</div>"
            ],
            "text/plain": [
              "   sample_id  buy_quantity  sell_time\n",
              "0          0      0.480752         39\n",
              "1          1      0.649667          0\n",
              "2          2      0.057547         58\n",
              "3          3      0.607298         10\n",
              "4          4      0.461313         47"
            ]
          },
          "metadata": {
            "tags": []
          },
          "execution_count": 14
        }
      ]
    },
    {
      "cell_type": "code",
      "metadata": {
        "colab": {
          "base_uri": "https://localhost:8080/"
        },
        "id": "hLQLobCcuq_z",
        "outputId": "c3992212-d306-40cf-837c-48f5af158400"
      },
      "source": [
        "best_model = load_model('./drive/MyDrive/bitTrader/proto_model/epoch_016_val_27.287.h5', \n",
        "                        custom_objects = {'rmse':rmse}) \n",
        "\n",
        "predicted = best_model.predict(x_test) \n",
        "\n",
        "predicted.shape"
      ],
      "execution_count": 20,
      "outputs": [
        {
          "output_type": "execute_result",
          "data": {
            "text/plain": [
              "(529, 2)"
            ]
          },
          "metadata": {
            "tags": []
          },
          "execution_count": 20
        }
      ]
    },
    {
      "cell_type": "code",
      "metadata": {
        "id": "1dZ9Gf6gy8FL"
      },
      "source": [
        "# scale back \n",
        "predicted[:,0] = (predicted[:,0] * std) + mu "
      ],
      "execution_count": 21,
      "outputs": []
    },
    {
      "cell_type": "code",
      "metadata": {
        "colab": {
          "base_uri": "https://localhost:8080/"
        },
        "id": "EHZzClg-wrRm",
        "outputId": "dd5ba64c-2851-4d1a-ee26-91890d936b17"
      },
      "source": [
        "buy_prices = x_test[:,1379,5] \n",
        "buy_prices.shape # print shape of buy price array.  "
      ],
      "execution_count": 24,
      "outputs": [
        {
          "output_type": "execute_result",
          "data": {
            "text/plain": [
              "(529,)"
            ]
          },
          "metadata": {
            "tags": []
          },
          "execution_count": 24
        }
      ]
    },
    {
      "cell_type": "code",
      "metadata": {
        "id": "S4Q_quiAxt44"
      },
      "source": [
        "buy_quantity = [] \n",
        "sell_time = [] \n",
        "for i in range(buy_prices.shape[0]):\n",
        "  if buy_prices[i] < predicted[i,0]:  \n",
        "    buy_quantity.append(1) \n",
        "    sell_time.append(predicted[i,1])\n",
        "  else: \n",
        "    buy_quantity.append(0) \n",
        "    sell_time.append(predicted[i][2]) \n",
        "     "
      ],
      "execution_count": 26,
      "outputs": []
    },
    {
      "cell_type": "code",
      "metadata": {
        "id": "xvlqGin20KP8"
      },
      "source": [
        "buy_quantity = np.asarray(buy_quantity) \n",
        "sell_time = np.asarray(sell_time).astype(np.int32)"
      ],
      "execution_count": 34,
      "outputs": []
    },
    {
      "cell_type": "code",
      "metadata": {
        "id": "AiBZUkpy0bqa"
      },
      "source": [
        ""
      ],
      "execution_count": null,
      "outputs": []
    },
    {
      "cell_type": "code",
      "metadata": {
        "colab": {
          "base_uri": "https://localhost:8080/"
        },
        "id": "DO9HMBag0Ppz",
        "outputId": "7722d7e6-fc94-4b05-e62f-3cd1c2fa055d"
      },
      "source": [
        "buy_quantity.shape, sell_time.shape"
      ],
      "execution_count": 35,
      "outputs": [
        {
          "output_type": "execute_result",
          "data": {
            "text/plain": [
              "((529,), (529,))"
            ]
          },
          "metadata": {
            "tags": []
          },
          "execution_count": 35
        }
      ]
    },
    {
      "cell_type": "code",
      "metadata": {
        "id": "s4kaWU920Rdl"
      },
      "source": [
        "submission.iloc[:,1] = buy_quantity \n",
        "submission.iloc[:,2] = sell_time"
      ],
      "execution_count": 36,
      "outputs": []
    },
    {
      "cell_type": "code",
      "metadata": {
        "colab": {
          "base_uri": "https://localhost:8080/",
          "height": 204
        },
        "id": "CGrswRBS0Sa4",
        "outputId": "51cb071d-77fb-442c-889b-dc8edfaf61ec"
      },
      "source": [
        "submission.head()"
      ],
      "execution_count": 37,
      "outputs": [
        {
          "output_type": "execute_result",
          "data": {
            "text/html": [
              "<div>\n",
              "<style scoped>\n",
              "    .dataframe tbody tr th:only-of-type {\n",
              "        vertical-align: middle;\n",
              "    }\n",
              "\n",
              "    .dataframe tbody tr th {\n",
              "        vertical-align: top;\n",
              "    }\n",
              "\n",
              "    .dataframe thead th {\n",
              "        text-align: right;\n",
              "    }\n",
              "</style>\n",
              "<table border=\"1\" class=\"dataframe\">\n",
              "  <thead>\n",
              "    <tr style=\"text-align: right;\">\n",
              "      <th></th>\n",
              "      <th>sample_id</th>\n",
              "      <th>buy_quantity</th>\n",
              "      <th>sell_time</th>\n",
              "    </tr>\n",
              "  </thead>\n",
              "  <tbody>\n",
              "    <tr>\n",
              "      <th>0</th>\n",
              "      <td>0</td>\n",
              "      <td>1</td>\n",
              "      <td>56</td>\n",
              "    </tr>\n",
              "    <tr>\n",
              "      <th>1</th>\n",
              "      <td>1</td>\n",
              "      <td>1</td>\n",
              "      <td>57</td>\n",
              "    </tr>\n",
              "    <tr>\n",
              "      <th>2</th>\n",
              "      <td>2</td>\n",
              "      <td>1</td>\n",
              "      <td>57</td>\n",
              "    </tr>\n",
              "    <tr>\n",
              "      <th>3</th>\n",
              "      <td>3</td>\n",
              "      <td>1</td>\n",
              "      <td>57</td>\n",
              "    </tr>\n",
              "    <tr>\n",
              "      <th>4</th>\n",
              "      <td>4</td>\n",
              "      <td>1</td>\n",
              "      <td>59</td>\n",
              "    </tr>\n",
              "  </tbody>\n",
              "</table>\n",
              "</div>"
            ],
            "text/plain": [
              "   sample_id  buy_quantity  sell_time\n",
              "0          0             1         56\n",
              "1          1             1         57\n",
              "2          2             1         57\n",
              "3          3             1         57\n",
              "4          4             1         59"
            ]
          },
          "metadata": {
            "tags": []
          },
          "execution_count": 37
        }
      ]
    },
    {
      "cell_type": "code",
      "metadata": {
        "id": "flWwiUbU0YnJ"
      },
      "source": [
        "submission.to_csv('drive/MyDrive/bitTrader/LSTM_test.csv',index=False)"
      ],
      "execution_count": 38,
      "outputs": []
    },
    {
      "cell_type": "code",
      "metadata": {
        "id": "u3uOnHcf0f1a"
      },
      "source": [
        ""
      ],
      "execution_count": null,
      "outputs": []
    }
  ]
}