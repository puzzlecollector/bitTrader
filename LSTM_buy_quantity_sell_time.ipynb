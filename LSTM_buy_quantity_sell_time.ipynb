{
 "cells": [
  {
   "cell_type": "markdown",
   "metadata": {},
   "source": [
    "## Load dataset"
   ]
  },
  {
   "cell_type": "code",
   "execution_count": null,
   "metadata": {},
   "outputs": [],
   "source": [
    "import numpy as np \n",
    "import pandas as pd \n",
    "from tensorflow.keras.models import *\n",
    "from tensorflow.keras.layers import *  \n",
    "from tensorflow.keras.callbacks import *\n",
    "import torch \n",
    "import torch.nn as nn\n",
    "import time\n",
    "import random\n",
    "import math\n",
    "from matplotlib import pyplot\n",
    "\n",
    "torch.manual_seed(0)\n",
    "np.random.seed(0)\n"
   ]
  },
  {
   "cell_type": "code",
   "execution_count": 2,
   "metadata": {},
   "outputs": [],
   "source": [
    "train_x = pd.read_csv('train_x_df.csv') \n",
    "train_y = pd.read_csv('train_y_df.csv') \n",
    "test_x = pd.read_csv('test_x_df.csv')\n",
    "submission = pd.read_csv('sample_submission.csv')"
   ]
  },
  {
   "cell_type": "code",
   "execution_count": 3,
   "metadata": {},
   "outputs": [
    {
     "data": {
      "text/html": [
       "<div>\n",
       "<style scoped>\n",
       "    .dataframe tbody tr th:only-of-type {\n",
       "        vertical-align: middle;\n",
       "    }\n",
       "\n",
       "    .dataframe tbody tr th {\n",
       "        vertical-align: top;\n",
       "    }\n",
       "\n",
       "    .dataframe thead th {\n",
       "        text-align: right;\n",
       "    }\n",
       "</style>\n",
       "<table border=\"1\" class=\"dataframe\">\n",
       "  <thead>\n",
       "    <tr style=\"text-align: right;\">\n",
       "      <th></th>\n",
       "      <th>sample_id</th>\n",
       "      <th>time</th>\n",
       "      <th>coin_index</th>\n",
       "      <th>open</th>\n",
       "      <th>high</th>\n",
       "      <th>low</th>\n",
       "      <th>close</th>\n",
       "      <th>volume</th>\n",
       "      <th>quote_av</th>\n",
       "      <th>trades</th>\n",
       "      <th>tb_base_av</th>\n",
       "      <th>tb_quote_av</th>\n",
       "    </tr>\n",
       "  </thead>\n",
       "  <tbody>\n",
       "    <tr>\n",
       "      <th>0</th>\n",
       "      <td>0</td>\n",
       "      <td>0</td>\n",
       "      <td>7</td>\n",
       "      <td>1.010004</td>\n",
       "      <td>1.010004</td>\n",
       "      <td>1.009612</td>\n",
       "      <td>1.010004</td>\n",
       "      <td>8.382875e+05</td>\n",
       "      <td>43160.632812</td>\n",
       "      <td>451.157288</td>\n",
       "      <td>7.326834e+05</td>\n",
       "      <td>37725.183594</td>\n",
       "    </tr>\n",
       "    <tr>\n",
       "      <th>1</th>\n",
       "      <td>0</td>\n",
       "      <td>1</td>\n",
       "      <td>7</td>\n",
       "      <td>1.009808</td>\n",
       "      <td>1.009808</td>\n",
       "      <td>1.009808</td>\n",
       "      <td>1.009808</td>\n",
       "      <td>1.622420e+05</td>\n",
       "      <td>8352.220703</td>\n",
       "      <td>39.231071</td>\n",
       "      <td>0.000000e+00</td>\n",
       "      <td>0.000000</td>\n",
       "    </tr>\n",
       "    <tr>\n",
       "      <th>2</th>\n",
       "      <td>0</td>\n",
       "      <td>2</td>\n",
       "      <td>7</td>\n",
       "      <td>1.009808</td>\n",
       "      <td>1.010200</td>\n",
       "      <td>1.009808</td>\n",
       "      <td>1.010200</td>\n",
       "      <td>1.664967e+04</td>\n",
       "      <td>857.377808</td>\n",
       "      <td>58.846603</td>\n",
       "      <td>1.664967e+04</td>\n",
       "      <td>857.377808</td>\n",
       "    </tr>\n",
       "    <tr>\n",
       "      <th>3</th>\n",
       "      <td>0</td>\n",
       "      <td>3</td>\n",
       "      <td>7</td>\n",
       "      <td>1.010200</td>\n",
       "      <td>1.011181</td>\n",
       "      <td>1.010200</td>\n",
       "      <td>1.011181</td>\n",
       "      <td>2.586971e+06</td>\n",
       "      <td>133310.343750</td>\n",
       "      <td>431.541779</td>\n",
       "      <td>2.189147e+06</td>\n",
       "      <td>112811.046875</td>\n",
       "    </tr>\n",
       "    <tr>\n",
       "      <th>4</th>\n",
       "      <td>0</td>\n",
       "      <td>4</td>\n",
       "      <td>7</td>\n",
       "      <td>1.010985</td>\n",
       "      <td>1.010985</td>\n",
       "      <td>1.010200</td>\n",
       "      <td>1.010200</td>\n",
       "      <td>1.129996e+06</td>\n",
       "      <td>58216.867188</td>\n",
       "      <td>176.539810</td>\n",
       "      <td>0.000000e+00</td>\n",
       "      <td>0.000000</td>\n",
       "    </tr>\n",
       "  </tbody>\n",
       "</table>\n",
       "</div>"
      ],
      "text/plain": [
       "   sample_id  time  coin_index      open      high       low     close  \\\n",
       "0          0     0           7  1.010004  1.010004  1.009612  1.010004   \n",
       "1          0     1           7  1.009808  1.009808  1.009808  1.009808   \n",
       "2          0     2           7  1.009808  1.010200  1.009808  1.010200   \n",
       "3          0     3           7  1.010200  1.011181  1.010200  1.011181   \n",
       "4          0     4           7  1.010985  1.010985  1.010200  1.010200   \n",
       "\n",
       "         volume       quote_av      trades    tb_base_av    tb_quote_av  \n",
       "0  8.382875e+05   43160.632812  451.157288  7.326834e+05   37725.183594  \n",
       "1  1.622420e+05    8352.220703   39.231071  0.000000e+00       0.000000  \n",
       "2  1.664967e+04     857.377808   58.846603  1.664967e+04     857.377808  \n",
       "3  2.586971e+06  133310.343750  431.541779  2.189147e+06  112811.046875  \n",
       "4  1.129996e+06   58216.867188  176.539810  0.000000e+00       0.000000  "
      ]
     },
     "execution_count": 3,
     "metadata": {},
     "output_type": "execute_result"
    }
   ],
   "source": [
    "train_x.head()"
   ]
  },
  {
   "cell_type": "code",
   "execution_count": 4,
   "metadata": {},
   "outputs": [
    {
     "data": {
      "text/html": [
       "<div>\n",
       "<style scoped>\n",
       "    .dataframe tbody tr th:only-of-type {\n",
       "        vertical-align: middle;\n",
       "    }\n",
       "\n",
       "    .dataframe tbody tr th {\n",
       "        vertical-align: top;\n",
       "    }\n",
       "\n",
       "    .dataframe thead th {\n",
       "        text-align: right;\n",
       "    }\n",
       "</style>\n",
       "<table border=\"1\" class=\"dataframe\">\n",
       "  <thead>\n",
       "    <tr style=\"text-align: right;\">\n",
       "      <th></th>\n",
       "      <th>sample_id</th>\n",
       "      <th>time</th>\n",
       "      <th>coin_index</th>\n",
       "      <th>open</th>\n",
       "      <th>high</th>\n",
       "      <th>low</th>\n",
       "      <th>close</th>\n",
       "      <th>volume</th>\n",
       "      <th>quote_av</th>\n",
       "      <th>trades</th>\n",
       "      <th>tb_base_av</th>\n",
       "      <th>tb_quote_av</th>\n",
       "    </tr>\n",
       "  </thead>\n",
       "  <tbody>\n",
       "    <tr>\n",
       "      <th>0</th>\n",
       "      <td>0</td>\n",
       "      <td>0</td>\n",
       "      <td>7</td>\n",
       "      <td>1.000392</td>\n",
       "      <td>1.000588</td>\n",
       "      <td>1.000392</td>\n",
       "      <td>1.000588</td>\n",
       "      <td>8.305119e+05</td>\n",
       "      <td>42356.179688</td>\n",
       "      <td>137.308746</td>\n",
       "      <td>8.305119e+05</td>\n",
       "      <td>42356.179688</td>\n",
       "    </tr>\n",
       "    <tr>\n",
       "      <th>1</th>\n",
       "      <td>0</td>\n",
       "      <td>1</td>\n",
       "      <td>7</td>\n",
       "      <td>1.000588</td>\n",
       "      <td>1.001177</td>\n",
       "      <td>1.000392</td>\n",
       "      <td>1.001177</td>\n",
       "      <td>5.320066e+05</td>\n",
       "      <td>27140.638672</td>\n",
       "      <td>294.233032</td>\n",
       "      <td>4.882738e+05</td>\n",
       "      <td>24909.861328</td>\n",
       "    </tr>\n",
       "    <tr>\n",
       "      <th>2</th>\n",
       "      <td>0</td>\n",
       "      <td>2</td>\n",
       "      <td>7</td>\n",
       "      <td>1.001177</td>\n",
       "      <td>1.001177</td>\n",
       "      <td>1.001177</td>\n",
       "      <td>1.001177</td>\n",
       "      <td>5.113770e+05</td>\n",
       "      <td>26100.681641</td>\n",
       "      <td>58.846603</td>\n",
       "      <td>5.113770e+05</td>\n",
       "      <td>26100.681641</td>\n",
       "    </tr>\n",
       "    <tr>\n",
       "      <th>3</th>\n",
       "      <td>0</td>\n",
       "      <td>3</td>\n",
       "      <td>7</td>\n",
       "      <td>1.001177</td>\n",
       "      <td>1.001373</td>\n",
       "      <td>1.001177</td>\n",
       "      <td>1.001373</td>\n",
       "      <td>1.134853e+06</td>\n",
       "      <td>57929.410156</td>\n",
       "      <td>137.308746</td>\n",
       "      <td>1.095514e+06</td>\n",
       "      <td>55921.156250</td>\n",
       "    </tr>\n",
       "    <tr>\n",
       "      <th>4</th>\n",
       "      <td>0</td>\n",
       "      <td>4</td>\n",
       "      <td>7</td>\n",
       "      <td>1.000981</td>\n",
       "      <td>1.000981</td>\n",
       "      <td>0.999804</td>\n",
       "      <td>1.000196</td>\n",
       "      <td>5.801173e+06</td>\n",
       "      <td>295872.343750</td>\n",
       "      <td>666.928162</td>\n",
       "      <td>9.911239e+05</td>\n",
       "      <td>50528.589844</td>\n",
       "    </tr>\n",
       "  </tbody>\n",
       "</table>\n",
       "</div>"
      ],
      "text/plain": [
       "   sample_id  time  coin_index      open      high       low     close  \\\n",
       "0          0     0           7  1.000392  1.000588  1.000392  1.000588   \n",
       "1          0     1           7  1.000588  1.001177  1.000392  1.001177   \n",
       "2          0     2           7  1.001177  1.001177  1.001177  1.001177   \n",
       "3          0     3           7  1.001177  1.001373  1.001177  1.001373   \n",
       "4          0     4           7  1.000981  1.000981  0.999804  1.000196   \n",
       "\n",
       "         volume       quote_av      trades    tb_base_av   tb_quote_av  \n",
       "0  8.305119e+05   42356.179688  137.308746  8.305119e+05  42356.179688  \n",
       "1  5.320066e+05   27140.638672  294.233032  4.882738e+05  24909.861328  \n",
       "2  5.113770e+05   26100.681641   58.846603  5.113770e+05  26100.681641  \n",
       "3  1.134853e+06   57929.410156  137.308746  1.095514e+06  55921.156250  \n",
       "4  5.801173e+06  295872.343750  666.928162  9.911239e+05  50528.589844  "
      ]
     },
     "execution_count": 4,
     "metadata": {},
     "output_type": "execute_result"
    }
   ],
   "source": [
    "train_y.head()"
   ]
  },
  {
   "cell_type": "code",
   "execution_count": 5,
   "metadata": {},
   "outputs": [
    {
     "data": {
      "text/plain": [
       "((10159560, 12), (883440, 12), (730020, 12), (529, 3))"
      ]
     },
     "execution_count": 5,
     "metadata": {},
     "output_type": "execute_result"
    }
   ],
   "source": [
    "train_x.shape, train_y.shape, test_x.shape, submission.shape "
   ]
  },
  {
   "cell_type": "code",
   "execution_count": 6,
   "metadata": {},
   "outputs": [
    {
     "data": {
      "text/plain": [
       "((7362, 1380, 10), (7362, 120, 10), (529, 1380, 10))"
      ]
     },
     "execution_count": 6,
     "metadata": {},
     "output_type": "execute_result"
    }
   ],
   "source": [
    "def df2d_to_array3d(df_2d):\n",
    "    feature_size = df_2d.iloc[:,2:].shape[1]\n",
    "    time_size = len(df_2d.time.value_counts())\n",
    "    sample_size = len(df_2d.sample_id.value_counts())\n",
    "    array_3d = df_2d.iloc[:,2:].values.reshape([sample_size, time_size, feature_size])\n",
    "    return array_3d\n",
    "\n",
    "\n",
    "x_train = df2d_to_array3d(train_x) \n",
    "y_train = df2d_to_array3d(train_y) \n",
    "x_test = df2d_to_array3d(test_x) \n",
    "\n",
    "x_train.shape, y_train.shape, x_test.shape"
   ]
  },
  {
   "cell_type": "code",
   "execution_count": 7,
   "metadata": {},
   "outputs": [],
   "source": [
    "y_train_close = y_train[:,:,4]\n",
    "x_train_close = x_train[:,:,4].reshape((-1,1380)) \n",
    "x_test_close = x_test[:,:,4].reshape((-1,1380))"
   ]
  },
  {
   "cell_type": "code",
   "execution_count": 8,
   "metadata": {},
   "outputs": [
    {
     "data": {
      "text/plain": [
       "((7362, 1380), (7362, 120), (529, 1380))"
      ]
     },
     "execution_count": 8,
     "metadata": {},
     "output_type": "execute_result"
    }
   ],
   "source": [
    "x_train_close.shape, y_train_close.shape, x_test_close.shape"
   ]
  },
  {
   "cell_type": "code",
   "execution_count": 9,
   "metadata": {},
   "outputs": [],
   "source": [
    "buy_quantities = [] # either 0 or 1 \n",
    "sell_times = [] # when to sell i.e. when the close price reaches the highest point in the next 2 hours.  \n",
    "\n",
    "\n",
    "for i in range(y_train_close.shape[0]): \n",
    "    sell_time = np.argmax(y_train_close[i,:])  \n",
    "    sell_times.append(sell_time) \n",
    "    if y_train_close[i,sell_time] > x_train_close[i,-1]: \n",
    "        buy_quantities.append(1.0) \n",
    "    else: \n",
    "        buy_quantities.append(0.0)\n",
    "    \n",
    "\n",
    "buy_quantities = np.asarray(buy_quantities).reshape((-1,1))\n",
    "sell_times = np.asarray(sell_times).reshape((-1,1))"
   ]
  },
  {
   "cell_type": "markdown",
   "metadata": {},
   "source": [
    "## Define model"
   ]
  },
  {
   "cell_type": "code",
   "execution_count": 24,
   "metadata": {},
   "outputs": [],
   "source": [
    "def buy_quantity_LSTM(): \n",
    "    inputs = Input((1380,10)) # better to use all 10 features I think\n",
    "    bn = BatchNormalization()(inputs) \n",
    "    lstm = Bidirectional(LSTM(128, return_sequences = True))(bn) \n",
    "    lstm = Dropout(0.25)(lstm) \n",
    "    lstm = Bidirectional(LSTM(128, return_sequences = False))(lstm) \n",
    "    lstm = Dropout(0.25)(lstm) \n",
    "    dense = Dense(64, activation = 'relu')(lstm) \n",
    "    dense = BatchNormalization()(dense) \n",
    "    outputs = Dense(1, activation = 'sigmoid')(dense) \n",
    "    model = Model(inputs=inputs,outputs=outputs) \n",
    "    model.compile(loss='binary_crossentropy', optimizer = 'adam') \n",
    "    return model \n",
    "\n",
    "\n",
    "def sell_time_LSTM():\n",
    "    inputs = Input((1380,10)) \n",
    "    bn = BatchNormalization()(inputs)\n",
    "    lstm = Bidirectional(LSTM(128, return_sequences = True))(bn) \n",
    "    lstm = Dropout(0.25)(lstm) \n",
    "    lstm = Bidirectional(LSTM(128, return_sequences = False))(lstm) \n",
    "    lstm = Dropout(0.25)(lstm) \n",
    "    dense = Dense(64, activation = 'relu')(lstm) \n",
    "    dense = BatchNormalization()(dense) \n",
    "    outputs = Dense(120, activation = 'softmax')(dense) \n",
    "    model = Model(inputs=inputs,outputs=outputs) \n",
    "    model.compile(loss='sparse_categorical_crossentropy', optimizer = 'adam') \n",
    "    return model "
   ]
  },
  {
   "cell_type": "code",
   "execution_count": 28,
   "metadata": {},
   "outputs": [],
   "source": [
    "model_bq = buy_quantity_LSTM() \n",
    "model_st = sell_time_LSTM() "
   ]
  },
  {
   "cell_type": "markdown",
   "metadata": {},
   "source": [
    "## Train buy quantity model "
   ]
  },
  {
   "cell_type": "code",
   "execution_count": 29,
   "metadata": {},
   "outputs": [
    {
     "name": "stdout",
     "output_type": "stream",
     "text": [
      "Epoch 1/200\n",
      "185/185 [==============================] - 70s 292ms/step - loss: 0.5890 - val_loss: 0.2413\n",
      "\n",
      "Epoch 00001: val_loss improved from inf to 0.24132, saving model to bq_LSTM_epoch_001_val_0.241.h5\n",
      "Epoch 2/200\n",
      "185/185 [==============================] - 54s 291ms/step - loss: 0.2432 - val_loss: 0.2374\n",
      "\n",
      "Epoch 00002: val_loss improved from 0.24132 to 0.23739, saving model to bq_LSTM_epoch_002_val_0.237.h5\n",
      "Epoch 3/200\n",
      "185/185 [==============================] - 53s 285ms/step - loss: 0.2153 - val_loss: 0.2442\n",
      "\n",
      "Epoch 00003: val_loss did not improve from 0.23739\n",
      "Epoch 4/200\n",
      "185/185 [==============================] - 54s 291ms/step - loss: 0.2310 - val_loss: 0.2210\n",
      "\n",
      "Epoch 00004: val_loss improved from 0.23739 to 0.22096, saving model to bq_LSTM_epoch_004_val_0.221.h5\n",
      "Epoch 5/200\n",
      "185/185 [==============================] - 53s 287ms/step - loss: 0.2292 - val_loss: 0.2194\n",
      "\n",
      "Epoch 00005: val_loss improved from 0.22096 to 0.21939, saving model to bq_LSTM_epoch_005_val_0.219.h5\n",
      "Epoch 6/200\n",
      "185/185 [==============================] - 56s 303ms/step - loss: 0.2293 - val_loss: 0.2190\n",
      "\n",
      "Epoch 00006: val_loss improved from 0.21939 to 0.21901, saving model to bq_LSTM_epoch_006_val_0.219.h5\n",
      "Epoch 7/200\n",
      "185/185 [==============================] - 53s 289ms/step - loss: 0.2158 - val_loss: 0.2199\n",
      "\n",
      "Epoch 00007: val_loss did not improve from 0.21901\n",
      "Epoch 8/200\n",
      "185/185 [==============================] - 54s 293ms/step - loss: 0.2327 - val_loss: 0.2267\n",
      "\n",
      "Epoch 00008: ReduceLROnPlateau reducing learning rate to 0.0005000000237487257.\n",
      "\n",
      "Epoch 00008: val_loss did not improve from 0.21901\n",
      "Epoch 9/200\n",
      "185/185 [==============================] - 53s 289ms/step - loss: 0.2313 - val_loss: 0.2180\n",
      "\n",
      "Epoch 00009: val_loss improved from 0.21901 to 0.21797, saving model to bq_LSTM_epoch_009_val_0.218.h5\n",
      "Epoch 10/200\n",
      "185/185 [==============================] - 54s 291ms/step - loss: 0.2234 - val_loss: 0.2198\n",
      "\n",
      "Epoch 00010: val_loss did not improve from 0.21797\n",
      "Epoch 11/200\n",
      "185/185 [==============================] - 55s 296ms/step - loss: 0.2187 - val_loss: 0.2209\n",
      "\n",
      "Epoch 00011: ReduceLROnPlateau reducing learning rate to 0.0002500000118743628.\n",
      "\n",
      "Epoch 00011: val_loss did not improve from 0.21797\n",
      "Epoch 12/200\n",
      "185/185 [==============================] - 52s 281ms/step - loss: 0.2214 - val_loss: 0.2174\n",
      "\n",
      "Epoch 00012: val_loss improved from 0.21797 to 0.21739, saving model to bq_LSTM_epoch_012_val_0.217.h5\n",
      "Epoch 13/200\n",
      "185/185 [==============================] - 55s 299ms/step - loss: 0.2366 - val_loss: 0.2175\n",
      "\n",
      "Epoch 00013: val_loss did not improve from 0.21739\n",
      "Epoch 14/200\n",
      "185/185 [==============================] - 52s 280ms/step - loss: 0.2221 - val_loss: 0.2187\n",
      "\n",
      "Epoch 00014: ReduceLROnPlateau reducing learning rate to 0.0001250000059371814.\n",
      "\n",
      "Epoch 00014: val_loss did not improve from 0.21739\n",
      "Epoch 15/200\n",
      "185/185 [==============================] - 53s 288ms/step - loss: 0.2235 - val_loss: 0.2195\n",
      "\n",
      "Epoch 00015: val_loss did not improve from 0.21739\n",
      "Epoch 16/200\n",
      "185/185 [==============================] - 55s 299ms/step - loss: 0.2345 - val_loss: 0.2205\n",
      "\n",
      "Epoch 00016: ReduceLROnPlateau reducing learning rate to 6.25000029685907e-05.\n",
      "\n",
      "Epoch 00016: val_loss did not improve from 0.21739\n",
      "Epoch 17/200\n",
      "185/185 [==============================] - 54s 292ms/step - loss: 0.2093 - val_loss: 0.2212\n",
      "\n",
      "Epoch 00017: val_loss did not improve from 0.21739\n",
      "Epoch 18/200\n",
      "185/185 [==============================] - 55s 298ms/step - loss: 0.2220 - val_loss: 0.2207\n",
      "\n",
      "Epoch 00018: ReduceLROnPlateau reducing learning rate to 3.125000148429535e-05.\n",
      "\n",
      "Epoch 00018: val_loss did not improve from 0.21739\n",
      "Epoch 19/200\n",
      "185/185 [==============================] - 53s 287ms/step - loss: 0.2349 - val_loss: 0.2216\n",
      "\n",
      "Epoch 00019: val_loss did not improve from 0.21739\n",
      "Epoch 20/200\n",
      "185/185 [==============================] - 58s 313ms/step - loss: 0.2232 - val_loss: 0.2221\n",
      "\n",
      "Epoch 00020: ReduceLROnPlateau reducing learning rate to 1.5625000742147677e-05.\n",
      "\n",
      "Epoch 00020: val_loss did not improve from 0.21739\n",
      "Epoch 21/200\n",
      "185/185 [==============================] - 54s 289ms/step - loss: 0.2333 - val_loss: 0.2216\n",
      "\n",
      "Epoch 00021: val_loss did not improve from 0.21739\n",
      "Epoch 22/200\n",
      "185/185 [==============================] - 53s 288ms/step - loss: 0.2337 - val_loss: 0.2217\n",
      "\n",
      "Epoch 00022: ReduceLROnPlateau reducing learning rate to 7.812500371073838e-06.\n",
      "\n",
      "Epoch 00022: val_loss did not improve from 0.21739\n"
     ]
    }
   ],
   "source": [
    "model_path = 'bq_LSTM_epoch_{epoch:03d}_val_{val_loss:.3f}.h5'\n",
    "learning_rate_reduction = ReduceLROnPlateau(monitor = 'val_loss', patience = 2, verbose = 1, factor = 0.5)\n",
    "checkpoint = ModelCheckpoint(filepath = model_path, monitor = 'val_loss', verbose = 1, save_best_only = True)\n",
    "early_stopping = EarlyStopping(monitor = 'val_loss', patience = 10) \n",
    "history = model_bq.fit(x_train,\n",
    "                       buy_quantities,\n",
    "                       epochs = 200,\n",
    "                       batch_size = 32,\n",
    "                       validation_split = 0.2,\n",
    "                       callbacks = [learning_rate_reduction, checkpoint, early_stopping]) "
   ]
  },
  {
   "cell_type": "markdown",
   "metadata": {},
   "source": [
    "## Train sell time model"
   ]
  },
  {
   "cell_type": "code",
   "execution_count": 30,
   "metadata": {},
   "outputs": [
    {
     "name": "stdout",
     "output_type": "stream",
     "text": [
      "Epoch 1/200\n",
      "185/185 [==============================] - 72s 356ms/step - loss: 4.9840 - val_loss: 4.8630\n",
      "\n",
      "Epoch 00001: val_loss improved from inf to 4.86305, saving model to st_LSTM_epoch_001_val_4.863.h5\n",
      "Epoch 2/200\n",
      "185/185 [==============================] - 57s 310ms/step - loss: 4.7773 - val_loss: 4.7816\n",
      "\n",
      "Epoch 00002: val_loss improved from 4.86305 to 4.78159, saving model to st_LSTM_epoch_002_val_4.782.h5\n",
      "Epoch 3/200\n",
      "185/185 [==============================] - 55s 297ms/step - loss: 4.6979 - val_loss: 4.7325\n",
      "\n",
      "Epoch 00003: val_loss improved from 4.78159 to 4.73250, saving model to st_LSTM_epoch_003_val_4.732.h5\n",
      "Epoch 4/200\n",
      "185/185 [==============================] - 59s 318ms/step - loss: 4.6500 - val_loss: 4.7368\n",
      "\n",
      "Epoch 00004: val_loss did not improve from 4.73250\n",
      "Epoch 5/200\n",
      "185/185 [==============================] - 55s 296ms/step - loss: 4.6584 - val_loss: 4.6894\n",
      "\n",
      "Epoch 00005: val_loss improved from 4.73250 to 4.68943, saving model to st_LSTM_epoch_005_val_4.689.h5\n",
      "Epoch 6/200\n",
      "185/185 [==============================] - 59s 317ms/step - loss: 4.6366 - val_loss: 4.6873\n",
      "\n",
      "Epoch 00006: val_loss improved from 4.68943 to 4.68726, saving model to st_LSTM_epoch_006_val_4.687.h5\n",
      "Epoch 7/200\n",
      "185/185 [==============================] - 55s 296ms/step - loss: 4.6093 - val_loss: 4.7019\n",
      "\n",
      "Epoch 00009: val_loss did not improve from 4.68519\n",
      "Epoch 10/200\n",
      "185/185 [==============================] - 57s 307ms/step - loss: 4.6222 - val_loss: 4.7001\n",
      "\n",
      "Epoch 00010: ReduceLROnPlateau reducing learning rate to 0.0005000000237487257.\n",
      "\n",
      "Epoch 00010: val_loss did not improve from 4.68519\n",
      "Epoch 11/200\n",
      "185/185 [==============================] - 52s 283ms/step - loss: 4.6136 - val_loss: 4.6855\n",
      "\n",
      "Epoch 00011: val_loss did not improve from 4.68519\n",
      "Epoch 12/200\n",
      "185/185 [==============================] - 52s 281ms/step - loss: 4.6155 - val_loss: 4.6961\n",
      "\n",
      "Epoch 00012: ReduceLROnPlateau reducing learning rate to 0.0002500000118743628.\n",
      "\n",
      "Epoch 00012: val_loss did not improve from 4.68519\n",
      "Epoch 13/200\n",
      "185/185 [==============================] - 53s 288ms/step - loss: 4.5817 - val_loss: 4.6881\n",
      "\n",
      "Epoch 00015: val_loss did not improve from 4.68519\n",
      "Epoch 16/200\n",
      "185/185 [==============================] - 53s 288ms/step - loss: 4.5749 - val_loss: 4.6891\n",
      "\n",
      "Epoch 00016: ReduceLROnPlateau reducing learning rate to 6.25000029685907e-05.\n",
      "\n",
      "Epoch 00016: val_loss did not improve from 4.68519\n",
      "Epoch 17/200\n",
      "185/185 [==============================] - 51s 273ms/step - loss: 4.5741 - val_loss: 4.6894\n",
      "\n",
      "Epoch 00017: val_loss did not improve from 4.68519\n",
      "Epoch 18/200\n",
      "185/185 [==============================] - 54s 292ms/step - loss: 4.5801 - val_loss: 4.6925\n",
      "\n",
      "Epoch 00018: ReduceLROnPlateau reducing learning rate to 3.125000148429535e-05.\n",
      "\n",
      "Epoch 00018: val_loss did not improve from 4.68519\n"
     ]
    }
   ],
   "source": [
    "model_path = 'st_LSTM_epoch_{epoch:03d}_val_{val_loss:.3f}.h5'\n",
    "learning_rate_reduction = ReduceLROnPlateau(monitor = 'val_loss', patience = 2, verbose = 1, factor = 0.5)\n",
    "checkpoint = ModelCheckpoint(filepath = model_path, monitor = 'val_loss', verbose = 1, save_best_only = True)\n",
    "early_stopping = EarlyStopping(monitor = 'val_loss', patience = 10) \n",
    "history = model_st.fit(x_train,\n",
    "                       sell_times,\n",
    "                       epochs = 200,\n",
    "                       batch_size = 32,\n",
    "                       validation_split = 0.2, \n",
    "                       callbacks = [learning_rate_reduction, checkpoint, early_stopping]) "
   ]
  },
  {
   "cell_type": "markdown",
   "metadata": {},
   "source": [
    "## Make Prediction"
   ]
  },
  {
   "cell_type": "code",
   "execution_count": 10,
   "metadata": {},
   "outputs": [],
   "source": [
    "best_bq = load_model('bq_LSTM_epoch_012_val_0.217.h5') \n",
    "best_st = load_model('st_LSTM_epoch_008_val_4.685.h5')"
   ]
  },
  {
   "cell_type": "code",
   "execution_count": 13,
   "metadata": {},
   "outputs": [],
   "source": [
    "predicted_bq = best_bq.predict(x_test)"
   ]
  },
  {
   "cell_type": "code",
   "execution_count": 14,
   "metadata": {},
   "outputs": [],
   "source": [
    "predicted_st = best_st.predict(x_test)"
   ]
  },
  {
   "cell_type": "code",
   "execution_count": 19,
   "metadata": {},
   "outputs": [],
   "source": [
    "exact_times = []\n",
    "for sell_time in predicted_st: \n",
    "    exact_times.append(np.argmax(sell_time))"
   ]
  },
  {
   "cell_type": "code",
   "execution_count": 20,
   "metadata": {},
   "outputs": [],
   "source": [
    "exact_times = np.asarray(exact_times)"
   ]
  },
  {
   "cell_type": "code",
   "execution_count": 24,
   "metadata": {},
   "outputs": [],
   "source": [
    "submission.iloc[:,1] = predicted_bq \n",
    "submission.iloc[:,2] = exact_times"
   ]
  },
  {
   "cell_type": "code",
   "execution_count": 25,
   "metadata": {},
   "outputs": [
    {
     "data": {
      "text/html": [
       "<div>\n",
       "<style scoped>\n",
       "    .dataframe tbody tr th:only-of-type {\n",
       "        vertical-align: middle;\n",
       "    }\n",
       "\n",
       "    .dataframe tbody tr th {\n",
       "        vertical-align: top;\n",
       "    }\n",
       "\n",
       "    .dataframe thead th {\n",
       "        text-align: right;\n",
       "    }\n",
       "</style>\n",
       "<table border=\"1\" class=\"dataframe\">\n",
       "  <thead>\n",
       "    <tr style=\"text-align: right;\">\n",
       "      <th></th>\n",
       "      <th>sample_id</th>\n",
       "      <th>buy_quantity</th>\n",
       "      <th>sell_time</th>\n",
       "    </tr>\n",
       "  </thead>\n",
       "  <tbody>\n",
       "    <tr>\n",
       "      <th>0</th>\n",
       "      <td>0</td>\n",
       "      <td>0.934824</td>\n",
       "      <td>0</td>\n",
       "    </tr>\n",
       "    <tr>\n",
       "      <th>1</th>\n",
       "      <td>1</td>\n",
       "      <td>0.941020</td>\n",
       "      <td>0</td>\n",
       "    </tr>\n",
       "    <tr>\n",
       "      <th>2</th>\n",
       "      <td>2</td>\n",
       "      <td>0.937923</td>\n",
       "      <td>0</td>\n",
       "    </tr>\n",
       "    <tr>\n",
       "      <th>3</th>\n",
       "      <td>3</td>\n",
       "      <td>0.933961</td>\n",
       "      <td>0</td>\n",
       "    </tr>\n",
       "    <tr>\n",
       "      <th>4</th>\n",
       "      <td>4</td>\n",
       "      <td>0.919518</td>\n",
       "      <td>0</td>\n",
       "    </tr>\n",
       "  </tbody>\n",
       "</table>\n",
       "</div>"
      ],
      "text/plain": [
       "   sample_id  buy_quantity  sell_time\n",
       "0          0      0.934824          0\n",
       "1          1      0.941020          0\n",
       "2          2      0.937923          0\n",
       "3          3      0.933961          0\n",
       "4          4      0.919518          0"
      ]
     },
     "execution_count": 25,
     "metadata": {},
     "output_type": "execute_result"
    }
   ],
   "source": [
    "submission.head()"
   ]
  },
  {
   "cell_type": "code",
   "execution_count": 26,
   "metadata": {},
   "outputs": [],
   "source": [
    "submission.to_csv('sample_lstm.csv',index=False)"
   ]
  },
  {
   "cell_type": "markdown",
   "metadata": {},
   "source": [
    "## Visualize result"
   ]
  },
  {
   "cell_type": "code",
   "execution_count": 108,
   "metadata": {},
   "outputs": [],
   "source": [
    "def plot_series(x_series, y_series):\n",
    "    #입력 series와 출력 series를 연속적으로 연결하여 시각적으로 보여주는 코드 입니다.\n",
    "    plt.plot(x_series, label = 'input_series')\n",
    "    plt.plot(np.arange(len(x_series), len(x_series)+len(y_series)),\n",
    "             y_series, label = 'output_series')\n",
    "    # plt.axhline(1, c = 'red')\n",
    "    plt.legend()\n"
   ]
  },
  {
   "cell_type": "code",
   "execution_count": null,
   "metadata": {},
   "outputs": [],
   "source": []
  }
 ],
 "metadata": {
  "kernelspec": {
   "display_name": "Python 3",
   "language": "python",
   "name": "python3"
  },
  "language_info": {
   "codemirror_mode": {
    "name": "ipython",
    "version": 3
   },
   "file_extension": ".py",
   "mimetype": "text/x-python",
   "name": "python",
   "nbconvert_exporter": "python",
   "pygments_lexer": "ipython3",
   "version": "3.6.10"
  }
 },
 "nbformat": 4,
 "nbformat_minor": 4
}
