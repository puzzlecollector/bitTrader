{
 "cells": [
  {
   "cell_type": "markdown",
   "metadata": {},
   "source": [
    "## Load dataset"
   ]
  },
  {
   "cell_type": "code",
   "execution_count": 15,
   "metadata": {},
   "outputs": [],
   "source": [
    "import numpy as np \n",
    "import pandas as pd \n",
    "from tensorflow.keras.models import *\n",
    "from tensorflow.keras.layers import *  \n",
    "from tensorflow.keras.callbacks import *\n",
    "import torch \n",
    "import torch.nn as nn\n",
    "from tqdm import tqdm\n",
    "import time\n",
    "import random\n",
    "import math\n",
    "from matplotlib import pyplot\n",
    "from sklearn.preprocessing import StandardScaler\n",
    "torch.manual_seed(0)\n",
    "np.random.seed(0)\n"
   ]
  },
  {
   "cell_type": "code",
   "execution_count": 2,
   "metadata": {},
   "outputs": [],
   "source": [
    "train_x = pd.read_csv('train_x_df.csv') \n",
    "train_y = pd.read_csv('train_y_df.csv') \n",
    "test_x = pd.read_csv('test_x_df.csv')\n",
    "submission = pd.read_csv('sample_submission.csv')"
   ]
  },
  {
   "cell_type": "code",
   "execution_count": 3,
   "metadata": {},
   "outputs": [
    {
     "data": {
      "text/html": [
       "<div>\n",
       "<style scoped>\n",
       "    .dataframe tbody tr th:only-of-type {\n",
       "        vertical-align: middle;\n",
       "    }\n",
       "\n",
       "    .dataframe tbody tr th {\n",
       "        vertical-align: top;\n",
       "    }\n",
       "\n",
       "    .dataframe thead th {\n",
       "        text-align: right;\n",
       "    }\n",
       "</style>\n",
       "<table border=\"1\" class=\"dataframe\">\n",
       "  <thead>\n",
       "    <tr style=\"text-align: right;\">\n",
       "      <th></th>\n",
       "      <th>sample_id</th>\n",
       "      <th>time</th>\n",
       "      <th>coin_index</th>\n",
       "      <th>open</th>\n",
       "      <th>high</th>\n",
       "      <th>low</th>\n",
       "      <th>close</th>\n",
       "      <th>volume</th>\n",
       "      <th>quote_av</th>\n",
       "      <th>trades</th>\n",
       "      <th>tb_base_av</th>\n",
       "      <th>tb_quote_av</th>\n",
       "    </tr>\n",
       "  </thead>\n",
       "  <tbody>\n",
       "    <tr>\n",
       "      <th>0</th>\n",
       "      <td>0</td>\n",
       "      <td>0</td>\n",
       "      <td>7</td>\n",
       "      <td>1.010004</td>\n",
       "      <td>1.010004</td>\n",
       "      <td>1.009612</td>\n",
       "      <td>1.010004</td>\n",
       "      <td>8.382875e+05</td>\n",
       "      <td>43160.632812</td>\n",
       "      <td>451.157288</td>\n",
       "      <td>7.326834e+05</td>\n",
       "      <td>37725.183594</td>\n",
       "    </tr>\n",
       "    <tr>\n",
       "      <th>1</th>\n",
       "      <td>0</td>\n",
       "      <td>1</td>\n",
       "      <td>7</td>\n",
       "      <td>1.009808</td>\n",
       "      <td>1.009808</td>\n",
       "      <td>1.009808</td>\n",
       "      <td>1.009808</td>\n",
       "      <td>1.622420e+05</td>\n",
       "      <td>8352.220703</td>\n",
       "      <td>39.231071</td>\n",
       "      <td>0.000000e+00</td>\n",
       "      <td>0.000000</td>\n",
       "    </tr>\n",
       "    <tr>\n",
       "      <th>2</th>\n",
       "      <td>0</td>\n",
       "      <td>2</td>\n",
       "      <td>7</td>\n",
       "      <td>1.009808</td>\n",
       "      <td>1.010200</td>\n",
       "      <td>1.009808</td>\n",
       "      <td>1.010200</td>\n",
       "      <td>1.664967e+04</td>\n",
       "      <td>857.377808</td>\n",
       "      <td>58.846603</td>\n",
       "      <td>1.664967e+04</td>\n",
       "      <td>857.377808</td>\n",
       "    </tr>\n",
       "    <tr>\n",
       "      <th>3</th>\n",
       "      <td>0</td>\n",
       "      <td>3</td>\n",
       "      <td>7</td>\n",
       "      <td>1.010200</td>\n",
       "      <td>1.011181</td>\n",
       "      <td>1.010200</td>\n",
       "      <td>1.011181</td>\n",
       "      <td>2.586971e+06</td>\n",
       "      <td>133310.343750</td>\n",
       "      <td>431.541779</td>\n",
       "      <td>2.189147e+06</td>\n",
       "      <td>112811.046875</td>\n",
       "    </tr>\n",
       "    <tr>\n",
       "      <th>4</th>\n",
       "      <td>0</td>\n",
       "      <td>4</td>\n",
       "      <td>7</td>\n",
       "      <td>1.010985</td>\n",
       "      <td>1.010985</td>\n",
       "      <td>1.010200</td>\n",
       "      <td>1.010200</td>\n",
       "      <td>1.129996e+06</td>\n",
       "      <td>58216.867188</td>\n",
       "      <td>176.539810</td>\n",
       "      <td>0.000000e+00</td>\n",
       "      <td>0.000000</td>\n",
       "    </tr>\n",
       "  </tbody>\n",
       "</table>\n",
       "</div>"
      ],
      "text/plain": [
       "   sample_id  time  coin_index      open      high       low     close  \\\n",
       "0          0     0           7  1.010004  1.010004  1.009612  1.010004   \n",
       "1          0     1           7  1.009808  1.009808  1.009808  1.009808   \n",
       "2          0     2           7  1.009808  1.010200  1.009808  1.010200   \n",
       "3          0     3           7  1.010200  1.011181  1.010200  1.011181   \n",
       "4          0     4           7  1.010985  1.010985  1.010200  1.010200   \n",
       "\n",
       "         volume       quote_av      trades    tb_base_av    tb_quote_av  \n",
       "0  8.382875e+05   43160.632812  451.157288  7.326834e+05   37725.183594  \n",
       "1  1.622420e+05    8352.220703   39.231071  0.000000e+00       0.000000  \n",
       "2  1.664967e+04     857.377808   58.846603  1.664967e+04     857.377808  \n",
       "3  2.586971e+06  133310.343750  431.541779  2.189147e+06  112811.046875  \n",
       "4  1.129996e+06   58216.867188  176.539810  0.000000e+00       0.000000  "
      ]
     },
     "execution_count": 3,
     "metadata": {},
     "output_type": "execute_result"
    }
   ],
   "source": [
    "train_x.head()"
   ]
  },
  {
   "cell_type": "code",
   "execution_count": 4,
   "metadata": {},
   "outputs": [
    {
     "data": {
      "text/html": [
       "<div>\n",
       "<style scoped>\n",
       "    .dataframe tbody tr th:only-of-type {\n",
       "        vertical-align: middle;\n",
       "    }\n",
       "\n",
       "    .dataframe tbody tr th {\n",
       "        vertical-align: top;\n",
       "    }\n",
       "\n",
       "    .dataframe thead th {\n",
       "        text-align: right;\n",
       "    }\n",
       "</style>\n",
       "<table border=\"1\" class=\"dataframe\">\n",
       "  <thead>\n",
       "    <tr style=\"text-align: right;\">\n",
       "      <th></th>\n",
       "      <th>sample_id</th>\n",
       "      <th>time</th>\n",
       "      <th>coin_index</th>\n",
       "      <th>open</th>\n",
       "      <th>high</th>\n",
       "      <th>low</th>\n",
       "      <th>close</th>\n",
       "      <th>volume</th>\n",
       "      <th>quote_av</th>\n",
       "      <th>trades</th>\n",
       "      <th>tb_base_av</th>\n",
       "      <th>tb_quote_av</th>\n",
       "    </tr>\n",
       "  </thead>\n",
       "  <tbody>\n",
       "    <tr>\n",
       "      <th>0</th>\n",
       "      <td>0</td>\n",
       "      <td>0</td>\n",
       "      <td>7</td>\n",
       "      <td>1.000392</td>\n",
       "      <td>1.000588</td>\n",
       "      <td>1.000392</td>\n",
       "      <td>1.000588</td>\n",
       "      <td>8.305119e+05</td>\n",
       "      <td>42356.179688</td>\n",
       "      <td>137.308746</td>\n",
       "      <td>8.305119e+05</td>\n",
       "      <td>42356.179688</td>\n",
       "    </tr>\n",
       "    <tr>\n",
       "      <th>1</th>\n",
       "      <td>0</td>\n",
       "      <td>1</td>\n",
       "      <td>7</td>\n",
       "      <td>1.000588</td>\n",
       "      <td>1.001177</td>\n",
       "      <td>1.000392</td>\n",
       "      <td>1.001177</td>\n",
       "      <td>5.320066e+05</td>\n",
       "      <td>27140.638672</td>\n",
       "      <td>294.233032</td>\n",
       "      <td>4.882738e+05</td>\n",
       "      <td>24909.861328</td>\n",
       "    </tr>\n",
       "    <tr>\n",
       "      <th>2</th>\n",
       "      <td>0</td>\n",
       "      <td>2</td>\n",
       "      <td>7</td>\n",
       "      <td>1.001177</td>\n",
       "      <td>1.001177</td>\n",
       "      <td>1.001177</td>\n",
       "      <td>1.001177</td>\n",
       "      <td>5.113770e+05</td>\n",
       "      <td>26100.681641</td>\n",
       "      <td>58.846603</td>\n",
       "      <td>5.113770e+05</td>\n",
       "      <td>26100.681641</td>\n",
       "    </tr>\n",
       "    <tr>\n",
       "      <th>3</th>\n",
       "      <td>0</td>\n",
       "      <td>3</td>\n",
       "      <td>7</td>\n",
       "      <td>1.001177</td>\n",
       "      <td>1.001373</td>\n",
       "      <td>1.001177</td>\n",
       "      <td>1.001373</td>\n",
       "      <td>1.134853e+06</td>\n",
       "      <td>57929.410156</td>\n",
       "      <td>137.308746</td>\n",
       "      <td>1.095514e+06</td>\n",
       "      <td>55921.156250</td>\n",
       "    </tr>\n",
       "    <tr>\n",
       "      <th>4</th>\n",
       "      <td>0</td>\n",
       "      <td>4</td>\n",
       "      <td>7</td>\n",
       "      <td>1.000981</td>\n",
       "      <td>1.000981</td>\n",
       "      <td>0.999804</td>\n",
       "      <td>1.000196</td>\n",
       "      <td>5.801173e+06</td>\n",
       "      <td>295872.343750</td>\n",
       "      <td>666.928162</td>\n",
       "      <td>9.911239e+05</td>\n",
       "      <td>50528.589844</td>\n",
       "    </tr>\n",
       "  </tbody>\n",
       "</table>\n",
       "</div>"
      ],
      "text/plain": [
       "   sample_id  time  coin_index      open      high       low     close  \\\n",
       "0          0     0           7  1.000392  1.000588  1.000392  1.000588   \n",
       "1          0     1           7  1.000588  1.001177  1.000392  1.001177   \n",
       "2          0     2           7  1.001177  1.001177  1.001177  1.001177   \n",
       "3          0     3           7  1.001177  1.001373  1.001177  1.001373   \n",
       "4          0     4           7  1.000981  1.000981  0.999804  1.000196   \n",
       "\n",
       "         volume       quote_av      trades    tb_base_av   tb_quote_av  \n",
       "0  8.305119e+05   42356.179688  137.308746  8.305119e+05  42356.179688  \n",
       "1  5.320066e+05   27140.638672  294.233032  4.882738e+05  24909.861328  \n",
       "2  5.113770e+05   26100.681641   58.846603  5.113770e+05  26100.681641  \n",
       "3  1.134853e+06   57929.410156  137.308746  1.095514e+06  55921.156250  \n",
       "4  5.801173e+06  295872.343750  666.928162  9.911239e+05  50528.589844  "
      ]
     },
     "execution_count": 4,
     "metadata": {},
     "output_type": "execute_result"
    }
   ],
   "source": [
    "train_y.head()"
   ]
  },
  {
   "cell_type": "code",
   "execution_count": 5,
   "metadata": {},
   "outputs": [
    {
     "data": {
      "text/plain": [
       "((10159560, 12), (883440, 12), (730020, 12), (529, 3))"
      ]
     },
     "execution_count": 5,
     "metadata": {},
     "output_type": "execute_result"
    }
   ],
   "source": [
    "train_x.shape, train_y.shape, test_x.shape, submission.shape "
   ]
  },
  {
   "cell_type": "code",
   "execution_count": 6,
   "metadata": {},
   "outputs": [
    {
     "data": {
      "text/plain": [
       "((7362, 1380, 10), (7362, 120, 10), (529, 1380, 10))"
      ]
     },
     "execution_count": 6,
     "metadata": {},
     "output_type": "execute_result"
    }
   ],
   "source": [
    "def df2d_to_array3d(df_2d):\n",
    "    feature_size = df_2d.iloc[:,2:].shape[1]\n",
    "    time_size = len(df_2d.time.value_counts())\n",
    "    sample_size = len(df_2d.sample_id.value_counts())\n",
    "    array_3d = df_2d.iloc[:,2:].values.reshape([sample_size, time_size, feature_size])\n",
    "    return array_3d\n",
    "\n",
    "\n",
    "x_train = df2d_to_array3d(train_x) \n",
    "y_train = df2d_to_array3d(train_y) \n",
    "x_test = df2d_to_array3d(test_x) \n",
    "\n",
    "x_train.shape, y_train.shape, x_test.shape"
   ]
  },
  {
   "cell_type": "code",
   "execution_count": 8,
   "metadata": {},
   "outputs": [
    {
     "name": "stderr",
     "output_type": "stream",
     "text": [
      "100%|██████████| 10/10 [00:01<00:00,  6.91it/s]\n"
     ]
    }
   ],
   "source": [
    "scaling_values = [] \n",
    "\n",
    "## standardize column by column \n",
    "for i in tqdm(range(x_train.shape[2]), position = 0, leave = True): \n",
    "    full_data = np.concatenate([x_train[:,:,i], y_train[:,:,i]], axis = 1) \n",
    "    mu = np.mean(full_data) \n",
    "    std = np.std(full_data) \n",
    "    x_train[:,:,i] = (x_train[:,:,i] - mu)/std \n",
    "    y_train[:,:,i] = (y_train[:,:,i] - mu)/std\n",
    "    x_test[:,:,i] = (x_test[:,:,i] - mu)/std \n",
    "    scaling_values.append((mu, std))      \n",
    "    \n"
   ]
  },
  {
   "cell_type": "code",
   "execution_count": 9,
   "metadata": {},
   "outputs": [],
   "source": [
    "y_train_close = y_train[:,:,4] # close index is the 4th column  \n",
    "x_train_close = x_train[:,:,4].reshape((-1,1380)) \n",
    "x_test_close = x_test[:,:,4].reshape((-1,1380))   "
   ]
  },
  {
   "cell_type": "code",
   "execution_count": 10,
   "metadata": {},
   "outputs": [
    {
     "data": {
      "text/plain": [
       "((7362, 1380), (7362, 120), (529, 1380))"
      ]
     },
     "execution_count": 10,
     "metadata": {},
     "output_type": "execute_result"
    }
   ],
   "source": [
    "x_train_close.shape, y_train_close.shape, x_test_close.shape "
   ]
  },
  {
   "cell_type": "code",
   "execution_count": 11,
   "metadata": {},
   "outputs": [],
   "source": [
    "buy_quantities = [] # either 0 or 1 \n",
    "sell_times = [] # when to sell i.e. when the close price reaches the highest point in the next 2 hours.  \n",
    "\n",
    "for i in range(y_train_close.shape[0]):\n",
    "#    sell_time = np.argmax(y_train_close[i,:])\n",
    "#    sell_times.append(sell_time)\n",
    "    win_count = 0\n",
    "    for t in range(0, len(y_train_close[i])):\n",
    "        if y_train_close[i][t] > x_train_close[i,-1]:\n",
    "            win_count += 1\n",
    "    win_count_threshold = int(len(y_train_close[i])*0.5)\n",
    "    if win_count >= win_count_threshold:\n",
    "        buy_quantities.append(1.0)\n",
    "        sell_time = np.argmax(y_train_close[i,:])\n",
    "        sell_times.append(sell_time)\n",
    "    else:\n",
    "        buy_quantities.append(0.0)\n",
    "        sell_times.append(0)\n",
    "\n",
    "buy_quantities = np.asarray(buy_quantities).reshape((-1,1))\n",
    "sell_times = np.asarray(sell_times).reshape((-1,1))"
   ]
  },
  {
   "cell_type": "markdown",
   "metadata": {},
   "source": [
    "## Define model"
   ]
  },
  {
   "cell_type": "code",
   "execution_count": 12,
   "metadata": {},
   "outputs": [],
   "source": [
    "def buy_quantity_LSTM(): \n",
    "    inputs = Input((1380,10)) # better to use all 10 features I think\n",
    "    bn = BatchNormalization()(inputs) \n",
    "    lstm = Bidirectional(LSTM(128, return_sequences = True))(bn) \n",
    "    lstm = Dropout(0.25)(lstm) \n",
    "    lstm = Bidirectional(LSTM(128, return_sequences = False))(lstm) \n",
    "    lstm = Dropout(0.25)(lstm) \n",
    "    dense = Dense(64, activation = 'relu')(lstm) \n",
    "    dense = BatchNormalization()(dense) \n",
    "    outputs = Dense(1, activation = 'sigmoid')(dense) \n",
    "    model = Model(inputs=inputs,outputs=outputs) \n",
    "    model.compile(loss='binary_crossentropy', optimizer = 'adam') \n",
    "    return model \n",
    "\n",
    "\n",
    "def sell_time_LSTM():\n",
    "    inputs = Input((1380,10)) \n",
    "    bn = BatchNormalization()(inputs)\n",
    "    lstm = Bidirectional(LSTM(128, return_sequences = True))(bn) \n",
    "    lstm = Dropout(0.25)(lstm) \n",
    "    lstm = Bidirectional(LSTM(128, return_sequences = False))(lstm) \n",
    "    lstm = Dropout(0.25)(lstm) \n",
    "    dense = Dense(64, activation = 'relu')(lstm) \n",
    "    dense = BatchNormalization()(dense) \n",
    "    outputs = Dense(120, activation = 'softmax')(dense) \n",
    "    model = Model(inputs=inputs,outputs=outputs) \n",
    "    model.compile(loss='sparse_categorical_crossentropy', optimizer = 'adam') \n",
    "    return model "
   ]
  },
  {
   "cell_type": "code",
   "execution_count": 13,
   "metadata": {},
   "outputs": [],
   "source": [
    "model_bq = buy_quantity_LSTM() \n",
    "model_st = sell_time_LSTM() "
   ]
  },
  {
   "cell_type": "markdown",
   "metadata": {},
   "source": [
    "## Train buy quantity model "
   ]
  },
  {
   "cell_type": "code",
   "execution_count": null,
   "metadata": {},
   "outputs": [
    {
     "name": "stdout",
     "output_type": "stream",
     "text": [
      "Epoch 1/200\n",
      "185/185 [==============================] - 75s 332ms/step - loss: 0.5670 - val_loss: 0.1807\n",
      "\n",
      "Epoch 00001: val_loss improved from inf to 0.18072, saving model to bq_LSTM_epoch_001_val_0.181.h5\n",
      "Epoch 2/200\n",
      "185/185 [==============================] - 52s 283ms/step - loss: 0.1689 - val_loss: 0.0839\n",
      "\n",
      "Epoch 00002: val_loss improved from 0.18072 to 0.08389, saving model to bq_LSTM_epoch_002_val_0.084.h5\n",
      "Epoch 3/200\n",
      "185/185 [==============================] - 50s 273ms/step - loss: 0.0874 - val_loss: 0.0467\n",
      "\n",
      "Epoch 00003: val_loss improved from 0.08389 to 0.04666, saving model to bq_LSTM_epoch_003_val_0.047.h5\n",
      "Epoch 4/200\n",
      "185/185 [==============================] - 52s 279ms/step - loss: 0.0727 - val_loss: 0.0630\n",
      "\n",
      "Epoch 00004: val_loss did not improve from 0.04666\n",
      "Epoch 5/200\n",
      "185/185 [==============================] - 50s 270ms/step - loss: 0.0820 - val_loss: 0.0613\n",
      "\n",
      "Epoch 00005: ReduceLROnPlateau reducing learning rate to 0.0005000000237487257.\n",
      "\n",
      "Epoch 00005: val_loss did not improve from 0.04666\n",
      "Epoch 6/200\n",
      "185/185 [==============================] - 52s 280ms/step - loss: 0.0569 - val_loss: 0.0339\n",
      "\n",
      "Epoch 00006: val_loss improved from 0.04666 to 0.03387, saving model to bq_LSTM_epoch_006_val_0.034.h5\n",
      "Epoch 7/200\n",
      "185/185 [==============================] - 51s 275ms/step - loss: 0.0498 - val_loss: 0.0303\n",
      "\n",
      "Epoch 00007: val_loss improved from 0.03387 to 0.03031, saving model to bq_LSTM_epoch_007_val_0.030.h5\n",
      "Epoch 8/200\n",
      "185/185 [==============================] - 51s 274ms/step - loss: 0.0525 - val_loss: 0.0341\n",
      "\n",
      "Epoch 00008: val_loss did not improve from 0.03031\n",
      "Epoch 9/200\n",
      "185/185 [==============================] - 53s 285ms/step - loss: 0.0525 - val_loss: 0.0313\n",
      "\n",
      "Epoch 00009: ReduceLROnPlateau reducing learning rate to 0.0002500000118743628.\n",
      "\n",
      "Epoch 00009: val_loss did not improve from 0.03031\n",
      "Epoch 10/200\n",
      " 73/185 [==========>...................] - ETA: 28s - loss: 0.0569"
     ]
    }
   ],
   "source": [
    "model_path = 'bq_LSTM_epoch_{epoch:03d}_val_{val_loss:.3f}.h5'\n",
    "learning_rate_reduction = ReduceLROnPlateau(monitor = 'val_loss', patience = 2, verbose = 1, factor = 0.5)\n",
    "checkpoint = ModelCheckpoint(filepath = model_path, monitor = 'val_loss', verbose = 1, save_best_only = True)\n",
    "early_stopping = EarlyStopping(monitor = 'val_loss', patience = 10) \n",
    "history = model_bq.fit(x_train,\n",
    "                       buy_quantities,\n",
    "                       epochs = 200,\n",
    "                       batch_size = 32,\n",
    "                       validation_split = 0.2,\n",
    "                       callbacks = [learning_rate_reduction, checkpoint, early_stopping]) "
   ]
  },
  {
   "cell_type": "markdown",
   "metadata": {},
   "source": [
    "## Train sell time model"
   ]
  },
  {
   "cell_type": "code",
   "execution_count": null,
   "metadata": {},
   "outputs": [
    {
     "name": "stdout",
     "output_type": "stream",
     "text": [
      "Epoch 1/200\n",
      "185/185 [==============================] - 71s 316ms/step - loss: 4.7709 - val_loss: 3.6280\n",
      "\n",
      "Epoch 00001: val_loss improved from inf to 3.62800, saving model to st_LSTM_epoch_001_val_3.628.h5\n",
      "Epoch 2/200\n",
      "185/185 [==============================] - 50s 272ms/step - loss: 3.3196 - val_loss: 3.1044\n",
      "\n",
      "Epoch 00002: val_loss improved from 3.62800 to 3.10442, saving model to st_LSTM_epoch_002_val_3.104.h5\n",
      "Epoch 3/200\n",
      "185/185 [==============================] - 50s 269ms/step - loss: 3.0219 - val_loss: 3.1218\n",
      "\n",
      "Epoch 00003: val_loss did not improve from 3.10442\n",
      "Epoch 4/200\n",
      "185/185 [==============================] - 50s 271ms/step - loss: 2.9965 - val_loss: 3.0848\n",
      "\n",
      "Epoch 00004: val_loss improved from 3.10442 to 3.08479, saving model to st_LSTM_epoch_004_val_3.085.h5\n",
      "Epoch 5/200\n",
      "  4/185 [..............................] - ETA: 43s - loss: 3.2124"
     ]
    }
   ],
   "source": [
    "model_path = 'st_LSTM_epoch_{epoch:03d}_val_{val_loss:.3f}.h5'\n",
    "learning_rate_reduction = ReduceLROnPlateau(monitor = 'val_loss', patience = 2, verbose = 1, factor = 0.5)\n",
    "checkpoint = ModelCheckpoint(filepath = model_path, monitor = 'val_loss', verbose = 1, save_best_only = True)\n",
    "early_stopping = EarlyStopping(monitor = 'val_loss', patience = 10) \n",
    "history = model_st.fit(x_train,\n",
    "                       sell_times,\n",
    "                       epochs = 200,\n",
    "                       batch_size = 32,\n",
    "                       validation_split = 0.2, \n",
    "                       callbacks = [learning_rate_reduction, checkpoint, early_stopping]) "
   ]
  },
  {
   "cell_type": "markdown",
   "metadata": {},
   "source": [
    "## Make Prediction"
   ]
  },
  {
   "cell_type": "code",
   "execution_count": 17,
   "metadata": {},
   "outputs": [],
   "source": [
    "best_bq = load_model('bq_LSTM_epoch_018_val_0.022.h5') \n",
    "best_st = load_model('st_LSTM_epoch_006_val_3.069.h5')"
   ]
  },
  {
   "cell_type": "code",
   "execution_count": 18,
   "metadata": {},
   "outputs": [],
   "source": [
    "predicted_bq = best_bq.predict(x_test)"
   ]
  },
  {
   "cell_type": "code",
   "execution_count": 19,
   "metadata": {},
   "outputs": [],
   "source": [
    "predicted_st = best_st.predict(x_test)"
   ]
  },
  {
   "cell_type": "code",
   "execution_count": 20,
   "metadata": {},
   "outputs": [],
   "source": [
    "exact_times = []\n",
    "for sell_time in predicted_st: \n",
    "    exact_times.append(np.argmax(sell_time))"
   ]
  },
  {
   "cell_type": "code",
   "execution_count": 21,
   "metadata": {},
   "outputs": [],
   "source": [
    "exact_times = np.asarray(exact_times)"
   ]
  },
  {
   "cell_type": "code",
   "execution_count": 22,
   "metadata": {},
   "outputs": [],
   "source": [
    "submission.iloc[:,1] = predicted_bq \n",
    "submission.iloc[:,2] = exact_times"
   ]
  },
  {
   "cell_type": "code",
   "execution_count": 24,
   "metadata": {},
   "outputs": [
    {
     "data": {
      "text/html": [
       "<div>\n",
       "<style scoped>\n",
       "    .dataframe tbody tr th:only-of-type {\n",
       "        vertical-align: middle;\n",
       "    }\n",
       "\n",
       "    .dataframe tbody tr th {\n",
       "        vertical-align: top;\n",
       "    }\n",
       "\n",
       "    .dataframe thead th {\n",
       "        text-align: right;\n",
       "    }\n",
       "</style>\n",
       "<table border=\"1\" class=\"dataframe\">\n",
       "  <thead>\n",
       "    <tr style=\"text-align: right;\">\n",
       "      <th></th>\n",
       "      <th>sample_id</th>\n",
       "      <th>buy_quantity</th>\n",
       "      <th>sell_time</th>\n",
       "    </tr>\n",
       "  </thead>\n",
       "  <tbody>\n",
       "    <tr>\n",
       "      <th>0</th>\n",
       "      <td>0</td>\n",
       "      <td>0.999779</td>\n",
       "      <td>0</td>\n",
       "    </tr>\n",
       "    <tr>\n",
       "      <th>1</th>\n",
       "      <td>1</td>\n",
       "      <td>0.999002</td>\n",
       "      <td>0</td>\n",
       "    </tr>\n",
       "    <tr>\n",
       "      <th>2</th>\n",
       "      <td>2</td>\n",
       "      <td>0.999143</td>\n",
       "      <td>0</td>\n",
       "    </tr>\n",
       "    <tr>\n",
       "      <th>3</th>\n",
       "      <td>3</td>\n",
       "      <td>0.999407</td>\n",
       "      <td>0</td>\n",
       "    </tr>\n",
       "    <tr>\n",
       "      <th>4</th>\n",
       "      <td>4</td>\n",
       "      <td>0.999646</td>\n",
       "      <td>0</td>\n",
       "    </tr>\n",
       "    <tr>\n",
       "      <th>...</th>\n",
       "      <td>...</td>\n",
       "      <td>...</td>\n",
       "      <td>...</td>\n",
       "    </tr>\n",
       "    <tr>\n",
       "      <th>524</th>\n",
       "      <td>524</td>\n",
       "      <td>0.997583</td>\n",
       "      <td>0</td>\n",
       "    </tr>\n",
       "    <tr>\n",
       "      <th>525</th>\n",
       "      <td>525</td>\n",
       "      <td>0.999038</td>\n",
       "      <td>0</td>\n",
       "    </tr>\n",
       "    <tr>\n",
       "      <th>526</th>\n",
       "      <td>526</td>\n",
       "      <td>0.999740</td>\n",
       "      <td>0</td>\n",
       "    </tr>\n",
       "    <tr>\n",
       "      <th>527</th>\n",
       "      <td>527</td>\n",
       "      <td>0.998601</td>\n",
       "      <td>0</td>\n",
       "    </tr>\n",
       "    <tr>\n",
       "      <th>528</th>\n",
       "      <td>528</td>\n",
       "      <td>0.924024</td>\n",
       "      <td>0</td>\n",
       "    </tr>\n",
       "  </tbody>\n",
       "</table>\n",
       "<p>529 rows × 3 columns</p>\n",
       "</div>"
      ],
      "text/plain": [
       "     sample_id  buy_quantity  sell_time\n",
       "0            0      0.999779          0\n",
       "1            1      0.999002          0\n",
       "2            2      0.999143          0\n",
       "3            3      0.999407          0\n",
       "4            4      0.999646          0\n",
       "..         ...           ...        ...\n",
       "524        524      0.997583          0\n",
       "525        525      0.999038          0\n",
       "526        526      0.999740          0\n",
       "527        527      0.998601          0\n",
       "528        528      0.924024          0\n",
       "\n",
       "[529 rows x 3 columns]"
      ]
     },
     "execution_count": 24,
     "metadata": {},
     "output_type": "execute_result"
    }
   ],
   "source": [
    "submission"
   ]
  },
  {
   "cell_type": "code",
   "execution_count": 25,
   "metadata": {},
   "outputs": [],
   "source": [
    "submission.to_csv('lstm_threshold.csv',index=False)"
   ]
  },
  {
   "cell_type": "markdown",
   "metadata": {},
   "source": [
    "## Visualize result"
   ]
  },
  {
   "cell_type": "code",
   "execution_count": 108,
   "metadata": {},
   "outputs": [],
   "source": [
    "def plot_series(x_series, y_series):\n",
    "    #입력 series와 출력 series를 연속적으로 연결하여 시각적으로 보여주는 코드 입니다.\n",
    "    plt.plot(x_series, label = 'input_series')\n",
    "    plt.plot(np.arange(len(x_series), len(x_series)+len(y_series)),\n",
    "             y_series, label = 'output_series')\n",
    "    # plt.axhline(1, c = 'red')\n",
    "    plt.legend()\n"
   ]
  },
  {
   "cell_type": "code",
   "execution_count": null,
   "metadata": {},
   "outputs": [],
   "source": []
  }
 ],
 "metadata": {
  "kernelspec": {
   "display_name": "Python 3",
   "language": "python",
   "name": "python3"
  },
  "language_info": {
   "codemirror_mode": {
    "name": "ipython",
    "version": 3
   },
   "file_extension": ".py",
   "mimetype": "text/x-python",
   "name": "python",
   "nbconvert_exporter": "python",
   "pygments_lexer": "ipython3",
   "version": "3.6.10"
  }
 },
 "nbformat": 4,
 "nbformat_minor": 4
}
